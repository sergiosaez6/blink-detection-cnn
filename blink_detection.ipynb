{
  "cells": [
    {
      "attachments": {},
      "cell_type": "markdown",
      "metadata": {
        "id": "W43vhS-mQCf2"
      },
      "source": [
        "# Deep Learning\n",
        "\n",
        "# Blink detection"
      ]
    },
    {
      "cell_type": "markdown",
      "metadata": {
        "id": "rDSz5ZZEGK-m"
      },
      "source": [
        "### 1. PRIMERA APROXIMACIÓN\n",
        "\n",
        "CNN desde cero"
      ]
    },
    {
      "cell_type": "markdown",
      "metadata": {
        "id": "481imW1oQTY7"
      },
      "source": [
        "### 1. Importar librerías\n",
        "Lo primero que vamos a hacer es cargar las librería necesarias: TensorFlow y Keras (The Python Deep Learning library).\n"
      ]
    },
    {
      "cell_type": "code",
      "execution_count": null,
      "metadata": {
        "id": "N9egJT9OQuBt",
        "vscode": {
          "languageId": "python"
        }
      },
      "outputs": [],
      "source": [
        "import numpy as np\n",
        "import matplotlib.pyplot as plt\n",
        "\n",
        "import tensorflow as tf\n",
        "from tensorflow import keras\n",
        "\n",
        "from tensorflow.keras import applications\n",
        "from tensorflow.keras import optimizers\n",
        "from tensorflow.keras.models import Model, load_model\n",
        "from tensorflow.keras.layers import Input, GlobalAveragePooling2D, Dense, Conv2D, MaxPooling2D, Flatten, Dropout, Concatenate, BatchNormalization, ReLU\n",
        "\n",
        "from google.colab import drive\n",
        "from sklearn.model_selection import train_test_split\n",
        "\n",
        "import pandas as pd\n",
        "from keras.preprocessing.image import ImageDataGenerator"
      ]
    },
    {
      "cell_type": "code",
      "execution_count": null,
      "metadata": {
        "colab": {
          "base_uri": "https://localhost:8080/",
          "height": 35
        },
        "id": "q1B3l0LdsIkn",
        "outputId": "f21632fd-406a-439b-a7db-b5ceb8e4a5fa",
        "vscode": {
          "languageId": "python"
        }
      },
      "outputs": [
        {
          "data": {
            "application/vnd.google.colaboratory.intrinsic+json": {
              "type": "string"
            },
            "text/plain": [
              "'/device:GPU:0'"
            ]
          },
          "execution_count": 79,
          "metadata": {},
          "output_type": "execute_result"
        }
      ],
      "source": [
        "tf.test.gpu_device_name()"
      ]
    },
    {
      "cell_type": "code",
      "execution_count": null,
      "metadata": {
        "colab": {
          "base_uri": "https://localhost:8080/"
        },
        "id": "RLwZb-YSsBuH",
        "outputId": "9b754b79-0533-4191-9a65-7fb9e15b2327",
        "vscode": {
          "languageId": "python"
        }
      },
      "outputs": [
        {
          "data": {
            "text/plain": [
              "[name: \"/device:CPU:0\"\n",
              " device_type: \"CPU\"\n",
              " memory_limit: 268435456\n",
              " locality {\n",
              " }\n",
              " incarnation: 5094929681199435136\n",
              " xla_global_id: -1,\n",
              " name: \"/device:GPU:0\"\n",
              " device_type: \"GPU\"\n",
              " memory_limit: 14343274496\n",
              " locality {\n",
              "   bus_id: 1\n",
              "   links {\n",
              "   }\n",
              " }\n",
              " incarnation: 14902541971209891092\n",
              " physical_device_desc: \"device: 0, name: Tesla T4, pci bus id: 0000:00:04.0, compute capability: 7.5\"\n",
              " xla_global_id: 416903419]"
            ]
          },
          "execution_count": 80,
          "metadata": {},
          "output_type": "execute_result"
        }
      ],
      "source": [
        "from tensorflow.python.client import device_lib\n",
        "device_lib.list_local_devices()"
      ]
    },
    {
      "cell_type": "code",
      "execution_count": null,
      "metadata": {
        "id": "tlpzNIGlhJzO",
        "vscode": {
          "languageId": "python"
        }
      },
      "outputs": [],
      "source": [
        "# Generador custom que devuelve las dos imagenes de ojos y el label del parpadeo\n",
        "def generator(dataframe):\n",
        "  left_eye_generator = datagen.flow_from_dataframe(dataframe=dataframe,\n",
        "                                                   directory = imgs_path,\n",
        "                                                   target_size =(img_width, img_height),\n",
        "                                                   x_col=left_eye_col,\n",
        "                                                   y_col=y_col,\n",
        "                                                   class_mode=\"binary\",\n",
        "                                                   seed=seed,\n",
        "                                                   batch_size=batch_size)\n",
        "  right_eye_generator = datagen.flow_from_dataframe(dataframe=dataframe,\n",
        "                                                    directory = imgs_path,\n",
        "                                                    target_size =(img_width, img_height),\n",
        "                                                    x_col=right_eye_col,\n",
        "                                                    y_col=y_col,\n",
        "                                                    class_mode=\"binary\",\n",
        "                                                    seed=seed,\n",
        "                                                    batch_size=batch_size)\n",
        "  while True:\n",
        "    left_eye = left_eye_generator.next()\n",
        "    left_eye_image = left_eye[0]\n",
        "    label = left_eye[1]\n",
        "    right_eye = right_eye_generator.next()\n",
        "    right_eye_image = right_eye[0]\n",
        "    yield [left_eye_image, right_eye_image], label"
      ]
    },
    {
      "cell_type": "code",
      "execution_count": null,
      "metadata": {
        "colab": {
          "base_uri": "https://localhost:8080/"
        },
        "id": "229pHB1hHK-Y",
        "outputId": "33e69574-1946-49c1-ac4e-a8b21371ef2e",
        "vscode": {
          "languageId": "python"
        }
      },
      "outputs": [
        {
          "name": "stdout",
          "output_type": "stream",
          "text": [
            "Drive already mounted at /content/gdrive; to attempt to forcibly remount, call drive.mount(\"/content/gdrive\", force_remount=True).\n"
          ]
        }
      ],
      "source": [
        "drive.mount('/content/gdrive')\n",
        "!unzip -n '/content/gdrive/MyDrive/Colab Notebooks/Deep Learning/Trabajo final/RT-BENE.zip' >> /dev/null\n",
        "\n",
        "data_path = 'RT-BENE/'\n",
        "imgs_path = data_path + 'images/'\n",
        "labels_path = data_path + 'blinks.csv'\n",
        "\n",
        "seed = 0\n",
        "\n",
        "# Actualizamos los indices de cada particion\n",
        "train_data = pd.read_csv(labels_path, dtype=str) # Reading as string so the generator does not complain about the label (numeric being considered as an index)\n",
        "'''\n",
        "no_aug_datagen = ImageDataGenerator(rescale=1./255)\n",
        "aug_datagen = ImageDataGenerator(rescale=1./255,\n",
        "                             rotation_range=40)\n",
        "'''\n",
        "\n",
        "datagen = ImageDataGenerator(rescale=1./255,\n",
        "                             rotation_range=40)"
      ]
    },
    {
      "cell_type": "code",
      "execution_count": null,
      "metadata": {
        "colab": {
          "base_uri": "https://localhost:8080/"
        },
        "id": "YrMVcb7lHQ4f",
        "outputId": "0c890b45-193d-4aec-e432-953048b44d10",
        "vscode": {
          "languageId": "python"
        }
      },
      "outputs": [
        {
          "name": "stdout",
          "output_type": "stream",
          "text": [
            "0    102793\n",
            "1      4557\n",
            "Name: blink, dtype: int64\n"
          ]
        }
      ],
      "source": [
        "print(train_data['blink'].value_counts())"
      ]
    },
    {
      "cell_type": "code",
      "execution_count": null,
      "metadata": {
        "id": "HqHvjG79set4",
        "vscode": {
          "languageId": "python"
        }
      },
      "outputs": [],
      "source": [
        "blink = train_data.loc[train_data['blink']=='1'].reset_index()\n",
        "no_blink = train_data.loc[train_data['blink']=='0'].reset_index()"
      ]
    },
    {
      "cell_type": "code",
      "execution_count": null,
      "metadata": {
        "colab": {
          "base_uri": "https://localhost:8080/"
        },
        "id": "bhANSIHetIys",
        "outputId": "21ef3d8c-4185-4332-c5e8-dcf7edf49f47",
        "vscode": {
          "languageId": "python"
        }
      },
      "outputs": [
        {
          "name": "stdout",
          "output_type": "stream",
          "text": [
            "4557\n"
          ]
        }
      ],
      "source": [
        "print(blink.shape[0])"
      ]
    },
    {
      "cell_type": "code",
      "execution_count": null,
      "metadata": {
        "colab": {
          "base_uri": "https://localhost:8080/"
        },
        "id": "b5Y6gB7Pu7kJ",
        "outputId": "776c24da-b32a-4f6f-b81a-1a8cbcfd2fbe",
        "vscode": {
          "languageId": "python"
        }
      },
      "outputs": [
        {
          "name": "stdout",
          "output_type": "stream",
          "text": [
            "102793\n"
          ]
        }
      ],
      "source": [
        "print(no_blink.shape[0])"
      ]
    },
    {
      "cell_type": "code",
      "execution_count": null,
      "metadata": {
        "id": "XQlXSDtPuoA8",
        "vscode": {
          "languageId": "python"
        }
      },
      "outputs": [],
      "source": [
        "def replicate_dataframe(dataframe, target_size):\n",
        "    num_replications = target_size // len(dataframe) + 1\n",
        "    replicated_dataframe = pd.concat([dataframe] * num_replications, ignore_index=True)\n",
        "    return replicated_dataframe[:target_size]\n",
        "\n",
        "\n",
        "blink_augmented = replicate_dataframe(blink,no_blink.shape[0])\n",
        "blink_augmented = blink_augmented.reset_index()"
      ]
    },
    {
      "cell_type": "code",
      "execution_count": null,
      "metadata": {
        "colab": {
          "base_uri": "https://localhost:8080/"
        },
        "id": "3ImXdrKAuw_0",
        "outputId": "bf0bf9b9-e195-4c26-a3a4-94042b29de69",
        "vscode": {
          "languageId": "python"
        }
      },
      "outputs": [
        {
          "name": "stdout",
          "output_type": "stream",
          "text": [
            "102793\n"
          ]
        }
      ],
      "source": [
        "print(blink_augmented.shape[0])"
      ]
    },
    {
      "cell_type": "code",
      "execution_count": null,
      "metadata": {
        "colab": {
          "base_uri": "https://localhost:8080/",
          "height": 424
        },
        "id": "oCfAQo6cuzHk",
        "outputId": "9301b1c3-c13b-455e-96ca-ba9930f75908",
        "vscode": {
          "languageId": "python"
        }
      },
      "outputs": [
        {
          "data": {
            "text/html": [
              "\n",
              "  <div id=\"df-f36d21bf-5512-44d6-aa42-ce50ab4f0abe\">\n",
              "    <div class=\"colab-df-container\">\n",
              "      <div>\n",
              "<style scoped>\n",
              "    .dataframe tbody tr th:only-of-type {\n",
              "        vertical-align: middle;\n",
              "    }\n",
              "\n",
              "    .dataframe tbody tr th {\n",
              "        vertical-align: top;\n",
              "    }\n",
              "\n",
              "    .dataframe thead th {\n",
              "        text-align: right;\n",
              "    }\n",
              "</style>\n",
              "<table border=\"1\" class=\"dataframe\">\n",
              "  <thead>\n",
              "    <tr style=\"text-align: right;\">\n",
              "      <th></th>\n",
              "      <th>level_0</th>\n",
              "      <th>index</th>\n",
              "      <th>blink_id</th>\n",
              "      <th>left_eye</th>\n",
              "      <th>right_eye</th>\n",
              "      <th>video</th>\n",
              "      <th>blink</th>\n",
              "    </tr>\n",
              "  </thead>\n",
              "  <tbody>\n",
              "    <tr>\n",
              "      <th>0</th>\n",
              "      <td>0</td>\n",
              "      <td>160</td>\n",
              "      <td>160</td>\n",
              "      <td>0_left_000161_rgb.png</td>\n",
              "      <td>0_right_000161_rgb.png</td>\n",
              "      <td>0</td>\n",
              "      <td>1</td>\n",
              "    </tr>\n",
              "    <tr>\n",
              "      <th>1</th>\n",
              "      <td>1</td>\n",
              "      <td>161</td>\n",
              "      <td>161</td>\n",
              "      <td>0_left_000162_rgb.png</td>\n",
              "      <td>0_right_000162_rgb.png</td>\n",
              "      <td>0</td>\n",
              "      <td>1</td>\n",
              "    </tr>\n",
              "    <tr>\n",
              "      <th>2</th>\n",
              "      <td>2</td>\n",
              "      <td>162</td>\n",
              "      <td>162</td>\n",
              "      <td>0_left_000163_rgb.png</td>\n",
              "      <td>0_right_000163_rgb.png</td>\n",
              "      <td>0</td>\n",
              "      <td>1</td>\n",
              "    </tr>\n",
              "    <tr>\n",
              "      <th>3</th>\n",
              "      <td>3</td>\n",
              "      <td>163</td>\n",
              "      <td>163</td>\n",
              "      <td>0_left_000164_rgb.png</td>\n",
              "      <td>0_right_000164_rgb.png</td>\n",
              "      <td>0</td>\n",
              "      <td>1</td>\n",
              "    </tr>\n",
              "    <tr>\n",
              "      <th>4</th>\n",
              "      <td>4</td>\n",
              "      <td>164</td>\n",
              "      <td>164</td>\n",
              "      <td>0_left_000165_rgb.png</td>\n",
              "      <td>0_right_000165_rgb.png</td>\n",
              "      <td>0</td>\n",
              "      <td>1</td>\n",
              "    </tr>\n",
              "    <tr>\n",
              "      <th>...</th>\n",
              "      <td>...</td>\n",
              "      <td>...</td>\n",
              "      <td>...</td>\n",
              "      <td>...</td>\n",
              "      <td>...</td>\n",
              "      <td>...</td>\n",
              "      <td>...</td>\n",
              "    </tr>\n",
              "    <tr>\n",
              "      <th>102778</th>\n",
              "      <td>102778</td>\n",
              "      <td>47864</td>\n",
              "      <td>47864</td>\n",
              "      <td>8_left_007489_rgb.png</td>\n",
              "      <td>8_right_007489_rgb.png</td>\n",
              "      <td>8</td>\n",
              "      <td>1</td>\n",
              "    </tr>\n",
              "    <tr>\n",
              "      <th>102779</th>\n",
              "      <td>102779</td>\n",
              "      <td>47865</td>\n",
              "      <td>47865</td>\n",
              "      <td>8_left_007490_rgb.png</td>\n",
              "      <td>8_right_007490_rgb.png</td>\n",
              "      <td>8</td>\n",
              "      <td>1</td>\n",
              "    </tr>\n",
              "    <tr>\n",
              "      <th>102780</th>\n",
              "      <td>102780</td>\n",
              "      <td>47866</td>\n",
              "      <td>47866</td>\n",
              "      <td>8_left_007491_rgb.png</td>\n",
              "      <td>8_right_007491_rgb.png</td>\n",
              "      <td>8</td>\n",
              "      <td>1</td>\n",
              "    </tr>\n",
              "    <tr>\n",
              "      <th>102781</th>\n",
              "      <td>102781</td>\n",
              "      <td>47867</td>\n",
              "      <td>47867</td>\n",
              "      <td>8_left_007492_rgb.png</td>\n",
              "      <td>8_right_007492_rgb.png</td>\n",
              "      <td>8</td>\n",
              "      <td>1</td>\n",
              "    </tr>\n",
              "    <tr>\n",
              "      <th>102782</th>\n",
              "      <td>102782</td>\n",
              "      <td>47868</td>\n",
              "      <td>47868</td>\n",
              "      <td>8_left_007493_rgb.png</td>\n",
              "      <td>8_right_007493_rgb.png</td>\n",
              "      <td>8</td>\n",
              "      <td>1</td>\n",
              "    </tr>\n",
              "  </tbody>\n",
              "</table>\n",
              "<p>102783 rows × 7 columns</p>\n",
              "</div>\n",
              "      <button class=\"colab-df-convert\" onclick=\"convertToInteractive('df-f36d21bf-5512-44d6-aa42-ce50ab4f0abe')\"\n",
              "              title=\"Convert this dataframe to an interactive table.\"\n",
              "              style=\"display:none;\">\n",
              "        \n",
              "  <svg xmlns=\"http://www.w3.org/2000/svg\" height=\"24px\"viewBox=\"0 0 24 24\"\n",
              "       width=\"24px\">\n",
              "    <path d=\"M0 0h24v24H0V0z\" fill=\"none\"/>\n",
              "    <path d=\"M18.56 5.44l.94 2.06.94-2.06 2.06-.94-2.06-.94-.94-2.06-.94 2.06-2.06.94zm-11 1L8.5 8.5l.94-2.06 2.06-.94-2.06-.94L8.5 2.5l-.94 2.06-2.06.94zm10 10l.94 2.06.94-2.06 2.06-.94-2.06-.94-.94-2.06-.94 2.06-2.06.94z\"/><path d=\"M17.41 7.96l-1.37-1.37c-.4-.4-.92-.59-1.43-.59-.52 0-1.04.2-1.43.59L10.3 9.45l-7.72 7.72c-.78.78-.78 2.05 0 2.83L4 21.41c.39.39.9.59 1.41.59.51 0 1.02-.2 1.41-.59l7.78-7.78 2.81-2.81c.8-.78.8-2.07 0-2.86zM5.41 20L4 18.59l7.72-7.72 1.47 1.35L5.41 20z\"/>\n",
              "  </svg>\n",
              "      </button>\n",
              "      \n",
              "  <style>\n",
              "    .colab-df-container {\n",
              "      display:flex;\n",
              "      flex-wrap:wrap;\n",
              "      gap: 12px;\n",
              "    }\n",
              "\n",
              "    .colab-df-convert {\n",
              "      background-color: #E8F0FE;\n",
              "      border: none;\n",
              "      border-radius: 50%;\n",
              "      cursor: pointer;\n",
              "      display: none;\n",
              "      fill: #1967D2;\n",
              "      height: 32px;\n",
              "      padding: 0 0 0 0;\n",
              "      width: 32px;\n",
              "    }\n",
              "\n",
              "    .colab-df-convert:hover {\n",
              "      background-color: #E2EBFA;\n",
              "      box-shadow: 0px 1px 2px rgba(60, 64, 67, 0.3), 0px 1px 3px 1px rgba(60, 64, 67, 0.15);\n",
              "      fill: #174EA6;\n",
              "    }\n",
              "\n",
              "    [theme=dark] .colab-df-convert {\n",
              "      background-color: #3B4455;\n",
              "      fill: #D2E3FC;\n",
              "    }\n",
              "\n",
              "    [theme=dark] .colab-df-convert:hover {\n",
              "      background-color: #434B5C;\n",
              "      box-shadow: 0px 1px 3px 1px rgba(0, 0, 0, 0.15);\n",
              "      filter: drop-shadow(0px 1px 2px rgba(0, 0, 0, 0.3));\n",
              "      fill: #FFFFFF;\n",
              "    }\n",
              "  </style>\n",
              "\n",
              "      <script>\n",
              "        const buttonEl =\n",
              "          document.querySelector('#df-f36d21bf-5512-44d6-aa42-ce50ab4f0abe button.colab-df-convert');\n",
              "        buttonEl.style.display =\n",
              "          google.colab.kernel.accessAllowed ? 'block' : 'none';\n",
              "\n",
              "        async function convertToInteractive(key) {\n",
              "          const element = document.querySelector('#df-f36d21bf-5512-44d6-aa42-ce50ab4f0abe');\n",
              "          const dataTable =\n",
              "            await google.colab.kernel.invokeFunction('convertToInteractive',\n",
              "                                                     [key], {});\n",
              "          if (!dataTable) return;\n",
              "\n",
              "          const docLinkHtml = 'Like what you see? Visit the ' +\n",
              "            '<a target=\"_blank\" href=https://colab.research.google.com/notebooks/data_table.ipynb>data table notebook</a>'\n",
              "            + ' to learn more about interactive tables.';\n",
              "          element.innerHTML = '';\n",
              "          dataTable['output_type'] = 'display_data';\n",
              "          await google.colab.output.renderOutput(dataTable, element);\n",
              "          const docLink = document.createElement('div');\n",
              "          docLink.innerHTML = docLinkHtml;\n",
              "          element.appendChild(docLink);\n",
              "        }\n",
              "      </script>\n",
              "    </div>\n",
              "  </div>\n",
              "  "
            ],
            "text/plain": [
              "        level_0  index blink_id               left_eye  \\\n",
              "0             0    160      160  0_left_000161_rgb.png   \n",
              "1             1    161      161  0_left_000162_rgb.png   \n",
              "2             2    162      162  0_left_000163_rgb.png   \n",
              "3             3    163      163  0_left_000164_rgb.png   \n",
              "4             4    164      164  0_left_000165_rgb.png   \n",
              "...         ...    ...      ...                    ...   \n",
              "102778   102778  47864    47864  8_left_007489_rgb.png   \n",
              "102779   102779  47865    47865  8_left_007490_rgb.png   \n",
              "102780   102780  47866    47866  8_left_007491_rgb.png   \n",
              "102781   102781  47867    47867  8_left_007492_rgb.png   \n",
              "102782   102782  47868    47868  8_left_007493_rgb.png   \n",
              "\n",
              "                     right_eye video blink  \n",
              "0       0_right_000161_rgb.png     0     1  \n",
              "1       0_right_000162_rgb.png     0     1  \n",
              "2       0_right_000163_rgb.png     0     1  \n",
              "3       0_right_000164_rgb.png     0     1  \n",
              "4       0_right_000165_rgb.png     0     1  \n",
              "...                        ...   ...   ...  \n",
              "102778  8_right_007489_rgb.png     8     1  \n",
              "102779  8_right_007490_rgb.png     8     1  \n",
              "102780  8_right_007491_rgb.png     8     1  \n",
              "102781  8_right_007492_rgb.png     8     1  \n",
              "102782  8_right_007493_rgb.png     8     1  \n",
              "\n",
              "[102783 rows x 7 columns]"
            ]
          },
          "execution_count": 89,
          "metadata": {},
          "output_type": "execute_result"
        }
      ],
      "source": [
        "blink_augmented.iloc[:-10]"
      ]
    },
    {
      "cell_type": "code",
      "execution_count": null,
      "metadata": {
        "colab": {
          "base_uri": "https://localhost:8080/"
        },
        "id": "9u_EUHcgvnU8",
        "outputId": "50841284-4d67-4ea8-a070-a1f8c42c6491",
        "vscode": {
          "languageId": "python"
        }
      },
      "outputs": [
        {
          "name": "stdout",
          "output_type": "stream",
          "text": [
            "205586\n"
          ]
        }
      ],
      "source": [
        "train_data_aug=pd.concat([blink_augmented,no_blink], axis=0, ignore_index=True)\n",
        "print(train_data_aug.shape[0])"
      ]
    },
    {
      "cell_type": "code",
      "execution_count": null,
      "metadata": {
        "id": "NMthZLjXYmyU",
        "vscode": {
          "languageId": "python"
        }
      },
      "outputs": [],
      "source": [
        "train_data, test_data = train_test_split(train_data_aug, test_size=0.3, random_state=seed)\n",
        "dev_data, test_data = train_test_split(test_data, test_size=0.5, random_state=seed)\n",
        "\n",
        "train_data = train_data.reset_index(drop=True)\n",
        "dev_data = dev_data.reset_index(drop=True)\n",
        "test_data = test_data.reset_index(drop=True)\n",
        "\n",
        "left_eye_col = 'left_eye'\n",
        "right_eye_col = 'right_eye'\n",
        "y_col = 'blink'\n",
        "\n",
        "batch_size = 256\n",
        "img_width = 60\n",
        "img_height = 36\n",
        "\n",
        "train_generator = generator(train_data)\n",
        "dev_generator = generator(dev_data)\n",
        "test_generator = generator(test_data)"
      ]
    },
    {
      "cell_type": "code",
      "execution_count": null,
      "metadata": {
        "id": "l5DwLqNugeJ_",
        "vscode": {
          "languageId": "python"
        }
      },
      "outputs": [],
      "source": [
        "'''\n",
        "train_data_blink, test_data_blink = train_test_split(blink, test_size=0.3, random_state=seed)\n",
        "dev_data_blink, test_data_blink = train_test_split(test_data_blink, test_size=0.5, random_state=seed)\n",
        "\n",
        "train_data_blink = train_data_blink.reset_index(drop=True)\n",
        "dev_data_blink = dev_data_blink.reset_index(drop=True)\n",
        "test_data_blink = test_data_blink.reset_index(drop=True)\n",
        "\n",
        "train_data_no_blink, test_data_no_blink = train_test_split(no_blink, test_size=0.3, random_state=seed)\n",
        "dev_data_no_blink, test_data_no_blink = train_test_split(test_data_no_blink, test_size=0.5, random_state=seed)\n",
        "\n",
        "train_data_no_blink = train_data_no_blink.reset_index(drop=True)\n",
        "dev_data_no_blink = dev_data_no_blink.reset_index(drop=True)\n",
        "test_data_no_blink = test_data_no_blink.reset_index(drop=True)\n",
        "\n",
        "left_eye_col = 'left_eye'\n",
        "right_eye_col = 'right_eye'\n",
        "y_col = 'blink'\n",
        "\n",
        "batch_size = 256\n",
        "img_width = 60\n",
        "img_height = 36\n",
        "\n",
        "# Generamos mismos blinks uqe no blinks, seteado a la alza (longitud de no blinks)\n",
        "train_generator = zip(generator(train_data_blink, aug_datagen,len(train_data_no_blink), ['1']), generator(train_data_no_blink,no_aug_datagen,len(train_data_no_blink), ['0']))\n",
        "dev_generator = zip(generator(dev_data_blink, aug_datagen,len(dev_data_no_blink), ['1']), generator(dev_data_no_blink,no_aug_datagen,len(dev_data_no_blink), ['0']))\n",
        "test_generator = zip(generator(test_data_blink, aug_datagen, len(test_data_no_blink), ['1']), generator(test_data_no_blink,no_aug_datagen,len(test_data_no_blink), ['0']))\n",
        "'''"
      ]
    },
    {
      "cell_type": "code",
      "execution_count": null,
      "metadata": {
        "colab": {
          "base_uri": "https://localhost:8080/",
          "height": 35
        },
        "id": "SOJc2XXgsizX",
        "outputId": "371c3b06-d943-45be-acd7-96dfc5b40669",
        "vscode": {
          "languageId": "python"
        }
      },
      "outputs": [
        {
          "data": {
            "application/vnd.google.colaboratory.intrinsic+json": {
              "type": "string"
            },
            "text/plain": [
              "\"\\n# use tensorboard \\n%load_ext tensorboard\\n\\nlogdir = 'tflogs'\\nwriter = tf.summary.create_file_writer(logdir)\\n\\n%tensorboard --logdir tflogs\\n\""
            ]
          },
          "execution_count": 44,
          "metadata": {},
          "output_type": "execute_result"
        }
      ],
      "source": [
        "'''\n",
        "# use tensorboard \n",
        "%load_ext tensorboard\n",
        "\n",
        "logdir = 'tflogs'\n",
        "writer = tf.summary.create_file_writer(logdir)\n",
        "\n",
        "%tensorboard --logdir tflogs\n",
        "'''"
      ]
    },
    {
      "cell_type": "code",
      "execution_count": null,
      "metadata": {
        "colab": {
          "base_uri": "https://localhost:8080/"
        },
        "id": "DbL2bA5g26RB",
        "outputId": "de337701-db6c-464e-abd0-69b3dfdbb5c6",
        "vscode": {
          "languageId": "python"
        }
      },
      "outputs": [
        {
          "name": "stdout",
          "output_type": "stream",
          "text": [
            "Looking in indexes: https://pypi.org/simple, https://us-python.pkg.dev/colab-wheels/public/simple/\n",
            "Requirement already satisfied: pip in /usr/local/lib/python3.10/dist-packages (23.1.2)\n",
            "\u001b[33mWARNING: Running pip as the 'root' user can result in broken permissions and conflicting behaviour with the system package manager. It is recommended to use a virtual environment instead: https://pip.pypa.io/warnings/venv\u001b[0m\u001b[33m\n",
            "\u001b[0mLooking in indexes: https://pypi.org/simple, https://us-python.pkg.dev/colab-wheels/public/simple/\n",
            "Requirement already satisfied: tfa-nightly in /usr/local/lib/python3.10/dist-packages (0.21.0.dev20230418145214)\n",
            "Requirement already satisfied: packaging in /usr/local/lib/python3.10/dist-packages (from tfa-nightly) (23.1)\n",
            "Requirement already satisfied: typeguard<3.0.0,>=2.7 in /usr/local/lib/python3.10/dist-packages (from tfa-nightly) (2.13.3)\n",
            "\u001b[33mWARNING: Running pip as the 'root' user can result in broken permissions and conflicting behaviour with the system package manager. It is recommended to use a virtual environment instead: https://pip.pypa.io/warnings/venv\u001b[0m\u001b[33m\n",
            "\u001b[0m"
          ]
        }
      ],
      "source": [
        "!pip3 install --upgrade pip\n",
        "!pip3 install tfa-nightly\n",
        "import tensorflow_addons as tfa\n",
        "\n",
        "def f1_score(y_true,y_pred):\n",
        "  metric = tfa.metrics.F1Score(num_classes=1, threshold=0.5)\n",
        "\n",
        "  metric.update_state(y_true, y_pred)\n",
        "  result = metric.result()\n",
        "\n",
        "  return result.numpy()"
      ]
    },
    {
      "cell_type": "code",
      "execution_count": null,
      "metadata": {
        "colab": {
          "base_uri": "https://localhost:8080/",
          "height": 52
        },
        "id": "v_ppDMT8nT8k",
        "outputId": "940a17ef-3782-42b9-c2a2-a981d3fc0963",
        "vscode": {
          "languageId": "python"
        }
      },
      "outputs": [
        {
          "data": {
            "application/vnd.google.colaboratory.intrinsic+json": {
              "type": "string"
            },
            "text/plain": [
              "\"\\n# Scaling by total/2 helps keep the loss to a similar magnitude.\\n# The sum of the weights of all examples stays the same.\\nneg, pos = np.bincount(train_data['blink'])\\ntotal = neg + pos\\nweight_for_0 = (1 / neg) * (total / 2.0)\\nweight_for_1 = (1 / pos) * (total / 2.0)\\n\\nclass_weight = {0: weight_for_0, 1: weight_for_1}\\n\\nprint('Weight for class 0: {:.2f}'.format(weight_for_0))\\nprint('Weight for class 1: {:.2f}'.format(weight_for_1))\\n\""
            ]
          },
          "execution_count": 16,
          "metadata": {},
          "output_type": "execute_result"
        }
      ],
      "source": [
        "'''\n",
        "# Scaling by total/2 helps keep the loss to a similar magnitude.\n",
        "# The sum of the weights of all examples stays the same.\n",
        "neg, pos = np.bincount(train_data['blink'])\n",
        "total = neg + pos\n",
        "weight_for_0 = (1 / neg) * (total / 2.0)\n",
        "weight_for_1 = (1 / pos) * (total / 2.0)\n",
        "\n",
        "class_weight = {0: weight_for_0, 1: weight_for_1}\n",
        "\n",
        "print('Weight for class 0: {:.2f}'.format(weight_for_0))\n",
        "print('Weight for class 1: {:.2f}'.format(weight_for_1))\n",
        "'''"
      ]
    },
    {
      "cell_type": "code",
      "execution_count": null,
      "metadata": {
        "id": "XomXY4jPbBYy",
        "vscode": {
          "languageId": "python"
        }
      },
      "outputs": [],
      "source": [
        "input_shape = (60, 36, 3)\n",
        "# Declaramos dos capas de Input\n",
        "input_1 = Input(name='left_eye', shape=input_shape)\n",
        "input_2 = Input(name='right_eye', shape=input_shape)\n",
        "\n",
        "concat_layer= Concatenate(name='concat', axis=-2)([input_1, input_2])\n",
        "\n",
        "conv_1_1 = Conv2D(32, 3, name='conv1_l', padding='same', input_shape=(img_width,img_height,3))(concat_layer)\n",
        "bn_1_1 = BatchNormalization()(conv_1_1)\n",
        "re_1_1 = ReLU()(bn_1_1)\n",
        "dr_1_1 = Dropout(0.5)(re_1_1)\n",
        "max_1_1 = MaxPooling2D(name='max1_l', pool_size=2, strides=2)(dr_1_1)\n",
        "conv_2_1 = Conv2D(64, 3, name='conv2_l', padding='same')(max_1_1)\n",
        "bn_2_1 = BatchNormalization()(conv_2_1)\n",
        "re_2_1 = ReLU()(bn_2_1)\n",
        "dr_2_1 = Dropout(0.5)(re_2_1)\n",
        "max_2_1 = MaxPooling2D(name='max2_l', pool_size=2, strides=2)(dr_2_1)\n",
        "\n",
        "flat_layer_1 = Flatten(name='flat_l')(max_2_1)\n",
        "\n",
        "'''\n",
        "conv_1_2 = Conv2D(64, 5, name='conv1_r', padding='same', activation='relu', input_shape=(img_width,img_height,3))(input_2)\n",
        "dr_1_2 = Dropout(0.5)(conv_1_2)\n",
        "max_1_2 = MaxPooling2D(name='max1_r', pool_size=2, strides=2)(dr_1_2)\n",
        "conv_2_2 = Conv2D(64, 5, name='conv2_r', padding='same', activation='relu')(max_1_2)\n",
        "dr_2_2 = Dropout(0.5)(conv_2_2)\n",
        "max_2_2 = MaxPooling2D(name='max2_r', pool_size=2, strides=2)(dr_2_2)\n",
        "flat_layer_2 = Flatten(name='flat_r')(max_2_2)\n",
        "\n",
        "concat_layer= Concatenate(name='concat')([flat_layer_1, flat_layer_2])\n",
        "'''\n",
        "\n",
        "dense_1 = Dense(5000, name='dense_1', activation='softmax')(flat_layer_1)\n",
        "dense_2 = Dense(500, name='dense_2', activation='softmax')(dense_1)\n",
        "predictions = Dense(1, name='output', activation='softmax')(dense_2)\n",
        "\n",
        "# Creamos el modelo final y lo compilamos\n",
        "model = Model(inputs=[input_1, input_2], outputs=[predictions])\n",
        "# Compilamos el modelo\n",
        "model.compile(loss='binary_crossentropy',                # función de pérdida para problemas de clasificación binaria\n",
        "              optimizer=optimizers.Adam(learning_rate=1e-3),  # optimizador Adam\n",
        "              metrics=[tfa.metrics.F1Score(num_classes=1),'accuracy'])"
      ]
    },
    {
      "cell_type": "code",
      "execution_count": null,
      "metadata": {
        "colab": {
          "base_uri": "https://localhost:8080/"
        },
        "id": "JF1RJn0Km97p",
        "outputId": "6b96fbb9-bfbf-44f5-a611-597aee1fb46b",
        "vscode": {
          "languageId": "python"
        }
      },
      "outputs": [
        {
          "name": "stdout",
          "output_type": "stream",
          "text": [
            "Model: \"model_3\"\n",
            "__________________________________________________________________________________________________\n",
            " Layer (type)                   Output Shape         Param #     Connected to                     \n",
            "==================================================================================================\n",
            " left_eye (InputLayer)          [(None, 60, 36, 3)]  0           []                               \n",
            "                                                                                                  \n",
            " right_eye (InputLayer)         [(None, 60, 36, 3)]  0           []                               \n",
            "                                                                                                  \n",
            " concat (Concatenate)           (None, 60, 72, 3)    0           ['left_eye[0][0]',               \n",
            "                                                                  'right_eye[0][0]']              \n",
            "                                                                                                  \n",
            " conv1_l (Conv2D)               (None, 60, 72, 32)   896         ['concat[0][0]']                 \n",
            "                                                                                                  \n",
            " batch_normalization_6 (BatchNo  (None, 60, 72, 32)  128         ['conv1_l[0][0]']                \n",
            " rmalization)                                                                                     \n",
            "                                                                                                  \n",
            " re_lu_6 (ReLU)                 (None, 60, 72, 32)   0           ['batch_normalization_6[0][0]']  \n",
            "                                                                                                  \n",
            " dropout_6 (Dropout)            (None, 60, 72, 32)   0           ['re_lu_6[0][0]']                \n",
            "                                                                                                  \n",
            " max1_l (MaxPooling2D)          (None, 30, 36, 32)   0           ['dropout_6[0][0]']              \n",
            "                                                                                                  \n",
            " conv2_l (Conv2D)               (None, 30, 36, 64)   18496       ['max1_l[0][0]']                 \n",
            "                                                                                                  \n",
            " batch_normalization_7 (BatchNo  (None, 30, 36, 64)  256         ['conv2_l[0][0]']                \n",
            " rmalization)                                                                                     \n",
            "                                                                                                  \n",
            " re_lu_7 (ReLU)                 (None, 30, 36, 64)   0           ['batch_normalization_7[0][0]']  \n",
            "                                                                                                  \n",
            " dropout_7 (Dropout)            (None, 30, 36, 64)   0           ['re_lu_7[0][0]']                \n",
            "                                                                                                  \n",
            " max2_l (MaxPooling2D)          (None, 15, 18, 64)   0           ['dropout_7[0][0]']              \n",
            "                                                                                                  \n",
            " flat_l (Flatten)               (None, 17280)        0           ['max2_l[0][0]']                 \n",
            "                                                                                                  \n",
            " dense_1 (Dense)                (None, 5000)         86405000    ['flat_l[0][0]']                 \n",
            "                                                                                                  \n",
            " dense_2 (Dense)                (None, 500)          2500500     ['dense_1[0][0]']                \n",
            "                                                                                                  \n",
            " output (Dense)                 (None, 1)            501         ['dense_2[0][0]']                \n",
            "                                                                                                  \n",
            "==================================================================================================\n",
            "Total params: 88,925,777\n",
            "Trainable params: 88,925,585\n",
            "Non-trainable params: 192\n",
            "__________________________________________________________________________________________________\n"
          ]
        }
      ],
      "source": [
        "model.summary()"
      ]
    },
    {
      "cell_type": "code",
      "execution_count": null,
      "metadata": {
        "colab": {
          "base_uri": "https://localhost:8080/",
          "height": 1000
        },
        "id": "sH29LCWzFOep",
        "outputId": "49dfc983-6064-4f4d-e13e-8d9aff7c3338",
        "vscode": {
          "languageId": "python"
        }
      },
      "outputs": [
        {
          "data": {
            "image/png": "[encoded data removed]",
            "text/plain": [
              "<IPython.core.display.Image object>"
            ]
          },
          "execution_count": 97,
          "metadata": {},
          "output_type": "execute_result"
        }
      ],
      "source": [
        "keras.utils.plot_model(model, to_file='model.png')"
      ]
    },
    {
      "cell_type": "code",
      "execution_count": null,
      "metadata": {
        "id": "jtTpQkoSGI1C",
        "vscode": {
          "languageId": "python"
        }
      },
      "outputs": [],
      "source": [
        "def plot_history(history):\n",
        "    plt.figure()\n",
        "    plt.xlabel('Epoch')\n",
        "    plt.ylabel('categorical_crossentropy')\n",
        "    plt.plot(history.epoch, np.array(history.history['loss']),\n",
        "             label='Train Loss')\n",
        "    plt.legend()\n",
        "    plt.ylim([0, max(history.history['loss'])])"
      ]
    },
    {
      "cell_type": "code",
      "execution_count": null,
      "metadata": {
        "colab": {
          "base_uri": "https://localhost:8080/",
          "height": 52
        },
        "id": "zEvRPN1gAQVK",
        "outputId": "7c694b75-78b1-4f81-c1ba-670e3856024e",
        "vscode": {
          "languageId": "python"
        }
      },
      "outputs": [
        {
          "data": {
            "application/vnd.google.colaboratory.intrinsic+json": {
              "type": "string"
            },
            "text/plain": [
              "\"\\naug_iter = generator(train_data)\\nfig, ax = plt.subplots(nrows=3,ncols=2,figsize=(10,10))\\n\\nfor i in range(3):\\n  eye = next(aug_iter)\\n  left_eye_image = eye[0][0][i]\\n  right_eye_image = eye[0][1][i]\\n\\n  ax[i,0].imshow(right_eye_image)\\n  ax[i,1].imshow(left_eye_image)\\n  ax[i,0].axis('off')\\n  ax[i,1].axis('off')\\n\""
            ]
          },
          "execution_count": 22,
          "metadata": {},
          "output_type": "execute_result"
        }
      ],
      "source": [
        "'''\n",
        "aug_iter = generator(train_data)\n",
        "fig, ax = plt.subplots(nrows=3,ncols=2,figsize=(10,10))\n",
        "\n",
        "for i in range(3):\n",
        "  eye = next(aug_iter)\n",
        "  left_eye_image = eye[0][0][i]\n",
        "  right_eye_image = eye[0][1][i]\n",
        "\n",
        "  ax[i,0].imshow(right_eye_image)\n",
        "  ax[i,1].imshow(left_eye_image)\n",
        "  ax[i,0].axis('off')\n",
        "  ax[i,1].axis('off')\n",
        "'''"
      ]
    },
    {
      "cell_type": "code",
      "execution_count": null,
      "metadata": {
        "colab": {
          "base_uri": "https://localhost:8080/"
        },
        "id": "wdIo_Tg8oblC",
        "outputId": "59d2c68c-a9ea-44f7-a00d-d7a1789383e4",
        "vscode": {
          "languageId": "python"
        }
      },
      "outputs": [
        {
          "name": "stdout",
          "output_type": "stream",
          "text": [
            "Found 143910 validated image filenames belonging to 2 classes.\n",
            "Found 143910 validated image filenames belonging to 2 classes.\n",
            "Epoch 1/20\n",
            "563/562 [==============================] - ETA: 0s - loss: 0.6333 - f1_score: 0.6674 - accuracy: 0.5009Found 30838 validated image filenames belonging to 2 classes.\n",
            "Found 30838 validated image filenames belonging to 2 classes.\n",
            "562/562 [==============================] - 498s 869ms/step - loss: 0.6333 - f1_score: 0.6674 - accuracy: 0.5009 - val_loss: 0.5562 - val_f1_score: 0.6648 - val_accuracy: 0.4979\n",
            "Epoch 2/20\n",
            "562/562 [==============================] - 458s 815ms/step - loss: 0.4327 - f1_score: 0.6674 - accuracy: 0.5009 - val_loss: 0.3823 - val_f1_score: 0.6648 - val_accuracy: 0.4979\n",
            "Epoch 3/20\n",
            "467/562 [=======================>......] - ETA: 1:04 - loss: 0.3373 - f1_score: 0.6666 - accuracy: 0.4999"
          ]
        }
      ],
      "source": [
        "# Entrenamos el modelo con los datos preparados en el punto 2\n",
        "#callbacks = [tf.keras.callbacks.TensorBoard(log_dir=logdir)]\n",
        "history = model.fit(train_generator,\n",
        "                    epochs=20,\n",
        "                    verbose=1,\n",
        "                    steps_per_epoch=len(train_data)/batch_size,\n",
        "                    validation_data=dev_generator,\n",
        "                    validation_steps=len(dev_data)/batch_size)"
      ]
    },
    {
      "cell_type": "code",
      "execution_count": null,
      "metadata": {
        "id": "p1JCYcicqGrH",
        "vscode": {
          "languageId": "python"
        }
      },
      "outputs": [],
      "source": [
        "# Por ultimo, podemos evaluar el modelo en el conjunto de test\n",
        "print()\n",
        "test_loss, test_f1 = model.evaluate(test_generator,\n",
        "                                     batch_size=batch_size,\n",
        "                                     steps=len(test_data)/batch_size,\n",
        "                                     verbose=1)\n",
        "print(\"test_loss: %.4f, test_f1: %.4f\" % (test_loss, test_f1))"
      ]
    },
    {
      "cell_type": "code",
      "execution_count": null,
      "metadata": {
        "id": "OzVnKCYgxLkk",
        "vscode": {
          "languageId": "python"
        }
      },
      "outputs": [],
      "source": [
        "y_pred = model.predict(test_generator,\n",
        "                       batch_size=batch_size,\n",
        "                       steps=len(test_data)/batch_size,\n",
        "                       verbose=1)"
      ]
    },
    {
      "cell_type": "code",
      "execution_count": null,
      "metadata": {
        "id": "viMRdq_JArip",
        "vscode": {
          "languageId": "python"
        }
      },
      "outputs": [],
      "source": [
        "metric = tfa.metrics.F1Score(num_classes=1,average=\"micro\")"
      ]
    },
    {
      "cell_type": "code",
      "execution_count": null,
      "metadata": {
        "id": "LzwJNmKt_tfu",
        "vscode": {
          "languageId": "python"
        }
      },
      "outputs": [],
      "source": [
        "metric.update_state(y_true, y_pred)\n",
        "result = metric.result()\n",
        "result.numpy()"
      ]
    },
    {
      "cell_type": "code",
      "execution_count": null,
      "metadata": {
        "id": "eE6vhneHxqPg",
        "vscode": {
          "languageId": "python"
        }
      },
      "outputs": [],
      "source": []
    }
  ],
  "metadata": {
    "accelerator": "GPU",
    "colab": {
      "provenance": []
    },
    "gpuClass": "standard",
    "kernelspec": {
      "display_name": "Python 3",
      "name": "python3"
    }
  },
  "nbformat": 4,
  "nbformat_minor": 0
}
