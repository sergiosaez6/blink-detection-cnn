{
  "cells": [
    {
      "attachments": {},
      "cell_type": "markdown",
      "metadata": {
        "id": "W43vhS-mQCf2"
      },
      "source": [
        "# Deep Learning\n",
        "## Blink detection"
      ]
    },
    {
      "cell_type": "markdown",
      "metadata": {
        "id": "rDSz5ZZEGK-m"
      },
      "source": [
        "### 1. PRIMERA APROXIMACIÓN\n",
        "\n",
        "CNN desde cero"
      ]
    },
    {
      "cell_type": "markdown",
      "metadata": {
        "id": "481imW1oQTY7"
      },
      "source": [
        "### 1. Importar librerías\n",
        "Lo primero que vamos a hacer es cargar las librería necesarias: TensorFlow y Keras (The Python Deep Learning library).\n"
      ]
    },
    {
      "cell_type": "code",
      "execution_count": 1,
      "metadata": {
        "id": "N9egJT9OQuBt",
        "vscode": {
          "languageId": "python"
        }
      },
      "outputs": [],
      "source": [
        "import numpy as np\n",
        "import matplotlib.pyplot as plt\n",
        "\n",
        "import tensorflow as tf\n",
        "from tensorflow import keras\n",
        "\n",
        "from tensorflow.keras import applications\n",
        "from tensorflow.keras import optimizers\n",
        "from tensorflow.keras.models import Model, load_model\n",
        "from tensorflow.keras.layers import Input, GlobalAveragePooling2D, Dense, Conv2D, MaxPooling2D, Flatten, Dropout, Concatenate, BatchNormalization, ReLU\n",
        "\n",
        "from google.colab import drive\n",
        "from sklearn.model_selection import train_test_split\n",
        "\n",
        "import pandas as pd\n",
        "from keras.preprocessing.image import ImageDataGenerator"
      ]
    },
    {
      "cell_type": "code",
      "execution_count": 2,
      "metadata": {
        "colab": {
          "base_uri": "https://localhost:8080/",
          "height": 36
        },
        "id": "q1B3l0LdsIkn",
        "outputId": "284ba4cb-7056-44b3-eb8a-43346d944341",
        "vscode": {
          "languageId": "python"
        }
      },
      "outputs": [
        {
          "data": {
            "application/vnd.google.colaboratory.intrinsic+json": {
              "type": "string"
            },
            "text/plain": [
              "'/device:GPU:0'"
            ]
          },
          "execution_count": 2,
          "metadata": {},
          "output_type": "execute_result"
        }
      ],
      "source": [
        "tf.test.gpu_device_name()"
      ]
    },
    {
      "cell_type": "code",
      "execution_count": 3,
      "metadata": {
        "colab": {
          "base_uri": "https://localhost:8080/"
        },
        "id": "RLwZb-YSsBuH",
        "outputId": "f990bda5-f7b1-4e96-faf5-28dcf633a8ec",
        "vscode": {
          "languageId": "python"
        }
      },
      "outputs": [
        {
          "data": {
            "text/plain": [
              "[name: \"/device:CPU:0\"\n",
              " device_type: \"CPU\"\n",
              " memory_limit: 268435456\n",
              " locality {\n",
              " }\n",
              " incarnation: 10854201638880839047\n",
              " xla_global_id: -1,\n",
              " name: \"/device:GPU:0\"\n",
              " device_type: \"GPU\"\n",
              " memory_limit: 14343274496\n",
              " locality {\n",
              "   bus_id: 1\n",
              "   links {\n",
              "   }\n",
              " }\n",
              " incarnation: 12999016525644660988\n",
              " physical_device_desc: \"device: 0, name: Tesla T4, pci bus id: 0000:00:04.0, compute capability: 7.5\"\n",
              " xla_global_id: 416903419]"
            ]
          },
          "execution_count": 3,
          "metadata": {},
          "output_type": "execute_result"
        }
      ],
      "source": [
        "from tensorflow.python.client import device_lib\n",
        "device_lib.list_local_devices()"
      ]
    },
    {
      "cell_type": "code",
      "execution_count": 4,
      "metadata": {
        "id": "tlpzNIGlhJzO",
        "vscode": {
          "languageId": "python"
        }
      },
      "outputs": [],
      "source": [
        "# Generador custom que devuelve las dos imagenes de ojos y el label del parpadeo\n",
        "def generator(dataframe, datagen):\n",
        "  left_eye_generator = datagen.flow_from_dataframe(dataframe=dataframe,\n",
        "                                                   directory = imgs_path,\n",
        "                                                   target_size =(img_width, img_height),\n",
        "                                                   x_col=left_eye_col,\n",
        "                                                   y_col=y_col,\n",
        "                                                   class_mode=\"binary\",\n",
        "                                                   seed=seed,\n",
        "                                                   batch_size=batch_size)\n",
        "  right_eye_generator = datagen.flow_from_dataframe(dataframe=dataframe,\n",
        "                                                    directory = imgs_path,\n",
        "                                                    target_size =(img_width, img_height),\n",
        "                                                    x_col=right_eye_col,\n",
        "                                                    y_col=y_col,\n",
        "                                                    class_mode=\"binary\",\n",
        "                                                    seed=seed,\n",
        "                                                    batch_size=batch_size)\n",
        "  while True:\n",
        "    left_eye = left_eye_generator.next()\n",
        "    left_eye_image = left_eye[0]\n",
        "    label = left_eye[1]\n",
        "    right_eye = right_eye_generator.next()\n",
        "    right_eye_image = right_eye[0]\n",
        "    yield [left_eye_image, right_eye_image], label"
      ]
    },
    {
      "cell_type": "code",
      "execution_count": 5,
      "metadata": {
        "colab": {
          "base_uri": "https://localhost:8080/"
        },
        "id": "229pHB1hHK-Y",
        "outputId": "3c39b1b5-7b76-447f-e484-88ceb0f9e889",
        "vscode": {
          "languageId": "python"
        }
      },
      "outputs": [
        {
          "name": "stdout",
          "output_type": "stream",
          "text": [
            "Mounted at /content/gdrive\n"
          ]
        }
      ],
      "source": [
        "drive.mount('/content/gdrive')\n",
        "!unzip -n '/content/gdrive/MyDrive/Colab Notebooks/Deep Learning/Trabajo final/RT-BENE.zip' >> /dev/null\n",
        "\n",
        "data_path = 'RT-BENE/'\n",
        "imgs_path = data_path + 'images/'\n",
        "labels_path = data_path + 'blinks.csv'\n",
        "\n",
        "seed = 0\n",
        "\n",
        "# Actualizamos los indices de cada particion\n",
        "train_data = pd.read_csv(labels_path, dtype=str) # Reading as string so the generator does not complain about the label (numeric being considered as an index)\n",
        "no_aug_datagen = ImageDataGenerator(rescale=1./255)\n",
        "aug_datagen = ImageDataGenerator(rescale=1./255,\n",
        "                             rotation_range=40)"
      ]
    },
    {
      "cell_type": "code",
      "execution_count": 6,
      "metadata": {
        "colab": {
          "base_uri": "https://localhost:8080/"
        },
        "id": "YrMVcb7lHQ4f",
        "outputId": "5d3dbc1e-5789-470d-f488-2ad2c1e22131",
        "vscode": {
          "languageId": "python"
        }
      },
      "outputs": [
        {
          "name": "stdout",
          "output_type": "stream",
          "text": [
            "0    102793\n",
            "1      4557\n",
            "Name: blink, dtype: int64\n"
          ]
        }
      ],
      "source": [
        "print(train_data['blink'].value_counts())"
      ]
    },
    {
      "cell_type": "code",
      "execution_count": 7,
      "metadata": {
        "id": "HqHvjG79set4",
        "vscode": {
          "languageId": "python"
        }
      },
      "outputs": [],
      "source": [
        "blink = train_data.loc[train_data['blink']=='1'].reset_index()\n",
        "no_blink = train_data.loc[train_data['blink']=='0'].reset_index()"
      ]
    },
    {
      "cell_type": "code",
      "execution_count": 8,
      "metadata": {
        "colab": {
          "base_uri": "https://localhost:8080/"
        },
        "id": "bhANSIHetIys",
        "outputId": "efaf48eb-f95a-4388-d39d-639517502a18",
        "vscode": {
          "languageId": "python"
        }
      },
      "outputs": [
        {
          "name": "stdout",
          "output_type": "stream",
          "text": [
            "4557\n"
          ]
        }
      ],
      "source": [
        "print(blink.shape[0])"
      ]
    },
    {
      "cell_type": "code",
      "execution_count": 9,
      "metadata": {
        "colab": {
          "base_uri": "https://localhost:8080/",
          "height": 424
        },
        "id": "b5Y6gB7Pu7kJ",
        "outputId": "8f0701f3-f2f2-424c-b1f7-0ac633908934",
        "vscode": {
          "languageId": "python"
        }
      },
      "outputs": [
        {
          "data": {
            "text/html": [
              "\n",
              "  <div id=\"df-b31448b5-9576-425b-80f7-1f62c20a0581\">\n",
              "    <div class=\"colab-df-container\">\n",
              "      <div>\n",
              "<style scoped>\n",
              "    .dataframe tbody tr th:only-of-type {\n",
              "        vertical-align: middle;\n",
              "    }\n",
              "\n",
              "    .dataframe tbody tr th {\n",
              "        vertical-align: top;\n",
              "    }\n",
              "\n",
              "    .dataframe thead th {\n",
              "        text-align: right;\n",
              "    }\n",
              "</style>\n",
              "<table border=\"1\" class=\"dataframe\">\n",
              "  <thead>\n",
              "    <tr style=\"text-align: right;\">\n",
              "      <th></th>\n",
              "      <th>index</th>\n",
              "      <th>blink_id</th>\n",
              "      <th>left_eye</th>\n",
              "      <th>right_eye</th>\n",
              "      <th>video</th>\n",
              "      <th>blink</th>\n",
              "    </tr>\n",
              "  </thead>\n",
              "  <tbody>\n",
              "    <tr>\n",
              "      <th>0</th>\n",
              "      <td>0</td>\n",
              "      <td>0</td>\n",
              "      <td>0_left_000001_rgb.png</td>\n",
              "      <td>0_right_000001_rgb.png</td>\n",
              "      <td>0</td>\n",
              "      <td>0</td>\n",
              "    </tr>\n",
              "    <tr>\n",
              "      <th>1</th>\n",
              "      <td>1</td>\n",
              "      <td>1</td>\n",
              "      <td>0_left_000002_rgb.png</td>\n",
              "      <td>0_right_000002_rgb.png</td>\n",
              "      <td>0</td>\n",
              "      <td>0</td>\n",
              "    </tr>\n",
              "    <tr>\n",
              "      <th>2</th>\n",
              "      <td>2</td>\n",
              "      <td>2</td>\n",
              "      <td>0_left_000003_rgb.png</td>\n",
              "      <td>0_right_000003_rgb.png</td>\n",
              "      <td>0</td>\n",
              "      <td>0</td>\n",
              "    </tr>\n",
              "    <tr>\n",
              "      <th>3</th>\n",
              "      <td>3</td>\n",
              "      <td>3</td>\n",
              "      <td>0_left_000004_rgb.png</td>\n",
              "      <td>0_right_000004_rgb.png</td>\n",
              "      <td>0</td>\n",
              "      <td>0</td>\n",
              "    </tr>\n",
              "    <tr>\n",
              "      <th>4</th>\n",
              "      <td>4</td>\n",
              "      <td>4</td>\n",
              "      <td>0_left_000005_rgb.png</td>\n",
              "      <td>0_right_000005_rgb.png</td>\n",
              "      <td>0</td>\n",
              "      <td>0</td>\n",
              "    </tr>\n",
              "    <tr>\n",
              "      <th>...</th>\n",
              "      <td>...</td>\n",
              "      <td>...</td>\n",
              "      <td>...</td>\n",
              "      <td>...</td>\n",
              "      <td>...</td>\n",
              "      <td>...</td>\n",
              "    </tr>\n",
              "    <tr>\n",
              "      <th>102788</th>\n",
              "      <td>107345</td>\n",
              "      <td>107345</td>\n",
              "      <td>16_left_009059_rgb.png</td>\n",
              "      <td>16_right_009059_rgb.png</td>\n",
              "      <td>16</td>\n",
              "      <td>0</td>\n",
              "    </tr>\n",
              "    <tr>\n",
              "      <th>102789</th>\n",
              "      <td>107346</td>\n",
              "      <td>107346</td>\n",
              "      <td>16_left_009060_rgb.png</td>\n",
              "      <td>16_right_009060_rgb.png</td>\n",
              "      <td>16</td>\n",
              "      <td>0</td>\n",
              "    </tr>\n",
              "    <tr>\n",
              "      <th>102790</th>\n",
              "      <td>107347</td>\n",
              "      <td>107347</td>\n",
              "      <td>16_left_009061_rgb.png</td>\n",
              "      <td>16_right_009061_rgb.png</td>\n",
              "      <td>16</td>\n",
              "      <td>0</td>\n",
              "    </tr>\n",
              "    <tr>\n",
              "      <th>102791</th>\n",
              "      <td>107348</td>\n",
              "      <td>107348</td>\n",
              "      <td>16_left_009062_rgb.png</td>\n",
              "      <td>16_right_009062_rgb.png</td>\n",
              "      <td>16</td>\n",
              "      <td>0</td>\n",
              "    </tr>\n",
              "    <tr>\n",
              "      <th>102792</th>\n",
              "      <td>107349</td>\n",
              "      <td>107349</td>\n",
              "      <td>16_left_009063_rgb.png</td>\n",
              "      <td>16_right_009063_rgb.png</td>\n",
              "      <td>16</td>\n",
              "      <td>0</td>\n",
              "    </tr>\n",
              "  </tbody>\n",
              "</table>\n",
              "<p>102793 rows × 6 columns</p>\n",
              "</div>\n",
              "      <button class=\"colab-df-convert\" onclick=\"convertToInteractive('df-b31448b5-9576-425b-80f7-1f62c20a0581')\"\n",
              "              title=\"Convert this dataframe to an interactive table.\"\n",
              "              style=\"display:none;\">\n",
              "        \n",
              "  <svg xmlns=\"http://www.w3.org/2000/svg\" height=\"24px\"viewBox=\"0 0 24 24\"\n",
              "       width=\"24px\">\n",
              "    <path d=\"M0 0h24v24H0V0z\" fill=\"none\"/>\n",
              "    <path d=\"M18.56 5.44l.94 2.06.94-2.06 2.06-.94-2.06-.94-.94-2.06-.94 2.06-2.06.94zm-11 1L8.5 8.5l.94-2.06 2.06-.94-2.06-.94L8.5 2.5l-.94 2.06-2.06.94zm10 10l.94 2.06.94-2.06 2.06-.94-2.06-.94-.94-2.06-.94 2.06-2.06.94z\"/><path d=\"M17.41 7.96l-1.37-1.37c-.4-.4-.92-.59-1.43-.59-.52 0-1.04.2-1.43.59L10.3 9.45l-7.72 7.72c-.78.78-.78 2.05 0 2.83L4 21.41c.39.39.9.59 1.41.59.51 0 1.02-.2 1.41-.59l7.78-7.78 2.81-2.81c.8-.78.8-2.07 0-2.86zM5.41 20L4 18.59l7.72-7.72 1.47 1.35L5.41 20z\"/>\n",
              "  </svg>\n",
              "      </button>\n",
              "      \n",
              "  <style>\n",
              "    .colab-df-container {\n",
              "      display:flex;\n",
              "      flex-wrap:wrap;\n",
              "      gap: 12px;\n",
              "    }\n",
              "\n",
              "    .colab-df-convert {\n",
              "      background-color: #E8F0FE;\n",
              "      border: none;\n",
              "      border-radius: 50%;\n",
              "      cursor: pointer;\n",
              "      display: none;\n",
              "      fill: #1967D2;\n",
              "      height: 32px;\n",
              "      padding: 0 0 0 0;\n",
              "      width: 32px;\n",
              "    }\n",
              "\n",
              "    .colab-df-convert:hover {\n",
              "      background-color: #E2EBFA;\n",
              "      box-shadow: 0px 1px 2px rgba(60, 64, 67, 0.3), 0px 1px 3px 1px rgba(60, 64, 67, 0.15);\n",
              "      fill: #174EA6;\n",
              "    }\n",
              "\n",
              "    [theme=dark] .colab-df-convert {\n",
              "      background-color: #3B4455;\n",
              "      fill: #D2E3FC;\n",
              "    }\n",
              "\n",
              "    [theme=dark] .colab-df-convert:hover {\n",
              "      background-color: #434B5C;\n",
              "      box-shadow: 0px 1px 3px 1px rgba(0, 0, 0, 0.15);\n",
              "      filter: drop-shadow(0px 1px 2px rgba(0, 0, 0, 0.3));\n",
              "      fill: #FFFFFF;\n",
              "    }\n",
              "  </style>\n",
              "\n",
              "      <script>\n",
              "        const buttonEl =\n",
              "          document.querySelector('#df-b31448b5-9576-425b-80f7-1f62c20a0581 button.colab-df-convert');\n",
              "        buttonEl.style.display =\n",
              "          google.colab.kernel.accessAllowed ? 'block' : 'none';\n",
              "\n",
              "        async function convertToInteractive(key) {\n",
              "          const element = document.querySelector('#df-b31448b5-9576-425b-80f7-1f62c20a0581');\n",
              "          const dataTable =\n",
              "            await google.colab.kernel.invokeFunction('convertToInteractive',\n",
              "                                                     [key], {});\n",
              "          if (!dataTable) return;\n",
              "\n",
              "          const docLinkHtml = 'Like what you see? Visit the ' +\n",
              "            '<a target=\"_blank\" href=https://colab.research.google.com/notebooks/data_table.ipynb>data table notebook</a>'\n",
              "            + ' to learn more about interactive tables.';\n",
              "          element.innerHTML = '';\n",
              "          dataTable['output_type'] = 'display_data';\n",
              "          await google.colab.output.renderOutput(dataTable, element);\n",
              "          const docLink = document.createElement('div');\n",
              "          docLink.innerHTML = docLinkHtml;\n",
              "          element.appendChild(docLink);\n",
              "        }\n",
              "      </script>\n",
              "    </div>\n",
              "  </div>\n",
              "  "
            ],
            "text/plain": [
              "         index blink_id                left_eye                right_eye  \\\n",
              "0            0        0   0_left_000001_rgb.png   0_right_000001_rgb.png   \n",
              "1            1        1   0_left_000002_rgb.png   0_right_000002_rgb.png   \n",
              "2            2        2   0_left_000003_rgb.png   0_right_000003_rgb.png   \n",
              "3            3        3   0_left_000004_rgb.png   0_right_000004_rgb.png   \n",
              "4            4        4   0_left_000005_rgb.png   0_right_000005_rgb.png   \n",
              "...        ...      ...                     ...                      ...   \n",
              "102788  107345   107345  16_left_009059_rgb.png  16_right_009059_rgb.png   \n",
              "102789  107346   107346  16_left_009060_rgb.png  16_right_009060_rgb.png   \n",
              "102790  107347   107347  16_left_009061_rgb.png  16_right_009061_rgb.png   \n",
              "102791  107348   107348  16_left_009062_rgb.png  16_right_009062_rgb.png   \n",
              "102792  107349   107349  16_left_009063_rgb.png  16_right_009063_rgb.png   \n",
              "\n",
              "       video blink  \n",
              "0          0     0  \n",
              "1          0     0  \n",
              "2          0     0  \n",
              "3          0     0  \n",
              "4          0     0  \n",
              "...      ...   ...  \n",
              "102788    16     0  \n",
              "102789    16     0  \n",
              "102790    16     0  \n",
              "102791    16     0  \n",
              "102792    16     0  \n",
              "\n",
              "[102793 rows x 6 columns]"
            ]
          },
          "execution_count": 9,
          "metadata": {},
          "output_type": "execute_result"
        }
      ],
      "source": [
        "no_blink"
      ]
    },
    {
      "cell_type": "code",
      "execution_count": 10,
      "metadata": {
        "colab": {
          "base_uri": "https://localhost:8080/"
        },
        "id": "xWnJMI5ruueG",
        "outputId": "ce74346e-1d1f-4a2f-9246-58057244e744",
        "vscode": {
          "languageId": "python"
        }
      },
      "outputs": [
        {
          "name": "stdout",
          "output_type": "stream",
          "text": [
            "(4558, 6)\n"
          ]
        }
      ],
      "source": [
        "print(no_blink.loc[:blink.shape[0]].shape)"
      ]
    },
    {
      "cell_type": "code",
      "execution_count": 11,
      "metadata": {
        "id": "Okij82O0smMx",
        "vscode": {
          "languageId": "python"
        }
      },
      "outputs": [],
      "source": [
        "frames = [blink,blink,blink,blink,no_blink.loc[:blink.shape[0]],no_blink.loc[:blink.shape[0]],no_blink.loc[:blink.shape[0]],no_blink.loc[:blink.shape[0]]]\n",
        "train_data = pd.concat(frames)"
      ]
    },
    {
      "cell_type": "code",
      "execution_count": 12,
      "metadata": {
        "colab": {
          "base_uri": "https://localhost:8080/",
          "height": 424
        },
        "id": "nur95Zm6tixS",
        "outputId": "fd851639-943c-467f-8452-e7c64995abb7",
        "vscode": {
          "languageId": "python"
        }
      },
      "outputs": [
        {
          "data": {
            "text/html": [
              "\n",
              "  <div id=\"df-054505fb-0143-492e-8bd4-ba531351ec31\">\n",
              "    <div class=\"colab-df-container\">\n",
              "      <div>\n",
              "<style scoped>\n",
              "    .dataframe tbody tr th:only-of-type {\n",
              "        vertical-align: middle;\n",
              "    }\n",
              "\n",
              "    .dataframe tbody tr th {\n",
              "        vertical-align: top;\n",
              "    }\n",
              "\n",
              "    .dataframe thead th {\n",
              "        text-align: right;\n",
              "    }\n",
              "</style>\n",
              "<table border=\"1\" class=\"dataframe\">\n",
              "  <thead>\n",
              "    <tr style=\"text-align: right;\">\n",
              "      <th></th>\n",
              "      <th>index</th>\n",
              "      <th>blink_id</th>\n",
              "      <th>left_eye</th>\n",
              "      <th>right_eye</th>\n",
              "      <th>video</th>\n",
              "      <th>blink</th>\n",
              "    </tr>\n",
              "  </thead>\n",
              "  <tbody>\n",
              "    <tr>\n",
              "      <th>0</th>\n",
              "      <td>160</td>\n",
              "      <td>160</td>\n",
              "      <td>0_left_000161_rgb.png</td>\n",
              "      <td>0_right_000161_rgb.png</td>\n",
              "      <td>0</td>\n",
              "      <td>1</td>\n",
              "    </tr>\n",
              "    <tr>\n",
              "      <th>1</th>\n",
              "      <td>161</td>\n",
              "      <td>161</td>\n",
              "      <td>0_left_000162_rgb.png</td>\n",
              "      <td>0_right_000162_rgb.png</td>\n",
              "      <td>0</td>\n",
              "      <td>1</td>\n",
              "    </tr>\n",
              "    <tr>\n",
              "      <th>2</th>\n",
              "      <td>162</td>\n",
              "      <td>162</td>\n",
              "      <td>0_left_000163_rgb.png</td>\n",
              "      <td>0_right_000163_rgb.png</td>\n",
              "      <td>0</td>\n",
              "      <td>1</td>\n",
              "    </tr>\n",
              "    <tr>\n",
              "      <th>3</th>\n",
              "      <td>163</td>\n",
              "      <td>163</td>\n",
              "      <td>0_left_000164_rgb.png</td>\n",
              "      <td>0_right_000164_rgb.png</td>\n",
              "      <td>0</td>\n",
              "      <td>1</td>\n",
              "    </tr>\n",
              "    <tr>\n",
              "      <th>4</th>\n",
              "      <td>164</td>\n",
              "      <td>164</td>\n",
              "      <td>0_left_000165_rgb.png</td>\n",
              "      <td>0_right_000165_rgb.png</td>\n",
              "      <td>0</td>\n",
              "      <td>1</td>\n",
              "    </tr>\n",
              "    <tr>\n",
              "      <th>...</th>\n",
              "      <td>...</td>\n",
              "      <td>...</td>\n",
              "      <td>...</td>\n",
              "      <td>...</td>\n",
              "      <td>...</td>\n",
              "      <td>...</td>\n",
              "    </tr>\n",
              "    <tr>\n",
              "      <th>4553</th>\n",
              "      <td>5131</td>\n",
              "      <td>5131</td>\n",
              "      <td>0_left_007097_rgb.png</td>\n",
              "      <td>0_right_007097_rgb.png</td>\n",
              "      <td>0</td>\n",
              "      <td>0</td>\n",
              "    </tr>\n",
              "    <tr>\n",
              "      <th>4554</th>\n",
              "      <td>5132</td>\n",
              "      <td>5132</td>\n",
              "      <td>0_left_007098_rgb.png</td>\n",
              "      <td>0_right_007098_rgb.png</td>\n",
              "      <td>0</td>\n",
              "      <td>0</td>\n",
              "    </tr>\n",
              "    <tr>\n",
              "      <th>4555</th>\n",
              "      <td>5133</td>\n",
              "      <td>5133</td>\n",
              "      <td>0_left_007099_rgb.png</td>\n",
              "      <td>0_right_007099_rgb.png</td>\n",
              "      <td>0</td>\n",
              "      <td>0</td>\n",
              "    </tr>\n",
              "    <tr>\n",
              "      <th>4556</th>\n",
              "      <td>5134</td>\n",
              "      <td>5134</td>\n",
              "      <td>0_left_007100_rgb.png</td>\n",
              "      <td>0_right_007100_rgb.png</td>\n",
              "      <td>0</td>\n",
              "      <td>0</td>\n",
              "    </tr>\n",
              "    <tr>\n",
              "      <th>4557</th>\n",
              "      <td>5135</td>\n",
              "      <td>5135</td>\n",
              "      <td>0_left_007101_rgb.png</td>\n",
              "      <td>0_right_007101_rgb.png</td>\n",
              "      <td>0</td>\n",
              "      <td>0</td>\n",
              "    </tr>\n",
              "  </tbody>\n",
              "</table>\n",
              "<p>36460 rows × 6 columns</p>\n",
              "</div>\n",
              "      <button class=\"colab-df-convert\" onclick=\"convertToInteractive('df-054505fb-0143-492e-8bd4-ba531351ec31')\"\n",
              "              title=\"Convert this dataframe to an interactive table.\"\n",
              "              style=\"display:none;\">\n",
              "        \n",
              "  <svg xmlns=\"http://www.w3.org/2000/svg\" height=\"24px\"viewBox=\"0 0 24 24\"\n",
              "       width=\"24px\">\n",
              "    <path d=\"M0 0h24v24H0V0z\" fill=\"none\"/>\n",
              "    <path d=\"M18.56 5.44l.94 2.06.94-2.06 2.06-.94-2.06-.94-.94-2.06-.94 2.06-2.06.94zm-11 1L8.5 8.5l.94-2.06 2.06-.94-2.06-.94L8.5 2.5l-.94 2.06-2.06.94zm10 10l.94 2.06.94-2.06 2.06-.94-2.06-.94-.94-2.06-.94 2.06-2.06.94z\"/><path d=\"M17.41 7.96l-1.37-1.37c-.4-.4-.92-.59-1.43-.59-.52 0-1.04.2-1.43.59L10.3 9.45l-7.72 7.72c-.78.78-.78 2.05 0 2.83L4 21.41c.39.39.9.59 1.41.59.51 0 1.02-.2 1.41-.59l7.78-7.78 2.81-2.81c.8-.78.8-2.07 0-2.86zM5.41 20L4 18.59l7.72-7.72 1.47 1.35L5.41 20z\"/>\n",
              "  </svg>\n",
              "      </button>\n",
              "      \n",
              "  <style>\n",
              "    .colab-df-container {\n",
              "      display:flex;\n",
              "      flex-wrap:wrap;\n",
              "      gap: 12px;\n",
              "    }\n",
              "\n",
              "    .colab-df-convert {\n",
              "      background-color: #E8F0FE;\n",
              "      border: none;\n",
              "      border-radius: 50%;\n",
              "      cursor: pointer;\n",
              "      display: none;\n",
              "      fill: #1967D2;\n",
              "      height: 32px;\n",
              "      padding: 0 0 0 0;\n",
              "      width: 32px;\n",
              "    }\n",
              "\n",
              "    .colab-df-convert:hover {\n",
              "      background-color: #E2EBFA;\n",
              "      box-shadow: 0px 1px 2px rgba(60, 64, 67, 0.3), 0px 1px 3px 1px rgba(60, 64, 67, 0.15);\n",
              "      fill: #174EA6;\n",
              "    }\n",
              "\n",
              "    [theme=dark] .colab-df-convert {\n",
              "      background-color: #3B4455;\n",
              "      fill: #D2E3FC;\n",
              "    }\n",
              "\n",
              "    [theme=dark] .colab-df-convert:hover {\n",
              "      background-color: #434B5C;\n",
              "      box-shadow: 0px 1px 3px 1px rgba(0, 0, 0, 0.15);\n",
              "      filter: drop-shadow(0px 1px 2px rgba(0, 0, 0, 0.3));\n",
              "      fill: #FFFFFF;\n",
              "    }\n",
              "  </style>\n",
              "\n",
              "      <script>\n",
              "        const buttonEl =\n",
              "          document.querySelector('#df-054505fb-0143-492e-8bd4-ba531351ec31 button.colab-df-convert');\n",
              "        buttonEl.style.display =\n",
              "          google.colab.kernel.accessAllowed ? 'block' : 'none';\n",
              "\n",
              "        async function convertToInteractive(key) {\n",
              "          const element = document.querySelector('#df-054505fb-0143-492e-8bd4-ba531351ec31');\n",
              "          const dataTable =\n",
              "            await google.colab.kernel.invokeFunction('convertToInteractive',\n",
              "                                                     [key], {});\n",
              "          if (!dataTable) return;\n",
              "\n",
              "          const docLinkHtml = 'Like what you see? Visit the ' +\n",
              "            '<a target=\"_blank\" href=https://colab.research.google.com/notebooks/data_table.ipynb>data table notebook</a>'\n",
              "            + ' to learn more about interactive tables.';\n",
              "          element.innerHTML = '';\n",
              "          dataTable['output_type'] = 'display_data';\n",
              "          await google.colab.output.renderOutput(dataTable, element);\n",
              "          const docLink = document.createElement('div');\n",
              "          docLink.innerHTML = docLinkHtml;\n",
              "          element.appendChild(docLink);\n",
              "        }\n",
              "      </script>\n",
              "    </div>\n",
              "  </div>\n",
              "  "
            ],
            "text/plain": [
              "      index blink_id               left_eye               right_eye video  \\\n",
              "0       160      160  0_left_000161_rgb.png  0_right_000161_rgb.png     0   \n",
              "1       161      161  0_left_000162_rgb.png  0_right_000162_rgb.png     0   \n",
              "2       162      162  0_left_000163_rgb.png  0_right_000163_rgb.png     0   \n",
              "3       163      163  0_left_000164_rgb.png  0_right_000164_rgb.png     0   \n",
              "4       164      164  0_left_000165_rgb.png  0_right_000165_rgb.png     0   \n",
              "...     ...      ...                    ...                     ...   ...   \n",
              "4553   5131     5131  0_left_007097_rgb.png  0_right_007097_rgb.png     0   \n",
              "4554   5132     5132  0_left_007098_rgb.png  0_right_007098_rgb.png     0   \n",
              "4555   5133     5133  0_left_007099_rgb.png  0_right_007099_rgb.png     0   \n",
              "4556   5134     5134  0_left_007100_rgb.png  0_right_007100_rgb.png     0   \n",
              "4557   5135     5135  0_left_007101_rgb.png  0_right_007101_rgb.png     0   \n",
              "\n",
              "     blink  \n",
              "0        1  \n",
              "1        1  \n",
              "2        1  \n",
              "3        1  \n",
              "4        1  \n",
              "...    ...  \n",
              "4553     0  \n",
              "4554     0  \n",
              "4555     0  \n",
              "4556     0  \n",
              "4557     0  \n",
              "\n",
              "[36460 rows x 6 columns]"
            ]
          },
          "execution_count": 12,
          "metadata": {},
          "output_type": "execute_result"
        }
      ],
      "source": [
        "train_data"
      ]
    },
    {
      "cell_type": "code",
      "execution_count": 13,
      "metadata": {
        "colab": {
          "base_uri": "https://localhost:8080/"
        },
        "id": "vxehH-wWub8_",
        "outputId": "8c3da953-c61d-42c8-cd2f-344287dc01fa",
        "vscode": {
          "languageId": "python"
        }
      },
      "outputs": [
        {
          "name": "stdout",
          "output_type": "stream",
          "text": [
            "0    18232\n",
            "1    18228\n",
            "Name: blink, dtype: int64\n"
          ]
        }
      ],
      "source": [
        "print(train_data['blink'].value_counts())"
      ]
    },
    {
      "cell_type": "code",
      "execution_count": 14,
      "metadata": {
        "id": "NMthZLjXYmyU",
        "vscode": {
          "languageId": "python"
        }
      },
      "outputs": [],
      "source": [
        "train_data, test_data = train_test_split(train_data, test_size=0.3, random_state=seed)\n",
        "dev_data, test_data = train_test_split(test_data, test_size=0.5, random_state=seed)\n",
        "\n",
        "train_data = train_data.reset_index(drop=True)\n",
        "dev_data = dev_data.reset_index(drop=True)\n",
        "test_data = test_data.reset_index(drop=True)\n",
        "\n",
        "left_eye_col = 'left_eye'\n",
        "right_eye_col = 'right_eye'\n",
        "y_col = 'blink'\n",
        "\n",
        "batch_size = 256\n",
        "img_width = 60\n",
        "img_height = 36\n",
        "\n",
        "train_generator = generator(train_data)\n",
        "dev_generator = generator(dev_data)\n",
        "test_generator = generator(test_data)"
      ]
    },
    {
      "cell_type": "code",
      "execution_count": null,
      "metadata": {
        "colab": {
          "base_uri": "https://localhost:8080/",
          "height": 35
        },
        "id": "SOJc2XXgsizX",
        "outputId": "c6dba404-986b-4732-f927-248a8a9473e6",
        "vscode": {
          "languageId": "python"
        }
      },
      "outputs": [
        {
          "data": {
            "application/vnd.google.colaboratory.intrinsic+json": {
              "type": "string"
            },
            "text/plain": [
              "\"\\n# use tensorboard \\n%load_ext tensorboard\\n\\nlogdir = 'tflogs'\\nwriter = tf.summary.create_file_writer(logdir)\\n\\n%tensorboard --logdir tflogs\\n\""
            ]
          },
          "execution_count": 15,
          "metadata": {},
          "output_type": "execute_result"
        }
      ],
      "source": [
        "'''\n",
        "# use tensorboard \n",
        "%load_ext tensorboard\n",
        "\n",
        "logdir = 'tflogs'\n",
        "writer = tf.summary.create_file_writer(logdir)\n",
        "\n",
        "%tensorboard --logdir tflogs\n",
        "'''"
      ]
    },
    {
      "cell_type": "code",
      "execution_count": null,
      "metadata": {
        "colab": {
          "base_uri": "https://localhost:8080/"
        },
        "id": "DbL2bA5g26RB",
        "outputId": "00dd1176-1c58-4dbe-8d07-00a0fec8e2fd",
        "vscode": {
          "languageId": "python"
        }
      },
      "outputs": [
        {
          "name": "stdout",
          "output_type": "stream",
          "text": [
            "Looking in indexes: https://pypi.org/simple, https://us-python.pkg.dev/colab-wheels/public/simple/\n",
            "Requirement already satisfied: pip in /usr/local/lib/python3.9/dist-packages (23.0.1)\n",
            "\u001b[33mWARNING: Running pip as the 'root' user can result in broken permissions and conflicting behaviour with the system package manager. It is recommended to use a virtual environment instead: https://pip.pypa.io/warnings/venv\u001b[0m\u001b[33m\n",
            "\u001b[0mLooking in indexes: https://pypi.org/simple, https://us-python.pkg.dev/colab-wheels/public/simple/\n",
            "Requirement already satisfied: tfa-nightly in /usr/local/lib/python3.9/dist-packages (0.20.0.dev20230301043356)\n",
            "Requirement already satisfied: typeguard>=2.7 in /usr/local/lib/python3.9/dist-packages (from tfa-nightly) (3.0.2)\n",
            "Requirement already satisfied: packaging in /usr/local/lib/python3.9/dist-packages (from tfa-nightly) (23.0)\n",
            "Requirement already satisfied: importlib-metadata>=3.6 in /usr/local/lib/python3.9/dist-packages (from typeguard>=2.7->tfa-nightly) (6.1.0)\n",
            "Requirement already satisfied: typing-extensions>=4.4.0 in /usr/local/lib/python3.9/dist-packages (from typeguard>=2.7->tfa-nightly) (4.5.0)\n",
            "Requirement already satisfied: zipp>=0.5 in /usr/local/lib/python3.9/dist-packages (from importlib-metadata>=3.6->typeguard>=2.7->tfa-nightly) (3.15.0)\n",
            "\u001b[33mWARNING: Running pip as the 'root' user can result in broken permissions and conflicting behaviour with the system package manager. It is recommended to use a virtual environment instead: https://pip.pypa.io/warnings/venv\u001b[0m\u001b[33m\n",
            "\u001b[0m"
          ]
        }
      ],
      "source": [
        "!pip3 install --upgrade pip\n",
        "!pip3 install tfa-nightly\n",
        "import tensorflow_addons as tfa\n",
        "\n",
        "def f1_score(y_true,y_pred):\n",
        "  metric = tfa.metrics.F1Score(num_classes=1, threshold=0.5)\n",
        "\n",
        "  metric.update_state(y_true, y_pred)\n",
        "  result = metric.result()\n",
        "\n",
        "  return result.numpy()"
      ]
    },
    {
      "cell_type": "code",
      "execution_count": null,
      "metadata": {
        "colab": {
          "base_uri": "https://localhost:8080/"
        },
        "id": "v_ppDMT8nT8k",
        "outputId": "b14d9228-bdae-4355-8787-e1de405f7bf3",
        "vscode": {
          "languageId": "python"
        }
      },
      "outputs": [
        {
          "name": "stdout",
          "output_type": "stream",
          "text": [
            "Weight for class 0: 1.01\n",
            "Weight for class 1: 0.99\n"
          ]
        }
      ],
      "source": [
        "# Scaling by total/2 helps keep the loss to a similar magnitude.\n",
        "# The sum of the weights of all examples stays the same.\n",
        "neg, pos = np.bincount(train_data['blink'])\n",
        "total = neg + pos\n",
        "weight_for_0 = (1 / neg) * (total / 2.0)\n",
        "weight_for_1 = (1 / pos) * (total / 2.0)\n",
        "\n",
        "class_weight = {0: weight_for_0, 1: weight_for_1}\n",
        "\n",
        "print('Weight for class 0: {:.2f}'.format(weight_for_0))\n",
        "print('Weight for class 1: {:.2f}'.format(weight_for_1))"
      ]
    },
    {
      "cell_type": "code",
      "execution_count": null,
      "metadata": {
        "id": "XomXY4jPbBYy",
        "vscode": {
          "languageId": "python"
        }
      },
      "outputs": [],
      "source": [
        "input_shape = (60, 36, 3)\n",
        "# Declaramos dos capas de Input\n",
        "input_1 = Input(name='left_eye', shape=input_shape)\n",
        "input_2 = Input(name='right_eye', shape=input_shape)\n",
        "\n",
        "concat_layer= Concatenate(name='concat', axis=-2)([input_1, input_2])\n",
        "\n",
        "conv_1_1 = Conv2D(32, 3, name='conv1_l', padding='same', input_shape=(img_width,img_height,3))(concat_layer)\n",
        "bn_1_1 = BatchNormalization()(conv_1_1)\n",
        "re_1_1 = ReLU()(bn_1_1)\n",
        "dr_1_1 = Dropout(0.5)(re_1_1)\n",
        "max_1_1 = MaxPooling2D(name='max1_l', pool_size=2, strides=2)(dr_1_1)\n",
        "conv_2_1 = Conv2D(64, 3, name='conv2_l', padding='same')(max_1_1)\n",
        "bn_2_1 = BatchNormalization()(conv_2_1)\n",
        "re_2_1 = ReLU()(bn_2_1)\n",
        "dr_2_1 = Dropout(0.5)(re_2_1)\n",
        "max_2_1 = MaxPooling2D(name='max2_l', pool_size=2, strides=2)(dr_2_1)\n",
        "\n",
        "flat_layer_1 = Flatten(name='flat_l')(max_2_1)\n",
        "\n",
        "'''\n",
        "conv_1_2 = Conv2D(64, 5, name='conv1_r', padding='same', activation='relu', input_shape=(img_width,img_height,3))(input_2)\n",
        "dr_1_2 = Dropout(0.5)(conv_1_2)\n",
        "max_1_2 = MaxPooling2D(name='max1_r', pool_size=2, strides=2)(dr_1_2)\n",
        "conv_2_2 = Conv2D(64, 5, name='conv2_r', padding='same', activation='relu')(max_1_2)\n",
        "dr_2_2 = Dropout(0.5)(conv_2_2)\n",
        "max_2_2 = MaxPooling2D(name='max2_r', pool_size=2, strides=2)(dr_2_2)\n",
        "flat_layer_2 = Flatten(name='flat_r')(max_2_2)\n",
        "\n",
        "concat_layer= Concatenate(name='concat')([flat_layer_1, flat_layer_2])\n",
        "'''\n",
        "dense_1 = Dense(5000, name='dense_1', activation='softmax')(flat_layer_1)\n",
        "dense_2 = Dense(500, name='dense_2', activation='softmax')(dense_1)\n",
        "predictions = Dense(1, name='output', activation='softmax')(dense_2)\n",
        "\n",
        "# Creamos el modelo final y lo compilamos\n",
        "model = Model(inputs=[input_1, input_2], outputs=[predictions])\n",
        "# Compilamos el modelo\n",
        "model.compile(loss='binary_crossentropy',                # función de pérdida para problemas de clasificación multi-clase\n",
        "              optimizer=optimizers.Adam(learning_rate=1e-3),  # optimizador Adam\n",
        "              metrics=[tfa.metrics.F1Score(num_classes=1),'accuracy'])"
      ]
    },
    {
      "cell_type": "code",
      "execution_count": null,
      "metadata": {
        "colab": {
          "base_uri": "https://localhost:8080/"
        },
        "id": "JF1RJn0Km97p",
        "outputId": "37692ae4-0f95-40d0-9133-f21211c792d6",
        "vscode": {
          "languageId": "python"
        }
      },
      "outputs": [
        {
          "name": "stdout",
          "output_type": "stream",
          "text": [
            "Model: \"model_2\"\n",
            "__________________________________________________________________________________________________\n",
            " Layer (type)                   Output Shape         Param #     Connected to                     \n",
            "==================================================================================================\n",
            " left_eye (InputLayer)          [(None, 60, 36, 3)]  0           []                               \n",
            "                                                                                                  \n",
            " right_eye (InputLayer)         [(None, 60, 36, 3)]  0           []                               \n",
            "                                                                                                  \n",
            " concat (Concatenate)           (None, 60, 72, 3)    0           ['left_eye[0][0]',               \n",
            "                                                                  'right_eye[0][0]']              \n",
            "                                                                                                  \n",
            " conv1_l (Conv2D)               (None, 60, 72, 32)   896         ['concat[0][0]']                 \n",
            "                                                                                                  \n",
            " batch_normalization_4 (BatchNo  (None, 60, 72, 32)  128         ['conv1_l[0][0]']                \n",
            " rmalization)                                                                                     \n",
            "                                                                                                  \n",
            " re_lu_4 (ReLU)                 (None, 60, 72, 32)   0           ['batch_normalization_4[0][0]']  \n",
            "                                                                                                  \n",
            " dropout_4 (Dropout)            (None, 60, 72, 32)   0           ['re_lu_4[0][0]']                \n",
            "                                                                                                  \n",
            " max1_l (MaxPooling2D)          (None, 30, 36, 32)   0           ['dropout_4[0][0]']              \n",
            "                                                                                                  \n",
            " conv2_l (Conv2D)               (None, 30, 36, 64)   18496       ['max1_l[0][0]']                 \n",
            "                                                                                                  \n",
            " batch_normalization_5 (BatchNo  (None, 30, 36, 64)  256         ['conv2_l[0][0]']                \n",
            " rmalization)                                                                                     \n",
            "                                                                                                  \n",
            " re_lu_5 (ReLU)                 (None, 30, 36, 64)   0           ['batch_normalization_5[0][0]']  \n",
            "                                                                                                  \n",
            " dropout_5 (Dropout)            (None, 30, 36, 64)   0           ['re_lu_5[0][0]']                \n",
            "                                                                                                  \n",
            " max2_l (MaxPooling2D)          (None, 15, 18, 64)   0           ['dropout_5[0][0]']              \n",
            "                                                                                                  \n",
            " flat_l (Flatten)               (None, 17280)        0           ['max2_l[0][0]']                 \n",
            "                                                                                                  \n",
            " dense_1 (Dense)                (None, 5000)         86405000    ['flat_l[0][0]']                 \n",
            "                                                                                                  \n",
            " dense_2 (Dense)                (None, 500)          2500500     ['dense_1[0][0]']                \n",
            "                                                                                                  \n",
            " output (Dense)                 (None, 1)            501         ['dense_2[0][0]']                \n",
            "                                                                                                  \n",
            "==================================================================================================\n",
            "Total params: 88,925,777\n",
            "Trainable params: 88,925,585\n",
            "Non-trainable params: 192\n",
            "__________________________________________________________________________________________________\n"
          ]
        }
      ],
      "source": [
        "model.summary()"
      ]
    },
    {
      "cell_type": "code",
      "execution_count": null,
      "metadata": {
        "colab": {
          "base_uri": "https://localhost:8080/",
          "height": 1000
        },
        "id": "sH29LCWzFOep",
        "outputId": "1d7d11f8-fb61-4d4d-e7f6-3da200b3c10e",
        "vscode": {
          "languageId": "python"
        }
      },
      "outputs": [
        {
          "data": {
            "image/png": "[encoded data removed]",
            "text/plain": [
              "<IPython.core.display.Image object>"
            ]
          },
          "execution_count": 38,
          "metadata": {},
          "output_type": "execute_result"
        }
      ],
      "source": [
        "keras.utils.plot_model(model, to_file='model.png')"
      ]
    },
    {
      "cell_type": "code",
      "execution_count": null,
      "metadata": {
        "id": "jtTpQkoSGI1C",
        "vscode": {
          "languageId": "python"
        }
      },
      "outputs": [],
      "source": [
        "def plot_history(history):\n",
        "    plt.figure()\n",
        "    plt.xlabel('Epoch')\n",
        "    plt.ylabel('categorical_crossentropy')\n",
        "    plt.plot(history.epoch, np.array(history.history['loss']),\n",
        "             label='Train Loss')\n",
        "    plt.legend()\n",
        "    plt.ylim([0, max(history.history['loss'])])"
      ]
    },
    {
      "cell_type": "code",
      "execution_count": null,
      "metadata": {
        "colab": {
          "base_uri": "https://localhost:8080/",
          "height": 610
        },
        "id": "zEvRPN1gAQVK",
        "outputId": "2e6c8883-683e-45e1-d864-e46136e1db92",
        "vscode": {
          "languageId": "python"
        }
      },
      "outputs": [
        {
          "name": "stdout",
          "output_type": "stream",
          "text": [
            "Found 25522 validated image filenames belonging to 2 classes.\n",
            "Found 25522 validated image filenames belonging to 2 classes.\n"
          ]
        },
        {
          "data": {
            "image/png": "[encoded data removed]",
            "text/plain": [
              "<Figure size 720x720 with 6 Axes>"
            ]
          },
          "metadata": {},
          "output_type": "display_data"
        }
      ],
      "source": [
        "aug_iter = generator(train_data)\n",
        "fig, ax = plt.subplots(nrows=3,ncols=2,figsize=(10,10))\n",
        "\n",
        "for i in range(3):\n",
        "  eye = next(aug_iter)\n",
        "  left_eye_image = eye[0][0][i]\n",
        "  right_eye_image = eye[0][1][i]\n",
        "\n",
        "  ax[i,0].imshow(right_eye_image)\n",
        "  ax[i,1].imshow(left_eye_image)\n",
        "  ax[i,0].axis('off')\n",
        "  ax[i,1].axis('off')"
      ]
    },
    {
      "cell_type": "code",
      "execution_count": null,
      "metadata": {
        "colab": {
          "background_save": true,
          "base_uri": "https://localhost:8080/"
        },
        "id": "wdIo_Tg8oblC",
        "outputId": "7254406d-a072-4060-d54b-f165b46ad40e",
        "vscode": {
          "languageId": "python"
        }
      },
      "outputs": [
        {
          "name": "stdout",
          "output_type": "stream",
          "text": [
            "Epoch 1/20\n",
            "99/99 [==============================] - 87s 847ms/step - loss: 0.6912 - f1_score: 0.6686 - accuracy: 0.5022 - val_loss: 0.6922 - val_f1_score: 0.6581 - val_accuracy: 0.4904\n",
            "Epoch 2/20\n",
            "99/99 [==============================] - 73s 743ms/step - loss: 0.6769 - f1_score: 0.6695 - accuracy: 0.5032 - val_loss: 0.6824 - val_f1_score: 0.6609 - val_accuracy: 0.4935\n",
            "Epoch 3/20\n",
            "99/99 [==============================] - 73s 735ms/step - loss: 0.6410 - f1_score: 0.6687 - accuracy: 0.5023 - val_loss: 0.6418 - val_f1_score: 0.6651 - val_accuracy: 0.4983\n",
            "Epoch 4/20\n",
            "99/99 [==============================] - 72s 732ms/step - loss: 0.5904 - f1_score: 0.6679 - accuracy: 0.5014 - val_loss: 0.6182 - val_f1_score: 0.6551 - val_accuracy: 0.4871\n",
            "Epoch 5/20\n",
            "99/99 [==============================] - 73s 735ms/step - loss: 0.5318 - f1_score: 0.6709 - accuracy: 0.5048 - val_loss: 0.5193 - val_f1_score: 0.6684 - val_accuracy: 0.5019\n",
            "Epoch 6/20\n",
            "99/99 [==============================] - 74s 746ms/step - loss: 0.4733 - f1_score: 0.6682 - accuracy: 0.5017 - val_loss: 0.4546 - val_f1_score: 0.6582 - val_accuracy: 0.4906\n",
            "Epoch 7/20\n",
            "99/99 [==============================] - 74s 743ms/step - loss: 0.4231 - f1_score: 0.6694 - accuracy: 0.5031 - val_loss: 0.3962 - val_f1_score: 0.6523 - val_accuracy: 0.4840\n",
            "Epoch 8/20\n",
            "99/99 [==============================] - 73s 738ms/step - loss: 0.3684 - f1_score: 0.6686 - accuracy: 0.5022 - val_loss: 0.3559 - val_f1_score: 0.6645 - val_accuracy: 0.4975\n",
            "Epoch 9/20\n",
            "99/99 [==============================] - 72s 732ms/step - loss: 0.3225 - f1_score: 0.6696 - accuracy: 0.5033 - val_loss: 0.3246 - val_f1_score: 0.6596 - val_accuracy: 0.4920\n",
            "Epoch 10/20\n",
            "99/99 [==============================] - 72s 731ms/step - loss: 0.2834 - f1_score: 0.6698 - accuracy: 0.5035 - val_loss: 0.2862 - val_f1_score: 0.6568 - val_accuracy: 0.4889\n",
            "Epoch 11/20\n",
            "99/99 [==============================] - 80s 805ms/step - loss: 0.2501 - f1_score: 0.6685 - accuracy: 0.5021 - val_loss: 0.3079 - val_f1_score: 0.6651 - val_accuracy: 0.4983\n",
            "Epoch 12/20\n",
            "99/99 [==============================] - 78s 794ms/step - loss: 0.2303 - f1_score: 0.6698 - accuracy: 0.5035 - val_loss: 0.2285 - val_f1_score: 0.6568 - val_accuracy: 0.4889\n",
            "Epoch 13/20\n",
            "99/99 [==============================] - 73s 740ms/step - loss: 0.2022 - f1_score: 0.6691 - accuracy: 0.5027 - val_loss: 0.1915 - val_f1_score: 0.6659 - val_accuracy: 0.4992\n",
            "Epoch 14/20\n",
            "99/99 [==============================] - 83s 837ms/step - loss: 0.1762 - f1_score: 0.6696 - accuracy: 0.5033 - val_loss: 0.1817 - val_f1_score: 0.6554 - val_accuracy: 0.4875\n",
            "Epoch 15/20\n",
            "99/99 [==============================] - 73s 739ms/step - loss: 0.1599 - f1_score: 0.6678 - accuracy: 0.5013 - val_loss: 0.1617 - val_f1_score: 0.6596 - val_accuracy: 0.4920\n",
            "Epoch 16/20\n",
            "99/99 [==============================] - 77s 779ms/step - loss: 0.1454 - f1_score: 0.6700 - accuracy: 0.5038 - val_loss: 0.2205 - val_f1_score: 0.6617 - val_accuracy: 0.4944\n",
            "Epoch 17/20\n",
            "99/99 [==============================] - 71s 716ms/step - loss: 0.1349 - f1_score: 0.6708 - accuracy: 0.5047 - val_loss: 0.1269 - val_f1_score: 0.6566 - val_accuracy: 0.4888\n",
            "Epoch 18/20\n",
            "99/99 [==============================] - 77s 778ms/step - loss: 0.1261 - f1_score: 0.6680 - accuracy: 0.5014 - val_loss: 0.2663 - val_f1_score: 0.6630 - val_accuracy: 0.4959\n",
            "Epoch 19/20\n",
            "99/99 [==============================] - 77s 776ms/step - loss: 0.1164 - f1_score: 0.6692 - accuracy: 0.5029 - val_loss: 0.2050 - val_f1_score: 0.6609 - val_accuracy: 0.4935\n",
            "Epoch 20/20\n",
            "99/99 [==============================] - 70s 708ms/step - loss: 0.1065 - f1_score: 0.6700 - accuracy: 0.5037 - val_loss: 0.1175 - val_f1_score: 0.6605 - val_accuracy: 0.4931\n"
          ]
        }
      ],
      "source": [
        "# Entrenamos el modelo con los datos preparados en el punto 2\n",
        "#callbacks = [tf.keras.callbacks.TensorBoard(log_dir=logdir)]\n",
        "history = model.fit(train_generator,\n",
        "                    epochs=20,\n",
        "                    verbose=1,\n",
        "                    steps_per_epoch=len(train_data)/batch_size,\n",
        "                    validation_data=dev_generator,\n",
        "                    validation_steps=len(dev_data)/batch_size,\n",
        "                    class_weight=class_weight)"
      ]
    },
    {
      "cell_type": "code",
      "execution_count": null,
      "metadata": {
        "id": "p1JCYcicqGrH",
        "vscode": {
          "languageId": "python"
        }
      },
      "outputs": [],
      "source": [
        "# Por ultimo, podemos evaluar el modelo en el conjunto de test\n",
        "print()\n",
        "test_loss, test_f1 = model.evaluate(test_generator,\n",
        "                                     batch_size=batch_size,\n",
        "                                     steps=len(test_data)/batch_size,\n",
        "                                     verbose=1)\n",
        "print(\"test_loss: %.4f, test_f1: %.4f\" % (test_loss, test_f1))"
      ]
    },
    {
      "cell_type": "code",
      "execution_count": null,
      "metadata": {
        "id": "OzVnKCYgxLkk",
        "vscode": {
          "languageId": "python"
        }
      },
      "outputs": [],
      "source": [
        "y_pred = model.predict(test_generator,\n",
        "                       batch_size=batch_size,\n",
        "                       steps=len(test_data)/batch_size,\n",
        "                       verbose=1)"
      ]
    },
    {
      "cell_type": "code",
      "execution_count": null,
      "metadata": {
        "id": "viMRdq_JArip",
        "vscode": {
          "languageId": "python"
        }
      },
      "outputs": [],
      "source": [
        "metric = tfa.metrics.F1Score(num_classes=1,average=\"micro\")"
      ]
    },
    {
      "cell_type": "code",
      "execution_count": null,
      "metadata": {
        "id": "LzwJNmKt_tfu",
        "vscode": {
          "languageId": "python"
        }
      },
      "outputs": [],
      "source": [
        "metric.update_state(y_true, y_pred)\n",
        "result = metric.result()\n",
        "result.numpy()"
      ]
    },
    {
      "cell_type": "code",
      "execution_count": null,
      "metadata": {
        "id": "eE6vhneHxqPg",
        "vscode": {
          "languageId": "python"
        }
      },
      "outputs": [],
      "source": []
    }
  ],
  "metadata": {
    "accelerator": "GPU",
    "colab": {
      "provenance": []
    },
    "gpuClass": "standard",
    "kernelspec": {
      "display_name": "Python 3",
      "name": "python3"
    }
  },
  "nbformat": 4,
  "nbformat_minor": 0
}
