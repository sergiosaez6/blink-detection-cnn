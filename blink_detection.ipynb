{
  "cells": [
    {
      "cell_type": "markdown",
      "metadata": {
        "id": "W43vhS-mQCf2"
      },
      "source": [
        "# **Deep Learning**\n",
        "## Blink detection"
      ]
    },
    {
      "cell_type": "markdown",
      "metadata": {
        "id": "rDSz5ZZEGK-m"
      },
      "source": [
        "## 1. PRIMERA APROXIMACIÓN\n",
        "\n",
        "Entrenar una CNN desde cero para la detección de parpadeo en una serie de imágenes."
      ]
    },
    {
      "cell_type": "markdown",
      "metadata": {
        "id": "481imW1oQTY7"
      },
      "source": [
        "### 1.1. Importar librerías\n",
        "Lo primero que vamos a hacer es cargar las librería necesarias: Numpy. Matplotlib, TensorFlow, Keras, Google Colab, Sklearn y Pandas .\n"
      ]
    },
    {
      "cell_type": "code",
      "execution_count": null,
      "metadata": {
        "id": "N9egJT9OQuBt"
      },
      "outputs": [],
      "source": [
        "import numpy as np\n",
        "import matplotlib.pyplot as plt\n",
        "\n",
        "import tensorflow as tf\n",
        "from tensorflow import keras\n",
        "\n",
        "from tensorflow.keras import applications\n",
        "from tensorflow.keras import optimizers\n",
        "from tensorflow.keras.models import Model, load_model\n",
        "from tensorflow.keras.layers import Input, GlobalAveragePooling2D, Dense, Conv2D, MaxPooling2D, BatchNormalization, Flatten, Dropout, Concatenate, ReLU\n",
        "\n",
        "from google.colab import drive\n",
        "from sklearn.model_selection import train_test_split\n",
        "\n",
        "import pandas as pd\n",
        "from keras.preprocessing.image import ImageDataGenerator"
      ]
    },
    {
      "cell_type": "code",
      "execution_count": null,
      "metadata": {
        "colab": {
          "base_uri": "https://localhost:8080/",
          "height": 35
        },
        "id": "q1B3l0LdsIkn",
        "outputId": "6cb5c017-a034-49cd-b811-23601d26eca8"
      },
      "outputs": [
        {
          "output_type": "execute_result",
          "data": {
            "text/plain": [
              "'/device:GPU:0'"
            ],
            "application/vnd.google.colaboratory.intrinsic+json": {
              "type": "string"
            }
          },
          "metadata": {},
          "execution_count": 2
        }
      ],
      "source": [
        "tf.test.gpu_device_name()"
      ]
    },
    {
      "cell_type": "code",
      "execution_count": null,
      "metadata": {
        "colab": {
          "base_uri": "https://localhost:8080/"
        },
        "id": "RLwZb-YSsBuH",
        "outputId": "94798223-1979-4971-8e7e-4e0b4004059a"
      },
      "outputs": [
        {
          "output_type": "execute_result",
          "data": {
            "text/plain": [
              "[name: \"/device:CPU:0\"\n",
              " device_type: \"CPU\"\n",
              " memory_limit: 268435456\n",
              " locality {\n",
              " }\n",
              " incarnation: 3050284234270781012\n",
              " xla_global_id: -1,\n",
              " name: \"/device:GPU:0\"\n",
              " device_type: \"GPU\"\n",
              " memory_limit: 14343274496\n",
              " locality {\n",
              "   bus_id: 1\n",
              "   links {\n",
              "   }\n",
              " }\n",
              " incarnation: 2659520893645066093\n",
              " physical_device_desc: \"device: 0, name: Tesla T4, pci bus id: 0000:00:04.0, compute capability: 7.5\"\n",
              " xla_global_id: 416903419]"
            ]
          },
          "metadata": {},
          "execution_count": 3
        }
      ],
      "source": [
        "from tensorflow.python.client import device_lib\n",
        "device_lib.list_local_devices()"
      ]
    },
    {
      "cell_type": "markdown",
      "metadata": {
        "id": "vuPTiLHCFeaX"
      },
      "source": [
        "Definimos la función generadora de las imágenes para cada ojo y etiquetas correspondientes:"
      ]
    },
    {
      "cell_type": "code",
      "execution_count": null,
      "metadata": {
        "id": "tlpzNIGlhJzO"
      },
      "outputs": [],
      "source": [
        "# Generador custom que devuelve las dos imagenes de ojos y el label del parpadeo\n",
        "def generator(dataframe, datagen):\n",
        "  left_eye_generator = datagen.flow_from_dataframe(dataframe=dataframe,\n",
        "                                                   directory = imgs_path,\n",
        "                                                   target_size =(img_width, img_height),\n",
        "                                                   x_col=left_eye_col,\n",
        "                                                   y_col=y_col,\n",
        "                                                   class_mode=\"binary\",\n",
        "                                                   seed=seed,\n",
        "                                                   batch_size=batch_size)\n",
        "  right_eye_generator = datagen.flow_from_dataframe(dataframe=dataframe,\n",
        "                                                    directory = imgs_path,\n",
        "                                                    target_size =(img_width, img_height),\n",
        "                                                    x_col=right_eye_col,\n",
        "                                                    y_col=y_col,\n",
        "                                                    class_mode=\"binary\",\n",
        "                                                    seed=seed,\n",
        "                                                    batch_size=batch_size)\n",
        "  while True:\n",
        "    left_eye = left_eye_generator.next()\n",
        "    left_eye_image = left_eye[0]\n",
        "    label = left_eye[1]\n",
        "    right_eye = right_eye_generator.next()\n",
        "    right_eye_image = right_eye[0]\n",
        "    yield [left_eye_image, right_eye_image], label"
      ]
    },
    {
      "cell_type": "markdown",
      "metadata": {
        "id": "BZsDv_0gF-f4"
      },
      "source": [
        "## 1.2. Lectura del dataset\n",
        "El siguiente paso consiste en la lectura del dataset y la construcción de un dataframe con las rutas a cada una de las imágenes y sus etiquetas asociadas."
      ]
    },
    {
      "cell_type": "markdown",
      "metadata": {
        "id": "MUBh8zLLFk-v"
      },
      "source": [
        "Se monta el Drive para acceder a nuestro conjunto de datos y descomprimir el fichero zip:"
      ]
    },
    {
      "cell_type": "code",
      "execution_count": null,
      "metadata": {
        "colab": {
          "base_uri": "https://localhost:8080/"
        },
        "id": "229pHB1hHK-Y",
        "outputId": "80206bdc-0f71-46e1-b095-78f9283257ae"
      },
      "outputs": [
        {
          "output_type": "stream",
          "name": "stdout",
          "text": [
            "Mounted at /content/gdrive\n"
          ]
        }
      ],
      "source": [
        "drive.mount('/content/gdrive')\n",
        "!unzip -n '/content/gdrive/MyDrive/Colab Notebooks/Deep Learning/Trabajo final/RT-BENE.zip' >> /dev/null"
      ]
    },
    {
      "cell_type": "markdown",
      "metadata": {
        "id": "kPTksYKrFqGV"
      },
      "source": [
        "A contiunación, leemos los datos y construimos el dataframe:"
      ]
    },
    {
      "cell_type": "code",
      "execution_count": null,
      "metadata": {
        "id": "oIv9Z4r6ycZY"
      },
      "outputs": [],
      "source": [
        "data_path = 'RT-BENE/'\n",
        "imgs_path = data_path + 'images/'\n",
        "labels_path = data_path + 'blinks.csv'\n",
        "\n",
        "seed = 100\n",
        "\n",
        "train_data = pd.read_csv(labels_path, dtype=str)\n",
        "\n",
        "datagen = ImageDataGenerator(rescale=1./255)\n",
        "\n",
        "aug_datagen = ImageDataGenerator(rescale=1./255,\n",
        "                             rotation_range=30,\n",
        "                             horizontal_flip=True,\n",
        "                             brightness_range=[0.9,1])"
      ]
    },
    {
      "cell_type": "markdown",
      "metadata": {
        "id": "AhlO8AZZGOJw"
      },
      "source": [
        "En las siguientes celdas, se realizan una serie de comprobaciones relativas a balanceo de clases:"
      ]
    },
    {
      "cell_type": "code",
      "execution_count": null,
      "metadata": {
        "colab": {
          "base_uri": "https://localhost:8080/"
        },
        "id": "YrMVcb7lHQ4f",
        "outputId": "5bde418b-9982-483f-fd56-155f7391b2a5"
      },
      "outputs": [
        {
          "output_type": "stream",
          "name": "stdout",
          "text": [
            "Initially, we have the following instances per class: \n",
            "0    102793\n",
            "1      4557\n",
            "Name: blink, dtype: int64\n"
          ]
        }
      ],
      "source": [
        "print(\"Initially, we have the following instances per class: \")\n",
        "print(train_data['blink'].value_counts())"
      ]
    },
    {
      "cell_type": "markdown",
      "metadata": {
        "id": "8KpxVkLBGd_m"
      },
      "source": [
        "Debido al desbalanceo que hay, se opta por separar el dataframe en dos, uno por cada clase, para procesarlos de manera independiente:"
      ]
    },
    {
      "cell_type": "code",
      "execution_count": null,
      "metadata": {
        "id": "HqHvjG79set4"
      },
      "outputs": [],
      "source": [
        "blink = train_data.loc[train_data['blink']=='1'].reset_index()\n",
        "no_blink = train_data.loc[train_data['blink']=='0'].reset_index()"
      ]
    },
    {
      "cell_type": "code",
      "execution_count": null,
      "metadata": {
        "colab": {
          "base_uri": "https://localhost:8080/"
        },
        "id": "bhANSIHetIys",
        "outputId": "c77e1047-9e54-4ae2-b692-0c9aaef09f57"
      },
      "outputs": [
        {
          "output_type": "stream",
          "name": "stdout",
          "text": [
            "Blink instances: 4557\n",
            "No blink instances: 102793\n"
          ]
        }
      ],
      "source": [
        "print(f\"Blink instances: {blink.shape[0]}\")\n",
        "print(f\"No blink instances: {no_blink.shape[0]}\")"
      ]
    },
    {
      "cell_type": "markdown",
      "metadata": {
        "id": "UqXKQlbHGzes"
      },
      "source": [
        "Este desbalanceo se va a intentar combatir con un sobremuestreo de la clase minortaria y la introducción de un data augmentation en el ImageDaraGenerator definido anteriormente:"
      ]
    },
    {
      "cell_type": "code",
      "execution_count": null,
      "metadata": {
        "colab": {
          "base_uri": "https://localhost:8080/"
        },
        "id": "gDotCh9wy__n",
        "outputId": "c2f55e44-2a7b-4d3c-9122-1a706a45a753"
      },
      "outputs": [
        {
          "output_type": "stream",
          "name": "stdout",
          "text": [
            "Blink instances per video: \n",
            "0     931\n",
            "2     789\n",
            "11    692\n",
            "8     459\n",
            "10    353\n",
            "13    295\n",
            "14    215\n",
            "3     167\n",
            "7     149\n",
            "4     130\n",
            "1     128\n",
            "5     110\n",
            "9      45\n",
            "16     42\n",
            "15     29\n",
            "12     23\n",
            "Name: video, dtype: int64\n"
          ]
        }
      ],
      "source": [
        "print(\"Blink instances per video: \")\n",
        "print(blink['video'].value_counts())"
      ]
    },
    {
      "cell_type": "code",
      "execution_count": null,
      "metadata": {
        "colab": {
          "base_uri": "https://localhost:8080/"
        },
        "id": "fJWa6yWhxB2d",
        "outputId": "619d44f7-9a25-46c7-e6d0-ff0525a74ab3"
      },
      "outputs": [
        {
          "output_type": "stream",
          "name": "stdout",
          "text": [
            "No blink instances per video: \n",
            "10    16206\n",
            "11    12125\n",
            "0     11934\n",
            "13     9291\n",
            "1      8543\n",
            "2      7913\n",
            "8      5649\n",
            "5      5245\n",
            "14     5156\n",
            "4      4620\n",
            "16     4507\n",
            "9      4165\n",
            "3      3038\n",
            "15     1781\n",
            "7      1708\n",
            "12      912\n",
            "Name: video, dtype: int64\n"
          ]
        }
      ],
      "source": [
        "print(\"No blink instances per video: \")\n",
        "print(no_blink['video'].value_counts())"
      ]
    },
    {
      "cell_type": "markdown",
      "metadata": {
        "id": "3F1jGkUehFz6"
      },
      "source": [
        "Sin embargo, antes de realizar el sobremuestreo de la clase minoritaria y para evitar que información presente en el entrenamiento aparezca en los datos de validación y test, lo primero que se va a realizar es la separación de los datos en los 3 conjuntos de entrenamiento, validación y test.\n",
        "\n",
        "Esto separará los datos manteniendo el mismo equilibrio entre ambas clases, es decir, habrá más ejemplos de 'no parpadeo' que de 'parpadeo'. Sin embargo, como la medida que se está utilizando es el F1-Score en modo \"macro\" este desequilibrio no será tal."
      ]
    },
    {
      "cell_type": "code",
      "execution_count": null,
      "metadata": {
        "id": "NMthZLjXYmyU"
      },
      "outputs": [],
      "source": [
        "train_data, test_data = train_test_split(train_data, test_size=0.3, random_state=seed, stratify=train_data['blink'])\n",
        "val_data, test_data = train_test_split(test_data, test_size=0.5, random_state=seed, stratify=test_data['blink'])\n",
        "\n",
        "train_data = train_data.reset_index(drop=True)\n",
        "val_data = val_data.reset_index(drop=True)\n",
        "test_data = test_data.reset_index(drop=True)\n",
        "\n",
        "left_eye_col = 'left_eye'\n",
        "right_eye_col = 'right_eye'\n",
        "y_col = 'blink'\n",
        "\n",
        "batch_size = 256\n",
        "img_width = 60\n",
        "img_height = 36\n",
        "\n",
        "val_generator = generator(val_data, datagen)\n",
        "test_generator = generator(test_data, datagen)"
      ]
    },
    {
      "cell_type": "code",
      "execution_count": null,
      "metadata": {
        "colab": {
          "base_uri": "https://localhost:8080/"
        },
        "id": "TPR4RDTQSpyh",
        "outputId": "afb593a9-1268-4af0-c772-b0ce72fc9df6"
      },
      "outputs": [
        {
          "output_type": "stream",
          "name": "stdout",
          "text": [
            "Total number of instances in the validation dataset: 16102\n",
            "\n",
            "Class balance:\n",
            "0    15419\n",
            "1      683\n",
            "Name: blink, dtype: int64\n"
          ]
        }
      ],
      "source": [
        "print(f\"Total number of instances in the validation dataset: {val_data.shape[0]}\")\n",
        "print(\"\\nClass balance:\")\n",
        "print(val_data['blink'].value_counts())"
      ]
    },
    {
      "cell_type": "code",
      "execution_count": null,
      "metadata": {
        "colab": {
          "base_uri": "https://localhost:8080/"
        },
        "id": "FiPRslvGSp4r",
        "outputId": "3480e1ee-bf54-4654-e2f0-7019c526b791"
      },
      "outputs": [
        {
          "output_type": "stream",
          "name": "stdout",
          "text": [
            "Total number of instances in the test dataset: 16103\n",
            "\n",
            "Class balance:\n",
            "0    15419\n",
            "1      684\n",
            "Name: blink, dtype: int64\n"
          ]
        }
      ],
      "source": [
        "print(f\"Total number of instances in the test dataset: {test_data.shape[0]}\")\n",
        "print(\"\\nClass balance:\")\n",
        "print(test_data['blink'].value_counts())"
      ]
    },
    {
      "cell_type": "code",
      "execution_count": null,
      "metadata": {
        "colab": {
          "base_uri": "https://localhost:8080/"
        },
        "id": "YrsIokWcTfy8",
        "outputId": "2ec44d0f-897a-4670-f571-6bfea7498b88"
      },
      "outputs": [
        {
          "output_type": "stream",
          "name": "stdout",
          "text": [
            "Total number of validation blinks per video:\n",
            "0     127\n",
            "2     125\n",
            "11    113\n",
            "8      60\n",
            "10     57\n",
            "13     43\n",
            "14     32\n",
            "7      26\n",
            "3      24\n",
            "5      20\n",
            "4      19\n",
            "1      15\n",
            "9       9\n",
            "16      6\n",
            "15      5\n",
            "12      2\n",
            "Name: video, dtype: int64\n",
            "\n",
            "Total number of validation no blinks per video: \n",
            "10    2496\n",
            "11    1856\n",
            "0     1797\n",
            "13    1390\n",
            "1     1279\n",
            "2     1241\n",
            "8      803\n",
            "5      790\n",
            "14     759\n",
            "4      691\n",
            "16     627\n",
            "9      611\n",
            "3      439\n",
            "15     261\n",
            "7      251\n",
            "12     128\n",
            "Name: video, dtype: int64\n"
          ]
        }
      ],
      "source": [
        "print(\"Total number of validation blinks per video:\")\n",
        "print(val_data[val_data['blink']=='1']['video'].value_counts())\n",
        "\n",
        "print(\"\\nTotal number of validation no blinks per video: \")\n",
        "print(val_data[val_data['blink']=='0']['video'].value_counts())"
      ]
    },
    {
      "cell_type": "markdown",
      "metadata": {
        "id": "wWnxMbzUitYh"
      },
      "source": [
        "Antes de definir el generador para los datos de entrenamiento, debemos hacer el sobremuestreo de la clase minoritaria."
      ]
    },
    {
      "cell_type": "markdown",
      "metadata": {
        "id": "x3NEM0XOHLUf"
      },
      "source": [
        "El sobremuestreo se va a realizar de tal manera que se van a replicar las rutas de las imágenes a la clase minoritaria, y posteriormente se transformarán con el ImageDataGenerator de tal manera que los ejemplos son diferentes aunque se elija un mismo fichero de imagen.\n",
        "\n",
        "Además, esta replicación se va a hacer por vídeo, de tal manera que tengamos el mismo número de ejemplo de parpadeo y no parpadeo también por vídeo. Esto se ha decidido ya que al revisar el dataset, se ha visto que de un vídeo a otro puede cambiar el brillo, la orientación y la persona, por lo que de esta manera se equilibran también los ejemplos para cada una de las características.\n"
      ]
    },
    {
      "cell_type": "code",
      "execution_count": null,
      "metadata": {
        "id": "XQlXSDtPuoA8"
      },
      "outputs": [],
      "source": [
        "def replicate_dataframe(dataframe, target_size):\n",
        "    num_replications = target_size // len(dataframe) + 1\n",
        "    replicated_dataframe = pd.concat([dataframe] * num_replications, ignore_index=True)\n",
        "    return replicated_dataframe[:target_size]\n"
      ]
    },
    {
      "cell_type": "code",
      "execution_count": null,
      "metadata": {
        "id": "3VWzLH2Szb8m"
      },
      "outputs": [],
      "source": [
        "def balance_classes(new_blink, blink, no_blink):\n",
        "  blink_count = blink['video'].value_counts()\n",
        "  no_blink_count = no_blink['video'].value_counts()\n",
        "\n",
        "  blink_videos = blink['video'].unique().tolist()\n",
        "  no_blink_videos = no_blink['video'].unique().tolist()\n",
        "\n",
        "  for video_id in blink_videos:\n",
        "    no_blink_value = no_blink_count[video_id]\n",
        "\n",
        "    df = replicate_dataframe(blink[blink['video']==video_id],no_blink_value-blink_count[video_id])\n",
        "    new_blink = pd.concat([new_blink, df], ignore_index=True)\n",
        "  \n",
        "  return new_blink"
      ]
    },
    {
      "cell_type": "code",
      "execution_count": null,
      "metadata": {
        "id": "0bF1IVOc1PJX"
      },
      "outputs": [],
      "source": [
        "# Se recalculan los dataframes de 'parpadeo' y no 'parpadeo', esta vez con los datos de entrenamiento únicamente\n",
        "blink = train_data[train_data['blink']=='1']\n",
        "no_blink = train_data[train_data['blink']=='0']\n",
        "\n",
        "new_blink = blink.copy()\n",
        "blink_augmented = balance_classes(new_blink, blink, no_blink)\n",
        "blink_augmented = blink_augmented.reset_index()"
      ]
    },
    {
      "cell_type": "markdown",
      "metadata": {
        "id": "ouC1Su7mILbX"
      },
      "source": [
        "Ahora, como se puede ver, tenemos el mismo número de ejemplos de parpadeo y no parpadeo, no solamente en todo el dataset, sino también por vídeo."
      ]
    },
    {
      "cell_type": "code",
      "execution_count": null,
      "metadata": {
        "colab": {
          "base_uri": "https://localhost:8080/"
        },
        "id": "ujh1Vqli2jA3",
        "outputId": "98abb3c0-1d9e-43f0-c786-993a1fc905a0"
      },
      "outputs": [
        {
          "output_type": "stream",
          "name": "stdout",
          "text": [
            "Total number of training blinks per video:\n",
            "10    11287\n",
            "11     8508\n",
            "0      8349\n",
            "13     6532\n",
            "1      6011\n",
            "2      5419\n",
            "8      3987\n",
            "14     3628\n",
            "5      3620\n",
            "4      3255\n",
            "16     3197\n",
            "9      2897\n",
            "3      2162\n",
            "15     1250\n",
            "7      1213\n",
            "12      640\n",
            "Name: video, dtype: int64\n",
            "\n",
            "Total number of training no blinks per video: \n",
            "10    11287\n",
            "11     8508\n",
            "0      8349\n",
            "13     6532\n",
            "1      6011\n",
            "2      5419\n",
            "8      3987\n",
            "14     3628\n",
            "5      3620\n",
            "4      3255\n",
            "16     3197\n",
            "9      2897\n",
            "3      2162\n",
            "15     1250\n",
            "7      1213\n",
            "12      640\n",
            "Name: video, dtype: int64\n"
          ]
        }
      ],
      "source": [
        "print(\"Total number of training blinks per video:\")\n",
        "print(blink_augmented[blink_augmented['blink']=='1']['video'].value_counts())\n",
        "\n",
        "print(\"\\nTotal number of training no blinks per video: \")\n",
        "print(no_blink[no_blink['blink']=='0']['video'].value_counts())"
      ]
    },
    {
      "cell_type": "markdown",
      "metadata": {
        "id": "-19DelXEIS1Q"
      },
      "source": [
        "Finalmente, juntamos todos los ejemplos de parpadeo y no parpadeo, confirmando nuestro dataset aumentado:"
      ]
    },
    {
      "cell_type": "code",
      "execution_count": null,
      "metadata": {
        "colab": {
          "base_uri": "https://localhost:8080/"
        },
        "id": "9u_EUHcgvnU8",
        "outputId": "89be1820-c954-4534-f36a-e6c55f783a0c"
      },
      "outputs": [
        {
          "output_type": "stream",
          "name": "stdout",
          "text": [
            "Total number of instances in the augmented dataset: 143910\n"
          ]
        }
      ],
      "source": [
        "train_data_aug=pd.concat([blink_augmented,no_blink], axis=0, ignore_index=True)\n",
        "print(f\"Total number of instances in the augmented dataset: {train_data_aug.shape[0]}\")"
      ]
    },
    {
      "cell_type": "code",
      "execution_count": null,
      "metadata": {
        "colab": {
          "base_uri": "https://localhost:8080/"
        },
        "id": "HIxhcRnk-IJ3",
        "outputId": "641fb540-efb3-4f3c-e35d-f8eb1c4e67d2"
      },
      "outputs": [
        {
          "output_type": "stream",
          "name": "stdout",
          "text": [
            "1    71955\n",
            "0    71955\n",
            "Name: blink, dtype: int64\n"
          ]
        }
      ],
      "source": [
        "print(train_data_aug['blink'].value_counts())"
      ]
    },
    {
      "cell_type": "markdown",
      "metadata": {
        "id": "ySi78ku5BfpC"
      },
      "source": [
        "Por limitaciones computacionales, se va a submuestrear el dataset aumentado, para que queden la mitad de instancias, per manteniendo el equilibrio entre clases:"
      ]
    },
    {
      "cell_type": "code",
      "execution_count": null,
      "metadata": {
        "colab": {
          "base_uri": "https://localhost:8080/"
        },
        "id": "eFqCY2DVB1A6",
        "outputId": "4cc183b3-4775-4ae0-a53e-6308c2434d2d"
      },
      "outputs": [
        {
          "output_type": "stream",
          "name": "stdout",
          "text": [
            "Total number of instances in the augmented dataset (after subsample): 71955\n",
            "\n",
            "Class balance:\n",
            "1    35978\n",
            "0    35977\n",
            "Name: blink, dtype: int64\n"
          ]
        }
      ],
      "source": [
        "train_data_aug = train_data_aug[::2]\n",
        "print(f\"Total number of instances in the augmented dataset (after subsample): {train_data_aug.shape[0]}\")\n",
        "print(\"\\nClass balance:\")\n",
        "print(train_data_aug['blink'].value_counts())"
      ]
    },
    {
      "cell_type": "code",
      "execution_count": null,
      "metadata": {
        "colab": {
          "base_uri": "https://localhost:8080/",
          "height": 363
        },
        "id": "pJWRViTMbXDE",
        "outputId": "693b720c-f1fa-4c47-89ef-1f26a876036c"
      },
      "outputs": [
        {
          "output_type": "execute_result",
          "data": {
            "text/plain": [
              "    index blink_id                left_eye                right_eye video  \\\n",
              "0     0.0      613   0_left_000622_rgb.png   0_right_000622_rgb.png     0   \n",
              "2     2.0    26639   2_left_009477_rgb.png   2_right_009477_rgb.png     2   \n",
              "4     4.0    29268   2_left_013771_rgb.png   2_right_013771_rgb.png     2   \n",
              "6     6.0    53564   9_left_003022_rgb.png   9_right_003022_rgb.png     9   \n",
              "8     8.0    27200   2_left_010517_rgb.png   2_right_010517_rgb.png     2   \n",
              "10   10.0     7765   0_left_011010_rgb.png   0_right_011010_rgb.png     0   \n",
              "12   12.0    49743   8_left_012223_rgb.png   8_right_012223_rgb.png     8   \n",
              "14   14.0     3075   0_left_003640_rgb.png   0_right_003640_rgb.png     0   \n",
              "16   16.0    82788  11_left_014971_rgb.png  11_right_014971_rgb.png    11   \n",
              "18   18.0    37881   4_left_007642_rgb.png   4_right_007642_rgb.png     4   \n",
              "\n",
              "   blink  \n",
              "0      1  \n",
              "2      1  \n",
              "4      1  \n",
              "6      1  \n",
              "8      1  \n",
              "10     1  \n",
              "12     1  \n",
              "14     1  \n",
              "16     1  \n",
              "18     1  "
            ],
            "text/html": [
              "\n",
              "  <div id=\"df-70175fe2-0da1-47b5-9761-70178f1866e5\">\n",
              "    <div class=\"colab-df-container\">\n",
              "      <div>\n",
              "<style scoped>\n",
              "    .dataframe tbody tr th:only-of-type {\n",
              "        vertical-align: middle;\n",
              "    }\n",
              "\n",
              "    .dataframe tbody tr th {\n",
              "        vertical-align: top;\n",
              "    }\n",
              "\n",
              "    .dataframe thead th {\n",
              "        text-align: right;\n",
              "    }\n",
              "</style>\n",
              "<table border=\"1\" class=\"dataframe\">\n",
              "  <thead>\n",
              "    <tr style=\"text-align: right;\">\n",
              "      <th></th>\n",
              "      <th>index</th>\n",
              "      <th>blink_id</th>\n",
              "      <th>left_eye</th>\n",
              "      <th>right_eye</th>\n",
              "      <th>video</th>\n",
              "      <th>blink</th>\n",
              "    </tr>\n",
              "  </thead>\n",
              "  <tbody>\n",
              "    <tr>\n",
              "      <th>0</th>\n",
              "      <td>0.0</td>\n",
              "      <td>613</td>\n",
              "      <td>0_left_000622_rgb.png</td>\n",
              "      <td>0_right_000622_rgb.png</td>\n",
              "      <td>0</td>\n",
              "      <td>1</td>\n",
              "    </tr>\n",
              "    <tr>\n",
              "      <th>2</th>\n",
              "      <td>2.0</td>\n",
              "      <td>26639</td>\n",
              "      <td>2_left_009477_rgb.png</td>\n",
              "      <td>2_right_009477_rgb.png</td>\n",
              "      <td>2</td>\n",
              "      <td>1</td>\n",
              "    </tr>\n",
              "    <tr>\n",
              "      <th>4</th>\n",
              "      <td>4.0</td>\n",
              "      <td>29268</td>\n",
              "      <td>2_left_013771_rgb.png</td>\n",
              "      <td>2_right_013771_rgb.png</td>\n",
              "      <td>2</td>\n",
              "      <td>1</td>\n",
              "    </tr>\n",
              "    <tr>\n",
              "      <th>6</th>\n",
              "      <td>6.0</td>\n",
              "      <td>53564</td>\n",
              "      <td>9_left_003022_rgb.png</td>\n",
              "      <td>9_right_003022_rgb.png</td>\n",
              "      <td>9</td>\n",
              "      <td>1</td>\n",
              "    </tr>\n",
              "    <tr>\n",
              "      <th>8</th>\n",
              "      <td>8.0</td>\n",
              "      <td>27200</td>\n",
              "      <td>2_left_010517_rgb.png</td>\n",
              "      <td>2_right_010517_rgb.png</td>\n",
              "      <td>2</td>\n",
              "      <td>1</td>\n",
              "    </tr>\n",
              "    <tr>\n",
              "      <th>10</th>\n",
              "      <td>10.0</td>\n",
              "      <td>7765</td>\n",
              "      <td>0_left_011010_rgb.png</td>\n",
              "      <td>0_right_011010_rgb.png</td>\n",
              "      <td>0</td>\n",
              "      <td>1</td>\n",
              "    </tr>\n",
              "    <tr>\n",
              "      <th>12</th>\n",
              "      <td>12.0</td>\n",
              "      <td>49743</td>\n",
              "      <td>8_left_012223_rgb.png</td>\n",
              "      <td>8_right_012223_rgb.png</td>\n",
              "      <td>8</td>\n",
              "      <td>1</td>\n",
              "    </tr>\n",
              "    <tr>\n",
              "      <th>14</th>\n",
              "      <td>14.0</td>\n",
              "      <td>3075</td>\n",
              "      <td>0_left_003640_rgb.png</td>\n",
              "      <td>0_right_003640_rgb.png</td>\n",
              "      <td>0</td>\n",
              "      <td>1</td>\n",
              "    </tr>\n",
              "    <tr>\n",
              "      <th>16</th>\n",
              "      <td>16.0</td>\n",
              "      <td>82788</td>\n",
              "      <td>11_left_014971_rgb.png</td>\n",
              "      <td>11_right_014971_rgb.png</td>\n",
              "      <td>11</td>\n",
              "      <td>1</td>\n",
              "    </tr>\n",
              "    <tr>\n",
              "      <th>18</th>\n",
              "      <td>18.0</td>\n",
              "      <td>37881</td>\n",
              "      <td>4_left_007642_rgb.png</td>\n",
              "      <td>4_right_007642_rgb.png</td>\n",
              "      <td>4</td>\n",
              "      <td>1</td>\n",
              "    </tr>\n",
              "  </tbody>\n",
              "</table>\n",
              "</div>\n",
              "      <button class=\"colab-df-convert\" onclick=\"convertToInteractive('df-70175fe2-0da1-47b5-9761-70178f1866e5')\"\n",
              "              title=\"Convert this dataframe to an interactive table.\"\n",
              "              style=\"display:none;\">\n",
              "        \n",
              "  <svg xmlns=\"http://www.w3.org/2000/svg\" height=\"24px\"viewBox=\"0 0 24 24\"\n",
              "       width=\"24px\">\n",
              "    <path d=\"M0 0h24v24H0V0z\" fill=\"none\"/>\n",
              "    <path d=\"M18.56 5.44l.94 2.06.94-2.06 2.06-.94-2.06-.94-.94-2.06-.94 2.06-2.06.94zm-11 1L8.5 8.5l.94-2.06 2.06-.94-2.06-.94L8.5 2.5l-.94 2.06-2.06.94zm10 10l.94 2.06.94-2.06 2.06-.94-2.06-.94-.94-2.06-.94 2.06-2.06.94z\"/><path d=\"M17.41 7.96l-1.37-1.37c-.4-.4-.92-.59-1.43-.59-.52 0-1.04.2-1.43.59L10.3 9.45l-7.72 7.72c-.78.78-.78 2.05 0 2.83L4 21.41c.39.39.9.59 1.41.59.51 0 1.02-.2 1.41-.59l7.78-7.78 2.81-2.81c.8-.78.8-2.07 0-2.86zM5.41 20L4 18.59l7.72-7.72 1.47 1.35L5.41 20z\"/>\n",
              "  </svg>\n",
              "      </button>\n",
              "      \n",
              "  <style>\n",
              "    .colab-df-container {\n",
              "      display:flex;\n",
              "      flex-wrap:wrap;\n",
              "      gap: 12px;\n",
              "    }\n",
              "\n",
              "    .colab-df-convert {\n",
              "      background-color: #E8F0FE;\n",
              "      border: none;\n",
              "      border-radius: 50%;\n",
              "      cursor: pointer;\n",
              "      display: none;\n",
              "      fill: #1967D2;\n",
              "      height: 32px;\n",
              "      padding: 0 0 0 0;\n",
              "      width: 32px;\n",
              "    }\n",
              "\n",
              "    .colab-df-convert:hover {\n",
              "      background-color: #E2EBFA;\n",
              "      box-shadow: 0px 1px 2px rgba(60, 64, 67, 0.3), 0px 1px 3px 1px rgba(60, 64, 67, 0.15);\n",
              "      fill: #174EA6;\n",
              "    }\n",
              "\n",
              "    [theme=dark] .colab-df-convert {\n",
              "      background-color: #3B4455;\n",
              "      fill: #D2E3FC;\n",
              "    }\n",
              "\n",
              "    [theme=dark] .colab-df-convert:hover {\n",
              "      background-color: #434B5C;\n",
              "      box-shadow: 0px 1px 3px 1px rgba(0, 0, 0, 0.15);\n",
              "      filter: drop-shadow(0px 1px 2px rgba(0, 0, 0, 0.3));\n",
              "      fill: #FFFFFF;\n",
              "    }\n",
              "  </style>\n",
              "\n",
              "      <script>\n",
              "        const buttonEl =\n",
              "          document.querySelector('#df-70175fe2-0da1-47b5-9761-70178f1866e5 button.colab-df-convert');\n",
              "        buttonEl.style.display =\n",
              "          google.colab.kernel.accessAllowed ? 'block' : 'none';\n",
              "\n",
              "        async function convertToInteractive(key) {\n",
              "          const element = document.querySelector('#df-70175fe2-0da1-47b5-9761-70178f1866e5');\n",
              "          const dataTable =\n",
              "            await google.colab.kernel.invokeFunction('convertToInteractive',\n",
              "                                                     [key], {});\n",
              "          if (!dataTable) return;\n",
              "\n",
              "          const docLinkHtml = 'Like what you see? Visit the ' +\n",
              "            '<a target=\"_blank\" href=https://colab.research.google.com/notebooks/data_table.ipynb>data table notebook</a>'\n",
              "            + ' to learn more about interactive tables.';\n",
              "          element.innerHTML = '';\n",
              "          dataTable['output_type'] = 'display_data';\n",
              "          await google.colab.output.renderOutput(dataTable, element);\n",
              "          const docLink = document.createElement('div');\n",
              "          docLink.innerHTML = docLinkHtml;\n",
              "          element.appendChild(docLink);\n",
              "        }\n",
              "      </script>\n",
              "    </div>\n",
              "  </div>\n",
              "  "
            ]
          },
          "metadata": {},
          "execution_count": 23
        }
      ],
      "source": [
        "train_data_aug[:10]"
      ]
    },
    {
      "cell_type": "markdown",
      "metadata": {
        "id": "n3pBSfjiaTZv"
      },
      "source": [
        "Y para que no queden primero los valores de una clase seguidos de los de otra, se van a mezclar los ejemplos como se hace por defecto en la función train_test_split:"
      ]
    },
    {
      "cell_type": "code",
      "execution_count": null,
      "metadata": {
        "colab": {
          "base_uri": "https://localhost:8080/"
        },
        "id": "Cs678OINagoY",
        "outputId": "a29a5b72-9b00-4f99-a950-c2118c63603c"
      },
      "outputs": [
        {
          "output_type": "stream",
          "name": "stdout",
          "text": [
            "Total number of instances in the augmented dataset (after subsample): 71955\n",
            "\n",
            "Class balance:\n",
            "1    35978\n",
            "0    35977\n",
            "Name: blink, dtype: int64\n"
          ]
        }
      ],
      "source": [
        "train_data_aug = train_data_aug.sample(frac=1, replace=False, random_state=seed)\n",
        "print(f\"Total number of instances in the augmented dataset (after subsample): {train_data_aug.shape[0]}\")\n",
        "print(\"\\nClass balance:\")\n",
        "print(train_data_aug['blink'].value_counts())"
      ]
    },
    {
      "cell_type": "code",
      "execution_count": null,
      "metadata": {
        "colab": {
          "base_uri": "https://localhost:8080/",
          "height": 363
        },
        "id": "sgSxGDOFbdrE",
        "outputId": "9d61c845-97d1-448f-9df3-0aed04a43d71"
      },
      "outputs": [
        {
          "output_type": "execute_result",
          "data": {
            "text/plain": [
              "          index blink_id                left_eye                right_eye  \\\n",
              "60162   60162.0   100758  14_left_006072_rgb.png  14_right_006072_rgb.png   \n",
              "34888   34888.0    15039   1_left_002406_rgb.png   1_right_002406_rgb.png   \n",
              "49282   49282.0    72828  11_left_000554_rgb.png  11_right_000554_rgb.png   \n",
              "90546       NaN    86301  13_left_000268_rgb.png  13_right_000268_rgb.png   \n",
              "104646      NaN    86574  13_left_000541_rgb.png  13_right_000541_rgb.png   \n",
              "32174   32174.0    92584  13_left_013100_rgb.png  13_right_013100_rgb.png   \n",
              "100278      NaN    17072   1_left_005013_rgb.png   1_right_005013_rgb.png   \n",
              "104336      NaN    79928  11_left_011311_rgb.png  11_right_011311_rgb.png   \n",
              "78860       NaN    28590   2_left_012628_rgb.png   2_right_012628_rgb.png   \n",
              "55216   55216.0    34174   4_left_001292_rgb.png   4_right_001292_rgb.png   \n",
              "\n",
              "       video blink  \n",
              "60162     14     1  \n",
              "34888      1     1  \n",
              "49282     11     1  \n",
              "90546     13     0  \n",
              "104646    13     0  \n",
              "32174     13     1  \n",
              "100278     1     0  \n",
              "104336    11     0  \n",
              "78860      2     0  \n",
              "55216      4     1  "
            ],
            "text/html": [
              "\n",
              "  <div id=\"df-0eee12a5-fda8-4f10-b76c-563558140cae\">\n",
              "    <div class=\"colab-df-container\">\n",
              "      <div>\n",
              "<style scoped>\n",
              "    .dataframe tbody tr th:only-of-type {\n",
              "        vertical-align: middle;\n",
              "    }\n",
              "\n",
              "    .dataframe tbody tr th {\n",
              "        vertical-align: top;\n",
              "    }\n",
              "\n",
              "    .dataframe thead th {\n",
              "        text-align: right;\n",
              "    }\n",
              "</style>\n",
              "<table border=\"1\" class=\"dataframe\">\n",
              "  <thead>\n",
              "    <tr style=\"text-align: right;\">\n",
              "      <th></th>\n",
              "      <th>index</th>\n",
              "      <th>blink_id</th>\n",
              "      <th>left_eye</th>\n",
              "      <th>right_eye</th>\n",
              "      <th>video</th>\n",
              "      <th>blink</th>\n",
              "    </tr>\n",
              "  </thead>\n",
              "  <tbody>\n",
              "    <tr>\n",
              "      <th>60162</th>\n",
              "      <td>60162.0</td>\n",
              "      <td>100758</td>\n",
              "      <td>14_left_006072_rgb.png</td>\n",
              "      <td>14_right_006072_rgb.png</td>\n",
              "      <td>14</td>\n",
              "      <td>1</td>\n",
              "    </tr>\n",
              "    <tr>\n",
              "      <th>34888</th>\n",
              "      <td>34888.0</td>\n",
              "      <td>15039</td>\n",
              "      <td>1_left_002406_rgb.png</td>\n",
              "      <td>1_right_002406_rgb.png</td>\n",
              "      <td>1</td>\n",
              "      <td>1</td>\n",
              "    </tr>\n",
              "    <tr>\n",
              "      <th>49282</th>\n",
              "      <td>49282.0</td>\n",
              "      <td>72828</td>\n",
              "      <td>11_left_000554_rgb.png</td>\n",
              "      <td>11_right_000554_rgb.png</td>\n",
              "      <td>11</td>\n",
              "      <td>1</td>\n",
              "    </tr>\n",
              "    <tr>\n",
              "      <th>90546</th>\n",
              "      <td>NaN</td>\n",
              "      <td>86301</td>\n",
              "      <td>13_left_000268_rgb.png</td>\n",
              "      <td>13_right_000268_rgb.png</td>\n",
              "      <td>13</td>\n",
              "      <td>0</td>\n",
              "    </tr>\n",
              "    <tr>\n",
              "      <th>104646</th>\n",
              "      <td>NaN</td>\n",
              "      <td>86574</td>\n",
              "      <td>13_left_000541_rgb.png</td>\n",
              "      <td>13_right_000541_rgb.png</td>\n",
              "      <td>13</td>\n",
              "      <td>0</td>\n",
              "    </tr>\n",
              "    <tr>\n",
              "      <th>32174</th>\n",
              "      <td>32174.0</td>\n",
              "      <td>92584</td>\n",
              "      <td>13_left_013100_rgb.png</td>\n",
              "      <td>13_right_013100_rgb.png</td>\n",
              "      <td>13</td>\n",
              "      <td>1</td>\n",
              "    </tr>\n",
              "    <tr>\n",
              "      <th>100278</th>\n",
              "      <td>NaN</td>\n",
              "      <td>17072</td>\n",
              "      <td>1_left_005013_rgb.png</td>\n",
              "      <td>1_right_005013_rgb.png</td>\n",
              "      <td>1</td>\n",
              "      <td>0</td>\n",
              "    </tr>\n",
              "    <tr>\n",
              "      <th>104336</th>\n",
              "      <td>NaN</td>\n",
              "      <td>79928</td>\n",
              "      <td>11_left_011311_rgb.png</td>\n",
              "      <td>11_right_011311_rgb.png</td>\n",
              "      <td>11</td>\n",
              "      <td>0</td>\n",
              "    </tr>\n",
              "    <tr>\n",
              "      <th>78860</th>\n",
              "      <td>NaN</td>\n",
              "      <td>28590</td>\n",
              "      <td>2_left_012628_rgb.png</td>\n",
              "      <td>2_right_012628_rgb.png</td>\n",
              "      <td>2</td>\n",
              "      <td>0</td>\n",
              "    </tr>\n",
              "    <tr>\n",
              "      <th>55216</th>\n",
              "      <td>55216.0</td>\n",
              "      <td>34174</td>\n",
              "      <td>4_left_001292_rgb.png</td>\n",
              "      <td>4_right_001292_rgb.png</td>\n",
              "      <td>4</td>\n",
              "      <td>1</td>\n",
              "    </tr>\n",
              "  </tbody>\n",
              "</table>\n",
              "</div>\n",
              "      <button class=\"colab-df-convert\" onclick=\"convertToInteractive('df-0eee12a5-fda8-4f10-b76c-563558140cae')\"\n",
              "              title=\"Convert this dataframe to an interactive table.\"\n",
              "              style=\"display:none;\">\n",
              "        \n",
              "  <svg xmlns=\"http://www.w3.org/2000/svg\" height=\"24px\"viewBox=\"0 0 24 24\"\n",
              "       width=\"24px\">\n",
              "    <path d=\"M0 0h24v24H0V0z\" fill=\"none\"/>\n",
              "    <path d=\"M18.56 5.44l.94 2.06.94-2.06 2.06-.94-2.06-.94-.94-2.06-.94 2.06-2.06.94zm-11 1L8.5 8.5l.94-2.06 2.06-.94-2.06-.94L8.5 2.5l-.94 2.06-2.06.94zm10 10l.94 2.06.94-2.06 2.06-.94-2.06-.94-.94-2.06-.94 2.06-2.06.94z\"/><path d=\"M17.41 7.96l-1.37-1.37c-.4-.4-.92-.59-1.43-.59-.52 0-1.04.2-1.43.59L10.3 9.45l-7.72 7.72c-.78.78-.78 2.05 0 2.83L4 21.41c.39.39.9.59 1.41.59.51 0 1.02-.2 1.41-.59l7.78-7.78 2.81-2.81c.8-.78.8-2.07 0-2.86zM5.41 20L4 18.59l7.72-7.72 1.47 1.35L5.41 20z\"/>\n",
              "  </svg>\n",
              "      </button>\n",
              "      \n",
              "  <style>\n",
              "    .colab-df-container {\n",
              "      display:flex;\n",
              "      flex-wrap:wrap;\n",
              "      gap: 12px;\n",
              "    }\n",
              "\n",
              "    .colab-df-convert {\n",
              "      background-color: #E8F0FE;\n",
              "      border: none;\n",
              "      border-radius: 50%;\n",
              "      cursor: pointer;\n",
              "      display: none;\n",
              "      fill: #1967D2;\n",
              "      height: 32px;\n",
              "      padding: 0 0 0 0;\n",
              "      width: 32px;\n",
              "    }\n",
              "\n",
              "    .colab-df-convert:hover {\n",
              "      background-color: #E2EBFA;\n",
              "      box-shadow: 0px 1px 2px rgba(60, 64, 67, 0.3), 0px 1px 3px 1px rgba(60, 64, 67, 0.15);\n",
              "      fill: #174EA6;\n",
              "    }\n",
              "\n",
              "    [theme=dark] .colab-df-convert {\n",
              "      background-color: #3B4455;\n",
              "      fill: #D2E3FC;\n",
              "    }\n",
              "\n",
              "    [theme=dark] .colab-df-convert:hover {\n",
              "      background-color: #434B5C;\n",
              "      box-shadow: 0px 1px 3px 1px rgba(0, 0, 0, 0.15);\n",
              "      filter: drop-shadow(0px 1px 2px rgba(0, 0, 0, 0.3));\n",
              "      fill: #FFFFFF;\n",
              "    }\n",
              "  </style>\n",
              "\n",
              "      <script>\n",
              "        const buttonEl =\n",
              "          document.querySelector('#df-0eee12a5-fda8-4f10-b76c-563558140cae button.colab-df-convert');\n",
              "        buttonEl.style.display =\n",
              "          google.colab.kernel.accessAllowed ? 'block' : 'none';\n",
              "\n",
              "        async function convertToInteractive(key) {\n",
              "          const element = document.querySelector('#df-0eee12a5-fda8-4f10-b76c-563558140cae');\n",
              "          const dataTable =\n",
              "            await google.colab.kernel.invokeFunction('convertToInteractive',\n",
              "                                                     [key], {});\n",
              "          if (!dataTable) return;\n",
              "\n",
              "          const docLinkHtml = 'Like what you see? Visit the ' +\n",
              "            '<a target=\"_blank\" href=https://colab.research.google.com/notebooks/data_table.ipynb>data table notebook</a>'\n",
              "            + ' to learn more about interactive tables.';\n",
              "          element.innerHTML = '';\n",
              "          dataTable['output_type'] = 'display_data';\n",
              "          await google.colab.output.renderOutput(dataTable, element);\n",
              "          const docLink = document.createElement('div');\n",
              "          docLink.innerHTML = docLinkHtml;\n",
              "          element.appendChild(docLink);\n",
              "        }\n",
              "      </script>\n",
              "    </div>\n",
              "  </div>\n",
              "  "
            ]
          },
          "metadata": {},
          "execution_count": 25
        }
      ],
      "source": [
        "train_data_aug[:10]"
      ]
    },
    {
      "cell_type": "markdown",
      "metadata": {
        "id": "fULH-8a6jMeb"
      },
      "source": [
        "Finalmente, creamos el generador de los datos de entrenamiento utilizando *data augmentation*:"
      ]
    },
    {
      "cell_type": "code",
      "execution_count": null,
      "metadata": {
        "id": "_WDNrwrHjL2U"
      },
      "outputs": [],
      "source": [
        "train_generator = generator(train_data_aug, aug_datagen)"
      ]
    },
    {
      "cell_type": "markdown",
      "metadata": {
        "id": "jEFmxlH-I8Oo"
      },
      "source": [
        "## 1.3. Entrenamiento del modelo\n",
        "\n",
        "A continuación, se define y realiza el entrenamiento del modelo elegido (CNN). "
      ]
    },
    {
      "cell_type": "markdown",
      "metadata": {
        "id": "qgr-DNTCJLDX"
      },
      "source": [
        "En primer lugar, se visualizan algunas de las imágenes de entrenamiento junto con sus etiquetas:\n"
      ]
    },
    {
      "cell_type": "code",
      "execution_count": null,
      "metadata": {
        "colab": {
          "base_uri": "https://localhost:8080/",
          "height": 864
        },
        "id": "zEvRPN1gAQVK",
        "outputId": "a64c21ce-e47f-426a-a01f-b6b0940e4250"
      },
      "outputs": [
        {
          "output_type": "stream",
          "name": "stdout",
          "text": [
            "Found 71955 validated image filenames belonging to 2 classes.\n",
            "Found 71955 validated image filenames belonging to 2 classes.\n"
          ]
        },
        {
          "output_type": "display_data",
          "data": {
            "text/plain": [
              "<Figure size 1000x1000 with 6 Axes>"
            ],
            "image/png": "[encoded data removed]"
          },
          "metadata": {}
        }
      ],
      "source": [
        "aug_iter = generator(train_data_aug, aug_datagen)\n",
        "fig, ax = plt.subplots(nrows=3,ncols=2,figsize=(10,10))\n",
        "\n",
        "for i in range(3):\n",
        "  eye = next(aug_iter)\n",
        "  left_eye_image = eye[0][0][i]\n",
        "  right_eye_image = eye[0][1][i]\n",
        "\n",
        "  ax[i,0].imshow(right_eye_image)\n",
        "  ax[i,1].imshow(left_eye_image)\n",
        "  ax[i,0].axis('off')\n",
        "  ax[i,1].axis('off')\n",
        "\n",
        "  ax[i,0].set_title(f'Data augmented left eye (instance: {i}, label: {eye[1][i]})')\n",
        "  ax[i,1].set_title(f'Data augmented right eye (instance: {i}, label: {eye[1][i]})')"
      ]
    },
    {
      "cell_type": "markdown",
      "metadata": {
        "id": "UZA5gPnaKfmA"
      },
      "source": [
        "El entrenamiento de la red se va a realizar utilizando el F1-Score como medida de evaluación. para ello, es necesario instalar el módulo 'tfa' de los 'tensorflow_addons'"
      ]
    },
    {
      "cell_type": "code",
      "execution_count": null,
      "metadata": {
        "colab": {
          "base_uri": "https://localhost:8080/"
        },
        "id": "DbL2bA5g26RB",
        "outputId": "d48c52d5-af25-4777-ecda-dd5f1bfdfb33"
      },
      "outputs": [
        {
          "output_type": "stream",
          "name": "stdout",
          "text": [
            "Looking in indexes: https://pypi.org/simple, https://us-python.pkg.dev/colab-wheels/public/simple/\n",
            "Requirement already satisfied: pip in /usr/local/lib/python3.10/dist-packages (23.0.1)\n",
            "Collecting pip\n",
            "  Downloading pip-23.1.2-py3-none-any.whl (2.1 MB)\n",
            "\u001b[2K     \u001b[90m━━━━━━━━━━━━━━━━━━━━━━━━━━━━━━━━━━━━━━━━\u001b[0m \u001b[32m2.1/2.1 MB\u001b[0m \u001b[31m40.5 MB/s\u001b[0m eta \u001b[36m0:00:00\u001b[0m\n",
            "\u001b[?25hInstalling collected packages: pip\n",
            "  Attempting uninstall: pip\n",
            "    Found existing installation: pip 23.0.1\n",
            "    Uninstalling pip-23.0.1:\n",
            "      Successfully uninstalled pip-23.0.1\n",
            "Successfully installed pip-23.1.2\n",
            "Looking in indexes: https://pypi.org/simple, https://us-python.pkg.dev/colab-wheels/public/simple/\n",
            "Collecting tfa-nightly\n",
            "  Downloading tfa_nightly-0.21.0.dev20230418145214-cp310-cp310-manylinux_2_17_x86_64.manylinux2014_x86_64.whl (591 kB)\n",
            "\u001b[2K     \u001b[90m━━━━━━━━━━━━━━━━━━━━━━━━━━━━━━━━━━━━━━\u001b[0m \u001b[32m591.5/591.5 kB\u001b[0m \u001b[31m38.7 MB/s\u001b[0m eta \u001b[36m0:00:00\u001b[0m\n",
            "\u001b[?25hRequirement already satisfied: packaging in /usr/local/lib/python3.10/dist-packages (from tfa-nightly) (23.1)\n",
            "Collecting typeguard<3.0.0,>=2.7 (from tfa-nightly)\n",
            "  Downloading typeguard-2.13.3-py3-none-any.whl (17 kB)\n",
            "Installing collected packages: typeguard, tfa-nightly\n",
            "Successfully installed tfa-nightly-0.21.0.dev20230418145214 typeguard-2.13.3\n",
            "\u001b[33mWARNING: Running pip as the 'root' user can result in broken permissions and conflicting behaviour with the system package manager. It is recommended to use a virtual environment instead: https://pip.pypa.io/warnings/venv\u001b[0m\u001b[33m\n",
            "\u001b[0m"
          ]
        }
      ],
      "source": [
        "!pip3 install --upgrade pip\n",
        "!pip3 install tfa-nightly"
      ]
    },
    {
      "cell_type": "markdown",
      "metadata": {
        "id": "OW_aaHHsKutS"
      },
      "source": [
        "Definimos el modelo de la red neuronal convolucional:\n",
        "- Dos capas de entrada (ojo izquierdo y derecho)\n",
        "- Capa de concatenación para juntar en una sola las dos imágenes. La concatenación se hace en la primera dimensión, es decir, se concatenan horizontalmente.\n",
        "- Dos capas convolucionales (16@3x3 y 32@3x3) con una regularización Dropout al 50%.\n",
        "- Una capa plana para juntar todas las careacterísticas latentes extraídas por la red\n",
        "- Una capa densa, que procesará de menra conjunta las características latentes.\n",
        "- Una capa de salida con una única neurona y activación sigmoide (caso típico de clasificación binaria sin utilizar one-hot encoding)."
      ]
    },
    {
      "cell_type": "markdown",
      "metadata": {
        "id": "rKtnc-T8S8fF"
      },
      "source": [
        "Además, se van a inicializar los pesos de cada capa con una normal de media 0 y desviación típica igual a 1, con el objetivo de ayudar a la generalización de la red."
      ]
    },
    {
      "cell_type": "code",
      "execution_count": null,
      "metadata": {
        "id": "DEypIbfTTGAR"
      },
      "outputs": [],
      "source": [
        "#kernel_initializer=tf.keras.initializers.RandomNormal(mean=0.0, stddev=1.)"
      ]
    },
    {
      "cell_type": "code",
      "execution_count": null,
      "metadata": {
        "colab": {
          "base_uri": "https://localhost:8080/"
        },
        "id": "XomXY4jPbBYy",
        "outputId": "ec7b6b00-1d2e-4ca4-e718-b2590cc9b25c"
      },
      "outputs": [
        {
          "output_type": "stream",
          "name": "stderr",
          "text": [
            "/usr/local/lib/python3.10/dist-packages/tensorflow_addons/utils/tfa_eol_msg.py:23: UserWarning: \n",
            "\n",
            "TensorFlow Addons (TFA) has ended development and introduction of new features.\n",
            "TFA has entered a minimal maintenance and release mode until a planned end of life in May 2024.\n",
            "Please modify downstream libraries to take dependencies from other repositories in our TensorFlow community (e.g. Keras, Keras-CV, and Keras-NLP). \n",
            "\n",
            "For more information see: https://github.com/tensorflow/addons/issues/2807 \n",
            "\n",
            "  warnings.warn(\n"
          ]
        }
      ],
      "source": [
        "import tensorflow_addons as tfa\n",
        "\n",
        "input_shape = (60, 36, 3)\n",
        "# Declaramos dos capas de Input\n",
        "input_1 = Input(name='left_eye', shape=input_shape)\n",
        "input_2 = Input(name='right_eye', shape=input_shape)\n",
        "\n",
        "concat_layer= Concatenate(name='concat', axis=1)([input_1, input_2])\n",
        "'''\n",
        "conv_1 = Conv2D(32, 3, name='conv1', padding='same', input_shape=(img_width,img_height,3))(concat_layer)\n",
        "batchNorm_1 = BatchNormalization()(conv_1)\n",
        "relu_1 = ReLU()(batchNorm_1)\n",
        "dr_1 = Dropout(0.5)(relu_1)\n",
        "max_1 = MaxPooling2D(name='max1', pool_size=2, strides=2)(dr_1)\n",
        "\n",
        "conv_2 = Conv2D(64, 3, name='conv2', padding='same')(max_1)\n",
        "batchNorm_2 = BatchNormalization()(conv_2)\n",
        "relu_2 = ReLU()(batchNorm_2)\n",
        "dr_2 = Dropout(0.5)(relu_2)\n",
        "max_2 = MaxPooling2D(name='max2', pool_size=3, strides=3)(dr_2)\n",
        "'''\n",
        "\n",
        "conv_1 = Conv2D(16, 3, name='conv1', activation='relu', \n",
        "                padding='same', \n",
        "                input_shape=(img_width,img_height,3))(concat_layer)\n",
        "dr_1 = Dropout(0.5)(conv_1)\n",
        "max_1 = MaxPooling2D(name='max1', pool_size=2, strides=2)(dr_1)\n",
        "\n",
        "conv_2 = Conv2D(32, 3, name='conv2', activation='relu', \n",
        "                padding='same')(max_1)\n",
        "dr_2 = Dropout(0.5)(conv_2)\n",
        "max_2 = MaxPooling2D(name='max2', pool_size=3, strides=3)(dr_2)\n",
        "\n",
        "\n",
        "flat_layer = Flatten(name='flat')(max_2)\n",
        "\n",
        "dense_1 = Dense(64, name='dense1', activation='relu')(flat_layer)\n",
        "predictions = Dense(1, name='output', activation='sigmoid')(dense_1)\n",
        "\n",
        "# Creamos el modelo final y lo compilamos\n",
        "model = Model(inputs=[input_1, input_2], outputs=[predictions], name='blink_detector')\n",
        "# Compilamos el modelo\n",
        "model.compile(loss='binary_crossentropy',                # función de pérdida para problemas de clasificación binaria\n",
        "              optimizer=optimizers.Adam(learning_rate=1e-3),  # optimizador Adam\n",
        "              metrics=tfa.metrics.F1Score(name='f1_score',num_classes=1,threshold=0.5,average='macro'))"
      ]
    },
    {
      "cell_type": "code",
      "execution_count": null,
      "metadata": {
        "colab": {
          "base_uri": "https://localhost:8080/"
        },
        "id": "JF1RJn0Km97p",
        "outputId": "0df1f2e3-a4a0-4915-cae7-78856eabbbcc"
      },
      "outputs": [
        {
          "output_type": "stream",
          "name": "stdout",
          "text": [
            "Model: \"blink_detector\"\n",
            "__________________________________________________________________________________________________\n",
            " Layer (type)                   Output Shape         Param #     Connected to                     \n",
            "==================================================================================================\n",
            " left_eye (InputLayer)          [(None, 60, 36, 3)]  0           []                               \n",
            "                                                                                                  \n",
            " right_eye (InputLayer)         [(None, 60, 36, 3)]  0           []                               \n",
            "                                                                                                  \n",
            " concat (Concatenate)           (None, 120, 36, 3)   0           ['left_eye[0][0]',               \n",
            "                                                                  'right_eye[0][0]']              \n",
            "                                                                                                  \n",
            " conv1 (Conv2D)                 (None, 120, 36, 16)  448         ['concat[0][0]']                 \n",
            "                                                                                                  \n",
            " dropout (Dropout)              (None, 120, 36, 16)  0           ['conv1[0][0]']                  \n",
            "                                                                                                  \n",
            " max1 (MaxPooling2D)            (None, 60, 18, 16)   0           ['dropout[0][0]']                \n",
            "                                                                                                  \n",
            " conv2 (Conv2D)                 (None, 60, 18, 32)   4640        ['max1[0][0]']                   \n",
            "                                                                                                  \n",
            " dropout_1 (Dropout)            (None, 60, 18, 32)   0           ['conv2[0][0]']                  \n",
            "                                                                                                  \n",
            " max2 (MaxPooling2D)            (None, 20, 6, 32)    0           ['dropout_1[0][0]']              \n",
            "                                                                                                  \n",
            " flat (Flatten)                 (None, 3840)         0           ['max2[0][0]']                   \n",
            "                                                                                                  \n",
            " dense1 (Dense)                 (None, 64)           245824      ['flat[0][0]']                   \n",
            "                                                                                                  \n",
            " output (Dense)                 (None, 1)            65          ['dense1[0][0]']                 \n",
            "                                                                                                  \n",
            "==================================================================================================\n",
            "Total params: 250,977\n",
            "Trainable params: 250,977\n",
            "Non-trainable params: 0\n",
            "__________________________________________________________________________________________________\n"
          ]
        }
      ],
      "source": [
        "model.summary()"
      ]
    },
    {
      "cell_type": "code",
      "execution_count": null,
      "metadata": {
        "colab": {
          "base_uri": "https://localhost:8080/",
          "height": 1000
        },
        "id": "sH29LCWzFOep",
        "outputId": "df08b91c-a469-4e28-d943-19a3ef914c6f"
      },
      "outputs": [
        {
          "output_type": "execute_result",
          "data": {
            "image/png": "[encoded data removed]",
            "text/plain": [
              "<IPython.core.display.Image object>"
            ]
          },
          "metadata": {},
          "execution_count": 32
        }
      ],
      "source": [
        "keras.utils.plot_model(model, to_file='model.png')"
      ]
    },
    {
      "cell_type": "code",
      "execution_count": null,
      "metadata": {
        "id": "jtTpQkoSGI1C"
      },
      "outputs": [],
      "source": [
        "## Función para mostrar la evolución de la pérdida durante el entrenamiento\n",
        "def plot_history(history):\n",
        "    plt.figure()\n",
        "    plt.xlabel('Epoch')\n",
        "    plt.ylabel('binary_crossentropy')\n",
        "    plt.plot(history.epoch, np.array(history.history['loss']),\n",
        "             label='Train Loss')\n",
        "    plt.legend()\n",
        "    plt.ylim([0, max(history.history['loss'])])"
      ]
    },
    {
      "cell_type": "markdown",
      "metadata": {
        "id": "4b2e7B-TMb5g"
      },
      "source": [
        "Como medida para evitar el overfitting, se aplica un early stopping al entrenamiento de la red. Este early stopping va a tomar como medida de referencia la pérdida en valdiación, y en cuanto detecte que esta no se mejora durante 5 épocas seguidas, parará el entrenamiento."
      ]
    },
    {
      "cell_type": "code",
      "execution_count": null,
      "metadata": {
        "id": "q3osX-9xpWqD"
      },
      "outputs": [],
      "source": [
        "from tensorflow.keras.callbacks import EarlyStopping\n",
        "\n",
        "# Definir el callback de EarlyStopping\n",
        "early_stopping = EarlyStopping(monitor='val_loss', patience=3, restore_best_weights=True)"
      ]
    },
    {
      "cell_type": "markdown",
      "metadata": {
        "id": "C715xZNmMpE4"
      },
      "source": [
        "A continuación, se entrena el modelo y se grafica su evolución:"
      ]
    },
    {
      "cell_type": "code",
      "execution_count": null,
      "metadata": {
        "colab": {
          "base_uri": "https://localhost:8080/"
        },
        "id": "wdIo_Tg8oblC",
        "outputId": "e03c554f-28ee-4690-a4ed-1b7ecf8d8f5e"
      },
      "outputs": [
        {
          "output_type": "stream",
          "name": "stdout",
          "text": [
            "Found 71955 validated image filenames belonging to 2 classes.\n",
            "Found 71955 validated image filenames belonging to 2 classes.\n",
            "Epoch 1/25\n",
            "294/293 [==============================] - ETA: 0s - loss: 0.5510 - f1_score: 0.6994Found 16102 validated image filenames belonging to 2 classes.\n",
            "Found 16102 validated image filenames belonging to 2 classes.\n",
            "293/293 [==============================] - 270s 872ms/step - loss: 0.5510 - f1_score: 0.6994 - val_loss: 0.4135 - val_f1_score: 0.3533\n",
            "Epoch 2/25\n",
            "293/293 [==============================] - 242s 829ms/step - loss: 0.3049 - f1_score: 0.8747 - val_loss: 0.3189 - val_f1_score: 0.4834\n",
            "Epoch 3/25\n",
            "293/293 [==============================] - 243s 832ms/step - loss: 0.2533 - f1_score: 0.8975 - val_loss: 0.2630 - val_f1_score: 0.5842\n",
            "Epoch 4/25\n",
            "293/293 [==============================] - 244s 833ms/step - loss: 0.2246 - f1_score: 0.9114 - val_loss: 0.2623 - val_f1_score: 0.5084\n",
            "Epoch 5/25\n",
            "293/293 [==============================] - 239s 816ms/step - loss: 0.2000 - f1_score: 0.9222 - val_loss: 0.2229 - val_f1_score: 0.6516\n",
            "Epoch 6/25\n",
            "293/293 [==============================] - 241s 825ms/step - loss: 0.1812 - f1_score: 0.9283 - val_loss: 0.2360 - val_f1_score: 0.5531\n",
            "Epoch 7/25\n",
            "293/293 [==============================] - 245s 836ms/step - loss: 0.1670 - f1_score: 0.9340 - val_loss: 0.2099 - val_f1_score: 0.5926\n",
            "Epoch 8/25\n",
            "293/293 [==============================] - 237s 811ms/step - loss: 0.1557 - f1_score: 0.9392 - val_loss: 0.2284 - val_f1_score: 0.5216\n",
            "Epoch 9/25\n",
            "293/293 [==============================] - 239s 816ms/step - loss: 0.1496 - f1_score: 0.9424 - val_loss: 0.1552 - val_f1_score: 0.7220\n",
            "Epoch 10/25\n",
            "293/293 [==============================] - 240s 820ms/step - loss: 0.1412 - f1_score: 0.9457 - val_loss: 0.1745 - val_f1_score: 0.6471\n",
            "Epoch 11/25\n",
            "293/293 [==============================] - 238s 814ms/step - loss: 0.1334 - f1_score: 0.9491 - val_loss: 0.1852 - val_f1_score: 0.5980\n",
            "Epoch 12/25\n",
            "293/293 [==============================] - 234s 801ms/step - loss: 0.1290 - f1_score: 0.9507 - val_loss: 0.1956 - val_f1_score: 0.5544\n"
          ]
        }
      ],
      "source": [
        "# Entrenamos el modelo con los datos preparados en el punto 2\n",
        "history = model.fit(train_generator,\n",
        "                    epochs=25,\n",
        "                    verbose=1,\n",
        "                    steps_per_epoch=len(train_data)/batch_size,\n",
        "                    validation_data=val_generator,\n",
        "                    validation_steps=len(val_data)/batch_size,\n",
        "                    callbacks=[early_stopping])"
      ]
    },
    {
      "cell_type": "code",
      "execution_count": null,
      "metadata": {
        "id": "x3VBGySaqOND",
        "colab": {
          "base_uri": "https://localhost:8080/",
          "height": 449
        },
        "outputId": "9576305b-d6da-4da2-d59f-8075683b4df2"
      },
      "outputs": [
        {
          "output_type": "display_data",
          "data": {
            "text/plain": [
              "<Figure size 640x480 with 1 Axes>"
            ],
            "image/png": "[encoded data removed]"
          },
          "metadata": {}
        }
      ],
      "source": [
        "plot_history(history)"
      ]
    },
    {
      "cell_type": "markdown",
      "metadata": {
        "id": "9CqyxkCdMtQQ"
      },
      "source": [
        "Finalmente, se evalúa el modelo entrenado:"
      ]
    },
    {
      "cell_type": "code",
      "execution_count": null,
      "metadata": {
        "id": "p1JCYcicqGrH",
        "colab": {
          "base_uri": "https://localhost:8080/"
        },
        "outputId": "f22ce32f-dac6-4872-c1d2-f1227db8532f"
      },
      "outputs": [
        {
          "output_type": "stream",
          "name": "stdout",
          "text": [
            "Found 16103 validated image filenames belonging to 2 classes.\n",
            "Found 16103 validated image filenames belonging to 2 classes.\n",
            "62/62 [==============================] - 16s 265ms/step - loss: 0.1599 - f1_score: 0.6894\n",
            "Test loss: 0.15993034839630127\n",
            "Test F1-Score: 0.6893523931503296\n"
          ]
        }
      ],
      "source": [
        "# Por último, podemos evaluar el modelo en el conjunto de test\n",
        "test_loss, test_f1 = model.evaluate(test_generator,\n",
        "                                     batch_size=batch_size,\n",
        "                                     steps=len(test_data)/batch_size,\n",
        "                                     verbose=1)\n",
        "print(f\"Test loss: {test_loss}\")\n",
        "print(f\"Test F1-Score: {test_f1}\")"
      ]
    },
    {
      "cell_type": "markdown",
      "metadata": {
        "id": "OZ1kERzVRiAK"
      },
      "source": [
        "\n",
        "\n",
        "---\n",
        "\n"
      ]
    },
    {
      "cell_type": "markdown",
      "metadata": {
        "id": "_wnqcujxRI1K"
      },
      "source": [
        "## 2. SEGUNDA APROXIMACIÓN - TRANSFER LEARNING\n",
        "\n",
        "En esta ocasión, con los mismos datos que antes, se va utilizar una red pre-entrenada, que se adaptará con una capa de entrada otras a la salida.\n",
        "\n",
        "Solamente se entrenarán estas capas de salida durante la fase de entrenamiento, quedándose los pesos de la red original sin modificar."
      ]
    },
    {
      "cell_type": "code",
      "execution_count": null,
      "metadata": {
        "id": "XnIVf0cfRg7r",
        "colab": {
          "base_uri": "https://localhost:8080/"
        },
        "outputId": "0b3f7715-edac-4f0f-f47f-965e89989cfe"
      },
      "outputs": [
        {
          "output_type": "stream",
          "name": "stdout",
          "text": [
            "Downloading data from https://storage.googleapis.com/tensorflow/keras-applications/resnet/resnet152_weights_tf_dim_ordering_tf_kernels_notop.h5\n",
            "234698864/234698864 [==============================] - 11s 0us/step\n"
          ]
        }
      ],
      "source": [
        "# Cargamos el modelo InceptionV3 pre-entrenado con ImageNet\n",
        "base_model = applications.resnet.ResNet152(weights='imagenet', include_top=False, input_shape=(img_width*2,img_height,3))\n",
        "\n",
        "# En el modelo base, hacemos que todas sus capas sean no entrenables\n",
        "for layer in base_model.layers:\n",
        "    layer.trainable = False\n",
        "\n",
        "# Añadimos las dos capas de entrada y la de concatenación, para adapatarlas al modelo base\n",
        "input_1 = Input(name='left_eye', shape=input_shape)\n",
        "input_2 = Input(name='right_eye', shape=input_shape)\n",
        "\n",
        "concat_transfer = Concatenate(name='concat', axis=1)([input_1, input_2])\n",
        "new_base = base_model(concat_transfer)\n",
        "\n",
        "# Añadimos nuevas capas al final para adaptar el modelo a nuestro problema\n",
        "x = GlobalAveragePooling2D()(new_base) # Para eliminar la necesidad de una capa densa muy grande\n",
        "x = Dense(1024, activation='relu')(x)\n",
        "predictions_transfer = Dense(1, activation='sigmoid')(x) \n",
        "\n",
        "# Creamos el modelo final y lo compilamos\n",
        "model_transfer = Model(inputs=[input_1, input_2], outputs=[predictions_transfer], name='blink_detector_transfer')\n",
        "\n",
        "model_transfer.compile(loss='binary_crossentropy',\n",
        "              optimizer=optimizers.Adam(learning_rate=1e-3),\n",
        "              metrics=tfa.metrics.F1Score(name='f1_score',num_classes=1,threshold=0.5,average='macro'))"
      ]
    },
    {
      "cell_type": "code",
      "execution_count": null,
      "metadata": {
        "id": "Al75zD0pWLMK",
        "colab": {
          "base_uri": "https://localhost:8080/"
        },
        "outputId": "7ec9de9d-de80-4c4f-ac44-cddae06d61fa"
      },
      "outputs": [
        {
          "output_type": "stream",
          "name": "stdout",
          "text": [
            "Model: \"blink_detector_transfer\"\n",
            "__________________________________________________________________________________________________\n",
            " Layer (type)                   Output Shape         Param #     Connected to                     \n",
            "==================================================================================================\n",
            " left_eye (InputLayer)          [(None, 60, 36, 3)]  0           []                               \n",
            "                                                                                                  \n",
            " right_eye (InputLayer)         [(None, 60, 36, 3)]  0           []                               \n",
            "                                                                                                  \n",
            " concat (Concatenate)           (None, 120, 36, 3)   0           ['left_eye[0][0]',               \n",
            "                                                                  'right_eye[0][0]']              \n",
            "                                                                                                  \n",
            " resnet152 (Functional)         (None, 4, 2, 2048)   58370944    ['concat[0][0]']                 \n",
            "                                                                                                  \n",
            " global_average_pooling2d (Glob  (None, 2048)        0           ['resnet152[0][0]']              \n",
            " alAveragePooling2D)                                                                              \n",
            "                                                                                                  \n",
            " dense (Dense)                  (None, 1024)         2098176     ['global_average_pooling2d[0][0]'\n",
            "                                                                 ]                                \n",
            "                                                                                                  \n",
            " dense_1 (Dense)                (None, 1)            1025        ['dense[0][0]']                  \n",
            "                                                                                                  \n",
            "==================================================================================================\n",
            "Total params: 60,470,145\n",
            "Trainable params: 2,099,201\n",
            "Non-trainable params: 58,370,944\n",
            "__________________________________________________________________________________________________\n"
          ]
        }
      ],
      "source": [
        "model_transfer.summary()"
      ]
    },
    {
      "cell_type": "code",
      "execution_count": null,
      "metadata": {
        "id": "52r7HACMWM3T",
        "colab": {
          "base_uri": "https://localhost:8080/",
          "height": 564
        },
        "outputId": "56ba11c0-2c69-4f4f-b6a8-c252854bbaf8"
      },
      "outputs": [
        {
          "output_type": "execute_result",
          "data": {
            "image/png": "[encoded data removed]",
            "text/plain": [
              "<IPython.core.display.Image object>"
            ]
          },
          "metadata": {},
          "execution_count": 40
        }
      ],
      "source": [
        "keras.utils.plot_model(model_transfer, to_file='model_transfer.png')"
      ]
    },
    {
      "cell_type": "code",
      "execution_count": null,
      "metadata": {
        "id": "JdefcBA2WFXD",
        "colab": {
          "base_uri": "https://localhost:8080/"
        },
        "outputId": "1332c139-f07e-418d-bba0-a9a47a335539"
      },
      "outputs": [
        {
          "output_type": "stream",
          "name": "stdout",
          "text": [
            "Epoch 1/25\n",
            "293/293 [==============================] - 279s 910ms/step - loss: 0.7126 - f1_score: 0.5601 - accuracy: 0.5523 - val_loss: 0.6177 - val_f1_score: 0.1358 - val_accuracy: 0.6641\n",
            "Epoch 2/25\n",
            "293/293 [==============================] - 266s 910ms/step - loss: 0.6653 - f1_score: 0.5998 - accuracy: 0.5924 - val_loss: 0.3358 - val_f1_score: 0.0000e+00 - val_accuracy: 0.9585\n",
            "Epoch 3/25\n",
            "293/293 [==============================] - 266s 908ms/step - loss: 0.6339 - f1_score: 0.6479 - accuracy: 0.6382 - val_loss: 0.4075 - val_f1_score: 0.3140 - val_accuracy: 0.9278\n",
            "Epoch 4/25\n",
            "293/293 [==============================] - 284s 971ms/step - loss: 0.6227 - f1_score: 0.6525 - accuracy: 0.6468 - val_loss: 0.4048 - val_f1_score: 0.3299 - val_accuracy: 0.9142\n",
            "Epoch 5/25\n",
            "293/293 [==============================] - 267s 913ms/step - loss: 0.6070 - f1_score: 0.6762 - accuracy: 0.6682 - val_loss: 0.3350 - val_f1_score: 0.3048 - val_accuracy: 0.9380\n",
            "Epoch 6/25\n",
            "293/293 [==============================] - 283s 966ms/step - loss: 0.5934 - f1_score: 0.6891 - accuracy: 0.6826 - val_loss: 0.4118 - val_f1_score: 0.2958 - val_accuracy: 0.8731\n",
            "Epoch 7/25\n",
            "293/293 [==============================] - 266s 908ms/step - loss: 0.5812 - f1_score: 0.7039 - accuracy: 0.6949 - val_loss: 0.3594 - val_f1_score: 0.3199 - val_accuracy: 0.8933\n",
            "Epoch 8/25\n",
            "293/293 [==============================] - 266s 907ms/step - loss: 0.5860 - f1_score: 0.6999 - accuracy: 0.6917 - val_loss: 0.5224 - val_f1_score: 0.2214 - val_accuracy: 0.7275\n"
          ]
        }
      ],
      "source": [
        "# Entrenamos el nuevo modelo\n",
        "history_transfer = model_transfer.fit(train_generator,\n",
        "                    epochs=25,\n",
        "                    verbose=1,\n",
        "                    steps_per_epoch=len(train_data)/batch_size,\n",
        "                    validation_data=val_generator,\n",
        "                    validation_steps=len(val_data)/batch_size,\n",
        "                    callbacks=[early_stopping])"
      ]
    },
    {
      "cell_type": "code",
      "execution_count": null,
      "metadata": {
        "id": "nfq1edCdWQMU",
        "colab": {
          "base_uri": "https://localhost:8080/",
          "height": 449
        },
        "outputId": "3c72cdf7-e623-44b1-9067-3d5c34361c49"
      },
      "outputs": [
        {
          "output_type": "display_data",
          "data": {
            "text/plain": [
              "<Figure size 640x480 with 1 Axes>"
            ],
            "image/png": "[encoded data removed]"
          },
          "metadata": {}
        }
      ],
      "source": [
        "# Mostramos la evolución de su entrenamiento\n",
        "plot_history(history_transfer)"
      ]
    },
    {
      "cell_type": "code",
      "execution_count": null,
      "metadata": {
        "id": "XoSQuCnrWR6v",
        "colab": {
          "base_uri": "https://localhost:8080/"
        },
        "outputId": "63b717b1-8a52-42a6-e99a-a1ae6daaae7e"
      },
      "outputs": [
        {
          "output_type": "stream",
          "name": "stdout",
          "text": [
            "\n",
            "\n",
            "62/62 [==============================] - 21s 340ms/step - loss: 0.3361 - f1_score: 0.2973 - accuracy: 0.9363\n",
            "Test loss (transfer learning): 0.3361402750015259\n",
            "Test F1-Score (transfer learning): 0.29726025462150574\n",
            "Test accuracy (transfer learning): 0.936285138130188\n"
          ]
        }
      ],
      "source": [
        "# Y finalmente, evaluamos el modelo en el conjunto de test\n",
        "print(\"\\n\")\n",
        "test_loss_transfer, test_f1_transfer, test_accuracy_transfer = model_transfer.evaluate(test_generator,\n",
        "                                                                                       steps=len(test_data)/batch_size,\n",
        "                                                                                       verbose=1)\n",
        "print(f\"Test loss (transfer learning): {test_loss_transfer}\")\n",
        "print(f\"Test F1-Score (transfer learning): {test_f1_transfer}\")"
      ]
    },
    {
      "cell_type": "code",
      "source": [
        "print(history.history)"
      ],
      "metadata": {
        "colab": {
          "base_uri": "https://localhost:8080/"
        },
        "id": "KvJjWkWn3Swb",
        "outputId": "3345a4e7-4710-40fd-819c-f7b6fb0599e3"
      },
      "execution_count": null,
      "outputs": [
        {
          "output_type": "stream",
          "name": "stdout",
          "text": [
            "{'loss': [0.5509629845619202, 0.30486196279525757, 0.25328001379966736, 0.22455713152885437, 0.1999552845954895, 0.18123599886894226, 0.16695261001586914, 0.15569022297859192, 0.14964725077152252, 0.1412477046251297, 0.1334383487701416, 0.12895768880844116], 'f1_score': [0.6994158029556274, 0.8746764659881592, 0.8974895477294922, 0.9113739728927612, 0.9221755266189575, 0.9282501339912415, 0.9340067505836487, 0.9391638040542603, 0.9423850774765015, 0.9456984996795654, 0.9490808248519897, 0.9507115483283997], 'val_loss': [0.4135276675224304, 0.3188788592815399, 0.26301634311676025, 0.2622941732406616, 0.22287055850028992, 0.2359704077243805, 0.2099066823720932, 0.2284097820520401, 0.15522754192352295, 0.1745302677154541, 0.18518377840518951, 0.19555698335170746], 'val_f1_score': [0.3532630205154419, 0.48343852162361145, 0.5841537714004517, 0.5084214806556702, 0.6515524983406067, 0.5530822277069092, 0.5925925970077515, 0.5215685963630676, 0.7220097780227661, 0.6470880508422852, 0.5980303883552551, 0.554430365562439]}\n"
          ]
        }
      ]
    },
    {
      "cell_type": "code",
      "source": [
        "print()"
      ],
      "metadata": {
        "id": "IFdYDWO736Ia"
      },
      "execution_count": null,
      "outputs": []
    }
  ],
  "metadata": {
    "accelerator": "GPU",
    "colab": {
      "provenance": []
    },
    "gpuClass": "standard",
    "kernelspec": {
      "display_name": "Python 3",
      "name": "python3"
    }
  },
  "nbformat": 4,
  "nbformat_minor": 0
}