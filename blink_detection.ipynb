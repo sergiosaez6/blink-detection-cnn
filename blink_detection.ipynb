{
  "cells": [
    {
      "cell_type": "markdown",
      "metadata": {
        "id": "W43vhS-mQCf2"
      },
      "source": [
        "# **Deep Learning**\n",
        "## Blink detection"
      ]
    },
    {
      "cell_type": "markdown",
      "metadata": {
        "id": "rDSz5ZZEGK-m"
      },
      "source": [
        "## 1. PRIMERA APROXIMACIÓN\n",
        "\n",
        "Entrenar una CNN desde cero para la detección de parpadeo en una serie de imágenes."
      ]
    },
    {
      "cell_type": "markdown",
      "metadata": {
        "id": "481imW1oQTY7"
      },
      "source": [
        "### 1.1. Importar librerías\n",
        "Lo primero que vamos a hacer es cargar las librería necesarias: Numpy. Matplotlib, TensorFlow, Keras, Google Colab, Sklearn y Pandas .\n"
      ]
    },
    {
      "cell_type": "code",
      "execution_count": 1,
      "metadata": {
        "id": "N9egJT9OQuBt",
        "colab": {
          "base_uri": "https://localhost:8080/"
        },
        "outputId": "30c6374f-8c3f-4f81-d46a-476501f5a7f4"
      },
      "outputs": [
        {
          "output_type": "stream",
          "name": "stdout",
          "text": [
            "Looking in indexes: https://pypi.org/simple, https://us-python.pkg.dev/colab-wheels/public/simple/\n",
            "Requirement already satisfied: pip in /usr/local/lib/python3.10/dist-packages (23.1.2)\n",
            "Looking in indexes: https://pypi.org/simple, https://us-python.pkg.dev/colab-wheels/public/simple/\n",
            "Requirement already satisfied: tfa-nightly in /usr/local/lib/python3.10/dist-packages (0.21.0.dev20230418145214)\n",
            "Requirement already satisfied: packaging in /usr/local/lib/python3.10/dist-packages (from tfa-nightly) (23.1)\n",
            "Requirement already satisfied: typeguard<3.0.0,>=2.7 in /usr/local/lib/python3.10/dist-packages (from tfa-nightly) (2.13.3)\n"
          ]
        },
        {
          "output_type": "stream",
          "name": "stderr",
          "text": [
            "/usr/local/lib/python3.10/dist-packages/tensorflow_addons/utils/tfa_eol_msg.py:23: UserWarning: \n",
            "\n",
            "TensorFlow Addons (TFA) has ended development and introduction of new features.\n",
            "TFA has entered a minimal maintenance and release mode until a planned end of life in May 2024.\n",
            "Please modify downstream libraries to take dependencies from other repositories in our TensorFlow community (e.g. Keras, Keras-CV, and Keras-NLP). \n",
            "\n",
            "For more information see: https://github.com/tensorflow/addons/issues/2807 \n",
            "\n",
            "  warnings.warn(\n"
          ]
        }
      ],
      "source": [
        "import numpy as np\n",
        "import matplotlib.pyplot as plt\n",
        "\n",
        "import tensorflow as tf\n",
        "from tensorflow import keras\n",
        "\n",
        "from tensorflow.keras import applications\n",
        "from tensorflow.keras import optimizers\n",
        "from tensorflow.keras.models import Model, load_model\n",
        "from tensorflow.keras.layers import Input, GlobalAveragePooling2D, Dense, Conv2D, MaxPooling2D, Flatten, Dropout, Concatenate\n",
        "from tensorflow.keras.callbacks import ModelCheckpoint, EarlyStopping, ReduceLROnPlateau\n",
        "\n",
        "from google.colab import drive\n",
        "from sklearn.model_selection import train_test_split\n",
        "\n",
        "import pandas as pd\n",
        "from keras.preprocessing.image import ImageDataGenerator\n",
        "\n",
        "# Necesario para el F1-Score\n",
        "!pip3 install --upgrade pip\n",
        "!pip3 install tfa-nightly\n",
        "\n",
        "import tensorflow_addons as tfa\n"
      ]
    },
    {
      "cell_type": "code",
      "execution_count": 2,
      "metadata": {
        "colab": {
          "base_uri": "https://localhost:8080/",
          "height": 36
        },
        "id": "q1B3l0LdsIkn",
        "outputId": "e5989463-5f03-44c7-aca9-92f0bb66088b"
      },
      "outputs": [
        {
          "output_type": "execute_result",
          "data": {
            "text/plain": [
              "'/device:GPU:0'"
            ],
            "application/vnd.google.colaboratory.intrinsic+json": {
              "type": "string"
            }
          },
          "metadata": {},
          "execution_count": 2
        }
      ],
      "source": [
        "tf.test.gpu_device_name()"
      ]
    },
    {
      "cell_type": "code",
      "execution_count": 3,
      "metadata": {
        "colab": {
          "base_uri": "https://localhost:8080/"
        },
        "id": "RLwZb-YSsBuH",
        "outputId": "26cc3fbe-9435-4e1f-9419-e8e490b985bb"
      },
      "outputs": [
        {
          "output_type": "execute_result",
          "data": {
            "text/plain": [
              "[name: \"/device:CPU:0\"\n",
              " device_type: \"CPU\"\n",
              " memory_limit: 268435456\n",
              " locality {\n",
              " }\n",
              " incarnation: 11586550324177170250\n",
              " xla_global_id: -1,\n",
              " name: \"/device:GPU:0\"\n",
              " device_type: \"GPU\"\n",
              " memory_limit: 14343274496\n",
              " locality {\n",
              "   bus_id: 1\n",
              "   links {\n",
              "   }\n",
              " }\n",
              " incarnation: 16002046663220425484\n",
              " physical_device_desc: \"device: 0, name: Tesla T4, pci bus id: 0000:00:04.0, compute capability: 7.5\"\n",
              " xla_global_id: 416903419]"
            ]
          },
          "metadata": {},
          "execution_count": 3
        }
      ],
      "source": [
        "from tensorflow.python.client import device_lib\n",
        "device_lib.list_local_devices()"
      ]
    },
    {
      "cell_type": "code",
      "execution_count": 4,
      "metadata": {
        "colab": {
          "base_uri": "https://localhost:8080/"
        },
        "id": "Sc3pbXX41c9M",
        "outputId": "b649ee61-56ea-46b5-be90-165c1ffd6089"
      },
      "outputs": [
        {
          "output_type": "execute_result",
          "data": {
            "text/plain": [
              "[PhysicalDevice(name='/physical_device:GPU:0', device_type='GPU')]"
            ]
          },
          "metadata": {},
          "execution_count": 4
        }
      ],
      "source": [
        "tf.config.list_physical_devices('GPU')"
      ]
    },
    {
      "cell_type": "markdown",
      "metadata": {
        "id": "vuPTiLHCFeaX"
      },
      "source": [
        "Definimos la función generadora de las imágenes para cada ojo y etiquetas correspondientes:"
      ]
    },
    {
      "cell_type": "code",
      "execution_count": 5,
      "metadata": {
        "id": "tlpzNIGlhJzO"
      },
      "outputs": [],
      "source": [
        "# Generador custom que devuelve las dos imagenes de ojos y el label del parpadeo\n",
        "def generator(dataframe, datagen):\n",
        "  left_eye_generator = datagen.flow_from_dataframe(dataframe=dataframe,\n",
        "                                                   directory = imgs_path,\n",
        "                                                   target_size =(img_width, img_height),\n",
        "                                                   x_col=left_eye_col,\n",
        "                                                   y_col=y_col,\n",
        "                                                   class_mode=\"binary\",\n",
        "                                                   seed=seed,\n",
        "                                                   batch_size=batch_size)\n",
        "  right_eye_generator = datagen.flow_from_dataframe(dataframe=dataframe,\n",
        "                                                    directory = imgs_path,\n",
        "                                                    target_size =(img_width, img_height),\n",
        "                                                    x_col=right_eye_col,\n",
        "                                                    y_col=y_col,\n",
        "                                                    class_mode=\"binary\",\n",
        "                                                    seed=seed,\n",
        "                                                    batch_size=batch_size)\n",
        "  while True:\n",
        "    left_eye = left_eye_generator.next()\n",
        "    left_eye_image = left_eye[0]\n",
        "    label = left_eye[1]\n",
        "    right_eye = right_eye_generator.next()\n",
        "    right_eye_image = right_eye[0]\n",
        "    yield [left_eye_image, right_eye_image], label"
      ]
    },
    {
      "cell_type": "markdown",
      "metadata": {
        "id": "BZsDv_0gF-f4"
      },
      "source": [
        "## 1.2. Lectura del dataset\n",
        "El siguiente paso consiste en la lectura del dataset y la construcción de un dataframe con las rutas a cada una de las imágenes y sus etiquetas asociadas."
      ]
    },
    {
      "cell_type": "markdown",
      "metadata": {
        "id": "MUBh8zLLFk-v"
      },
      "source": [
        "Se monta el Drive para acceder a nuestro conjunto de datos y descomprimir el fichero zip:"
      ]
    },
    {
      "cell_type": "code",
      "execution_count": 6,
      "metadata": {
        "colab": {
          "base_uri": "https://localhost:8080/"
        },
        "id": "229pHB1hHK-Y",
        "outputId": "5f5d8704-3854-49b0-f310-c729e77aa88c"
      },
      "outputs": [
        {
          "output_type": "stream",
          "name": "stdout",
          "text": [
            "Drive already mounted at /content/gdrive; to attempt to forcibly remount, call drive.mount(\"/content/gdrive\", force_remount=True).\n"
          ]
        }
      ],
      "source": [
        "drive.mount('/content/gdrive')\n",
        "!unzip -n '/content/gdrive/MyDrive/Colab Notebooks/Deep Learning/Trabajo final/RT-BENE.zip' >> /dev/null"
      ]
    },
    {
      "cell_type": "markdown",
      "metadata": {
        "id": "kPTksYKrFqGV"
      },
      "source": [
        "A contiunación, leemos los datos y construimos el dataframe:"
      ]
    },
    {
      "cell_type": "code",
      "execution_count": 7,
      "metadata": {
        "id": "oIv9Z4r6ycZY"
      },
      "outputs": [],
      "source": [
        "data_path = 'RT-BENE/'\n",
        "imgs_path = data_path + 'images/'\n",
        "labels_path = data_path + 'blinks.csv'\n",
        "\n",
        "seed = 100\n",
        "\n",
        "train_data = pd.read_csv(labels_path, dtype=str)\n",
        "\n",
        "datagen = ImageDataGenerator(rescale=1./255)\n",
        "\n",
        "aug_datagen = ImageDataGenerator(rescale=1./255,\n",
        "                                 rotation_range=20,\n",
        "                                 horizontal_flip=True,\n",
        "                                 vertical_flip=True,\n",
        "                                 brightness_range=[1,1.5])"
      ]
    },
    {
      "cell_type": "markdown",
      "metadata": {
        "id": "AhlO8AZZGOJw"
      },
      "source": [
        "En las siguientes celdas, se realizan una serie de comprobaciones relativas a balanceo de clases:"
      ]
    },
    {
      "cell_type": "code",
      "execution_count": 8,
      "metadata": {
        "colab": {
          "base_uri": "https://localhost:8080/"
        },
        "id": "YrMVcb7lHQ4f",
        "outputId": "25977077-bc2e-43c0-a3e8-76fdf1f13bb1"
      },
      "outputs": [
        {
          "output_type": "stream",
          "name": "stdout",
          "text": [
            "Initially, we have the following instances per class: \n",
            "0    102793\n",
            "1      4557\n",
            "Name: blink, dtype: int64\n"
          ]
        }
      ],
      "source": [
        "print(\"Initially, we have the following instances per class: \")\n",
        "print(train_data['blink'].value_counts())"
      ]
    },
    {
      "cell_type": "markdown",
      "metadata": {
        "id": "8KpxVkLBGd_m"
      },
      "source": [
        "Debido al desbalanceo que hay, se opta por separar el dataframe en dos, uno por cada clase, para procesarlos de manera independiente:"
      ]
    },
    {
      "cell_type": "code",
      "execution_count": 9,
      "metadata": {
        "id": "HqHvjG79set4"
      },
      "outputs": [],
      "source": [
        "blink = train_data.loc[train_data['blink']=='1'].reset_index()\n",
        "no_blink = train_data.loc[train_data['blink']=='0'].reset_index()"
      ]
    },
    {
      "cell_type": "code",
      "execution_count": 10,
      "metadata": {
        "colab": {
          "base_uri": "https://localhost:8080/"
        },
        "id": "bhANSIHetIys",
        "outputId": "d936796d-8e27-4791-80e0-6e782c25c122"
      },
      "outputs": [
        {
          "output_type": "stream",
          "name": "stdout",
          "text": [
            "Blink instances: 4557\n",
            "No blink instances: 102793\n"
          ]
        }
      ],
      "source": [
        "print(f\"Blink instances: {blink.shape[0]}\")\n",
        "print(f\"No blink instances: {no_blink.shape[0]}\")"
      ]
    },
    {
      "cell_type": "markdown",
      "metadata": {
        "id": "UqXKQlbHGzes"
      },
      "source": [
        "Este desbalanceo se va a intentar combatir con un sobremuestreo de la clase minortaria y la introducción de un data augmentation en el ImageDaraGenerator definido anteriormente:"
      ]
    },
    {
      "cell_type": "code",
      "execution_count": 11,
      "metadata": {
        "colab": {
          "base_uri": "https://localhost:8080/"
        },
        "id": "gDotCh9wy__n",
        "outputId": "c4a4a790-e37b-4224-8648-8ca118ae7a59"
      },
      "outputs": [
        {
          "output_type": "stream",
          "name": "stdout",
          "text": [
            "Blink instances per video: \n",
            "0     931\n",
            "2     789\n",
            "11    692\n",
            "8     459\n",
            "10    353\n",
            "13    295\n",
            "14    215\n",
            "3     167\n",
            "7     149\n",
            "4     130\n",
            "1     128\n",
            "5     110\n",
            "9      45\n",
            "16     42\n",
            "15     29\n",
            "12     23\n",
            "Name: video, dtype: int64\n"
          ]
        }
      ],
      "source": [
        "print(\"Blink instances per video: \")\n",
        "print(blink['video'].value_counts())"
      ]
    },
    {
      "cell_type": "code",
      "execution_count": 12,
      "metadata": {
        "colab": {
          "base_uri": "https://localhost:8080/"
        },
        "id": "fJWa6yWhxB2d",
        "outputId": "ef37d147-0a3b-4b86-82be-f248fbb37e67"
      },
      "outputs": [
        {
          "output_type": "stream",
          "name": "stdout",
          "text": [
            "No blink instances per video: \n",
            "10    16206\n",
            "11    12125\n",
            "0     11934\n",
            "13     9291\n",
            "1      8543\n",
            "2      7913\n",
            "8      5649\n",
            "5      5245\n",
            "14     5156\n",
            "4      4620\n",
            "16     4507\n",
            "9      4165\n",
            "3      3038\n",
            "15     1781\n",
            "7      1708\n",
            "12      912\n",
            "Name: video, dtype: int64\n"
          ]
        }
      ],
      "source": [
        "print(\"No blink instances per video: \")\n",
        "print(no_blink['video'].value_counts())"
      ]
    },
    {
      "cell_type": "markdown",
      "metadata": {
        "id": "3F1jGkUehFz6"
      },
      "source": [
        "Sin embargo, antes de realizar el sobremuestreo de la clase minoritaria y para evitar que información presente en el entrenamiento aparezca en los datos de validación y test, lo primero que se va a realizar es la separación de los datos en los 3 conjuntos de entrenamiento, validación y test.\n",
        "\n",
        "Esto separará los datos manteniendo el mismo equilibrio entre ambas clases, es decir, habrá más ejemplos de 'no parpadeo' que de 'parpadeo'. Sin embargo, como la medida que se está utilizando es el F1-Score en modo \"macro\" este desequilibrio no será tal."
      ]
    },
    {
      "cell_type": "code",
      "execution_count": 13,
      "metadata": {
        "id": "NMthZLjXYmyU"
      },
      "outputs": [],
      "source": [
        "train_data, test_data = train_test_split(train_data, test_size=0.3, random_state=seed, stratify=train_data['blink'])\n",
        "val_data, test_data = train_test_split(test_data, test_size=0.5, random_state=seed, stratify=test_data['blink'])\n",
        "\n",
        "train_data = train_data.reset_index(drop=True)\n",
        "val_data = val_data.reset_index(drop=True)\n",
        "test_data = test_data.reset_index(drop=True)\n",
        "\n",
        "left_eye_col = 'left_eye'\n",
        "right_eye_col = 'right_eye'\n",
        "y_col = 'blink'\n",
        "\n",
        "batch_size = 64\n",
        "img_width = 60\n",
        "img_height = 36\n",
        "\n",
        "val_generator = generator(val_data, datagen)\n",
        "test_generator = generator(test_data, datagen)"
      ]
    },
    {
      "cell_type": "code",
      "execution_count": 14,
      "metadata": {
        "colab": {
          "base_uri": "https://localhost:8080/"
        },
        "id": "TPR4RDTQSpyh",
        "outputId": "cfaf098f-16a7-4941-9928-2dee43c09cad"
      },
      "outputs": [
        {
          "output_type": "stream",
          "name": "stdout",
          "text": [
            "Total number of instances in the validation dataset: 16102\n",
            "\n",
            "Class balance:\n",
            "0    15419\n",
            "1      683\n",
            "Name: blink, dtype: int64\n"
          ]
        }
      ],
      "source": [
        "\n",
        "print(f\"Total number of instances in the validation dataset: {val_data.shape[0]}\")\n",
        "print(\"\\nClass balance:\")\n",
        "print(val_data['blink'].value_counts())"
      ]
    },
    {
      "cell_type": "code",
      "execution_count": 15,
      "metadata": {
        "colab": {
          "base_uri": "https://localhost:8080/"
        },
        "id": "FiPRslvGSp4r",
        "outputId": "96b56df2-9c03-48a4-f0d9-d924551d7b9f"
      },
      "outputs": [
        {
          "output_type": "stream",
          "name": "stdout",
          "text": [
            "Total number of instances in the test dataset: 16103\n",
            "\n",
            "Class balance:\n",
            "0    15419\n",
            "1      684\n",
            "Name: blink, dtype: int64\n"
          ]
        }
      ],
      "source": [
        "print(f\"Total number of instances in the test dataset: {test_data.shape[0]}\")\n",
        "print(\"\\nClass balance:\")\n",
        "print(test_data['blink'].value_counts())"
      ]
    },
    {
      "cell_type": "code",
      "execution_count": 16,
      "metadata": {
        "colab": {
          "base_uri": "https://localhost:8080/"
        },
        "id": "YrsIokWcTfy8",
        "outputId": "4530aa03-1114-420a-be61-aae2ebe9564b"
      },
      "outputs": [
        {
          "output_type": "stream",
          "name": "stdout",
          "text": [
            "Total number of validation blinks per video:\n",
            "0     127\n",
            "2     125\n",
            "11    113\n",
            "8      60\n",
            "10     57\n",
            "13     43\n",
            "14     32\n",
            "7      26\n",
            "3      24\n",
            "5      20\n",
            "4      19\n",
            "1      15\n",
            "9       9\n",
            "16      6\n",
            "15      5\n",
            "12      2\n",
            "Name: video, dtype: int64\n",
            "\n",
            "Total number of validation no blinks per video: \n",
            "10    2496\n",
            "11    1856\n",
            "0     1797\n",
            "13    1390\n",
            "1     1279\n",
            "2     1241\n",
            "8      803\n",
            "5      790\n",
            "14     759\n",
            "4      691\n",
            "16     627\n",
            "9      611\n",
            "3      439\n",
            "15     261\n",
            "7      251\n",
            "12     128\n",
            "Name: video, dtype: int64\n"
          ]
        }
      ],
      "source": [
        "print(\"Total number of validation blinks per video:\")\n",
        "print(val_data[val_data['blink']=='1']['video'].value_counts())\n",
        "\n",
        "print(\"\\nTotal number of validation no blinks per video: \")\n",
        "print(val_data[val_data['blink']=='0']['video'].value_counts())"
      ]
    },
    {
      "cell_type": "markdown",
      "metadata": {
        "id": "wWnxMbzUitYh"
      },
      "source": [
        "Antes de definir el generador para los datos de entrenamiento, debemos hacer el sobremuestreo de la clase minoritaria."
      ]
    },
    {
      "cell_type": "markdown",
      "metadata": {
        "id": "x3NEM0XOHLUf"
      },
      "source": [
        "El sobremuestreo se va a realizar de tal manera que se van a replicar las rutas de las imágenes a la clase minoritaria, y posteriormente se transformarán con el ImageDataGenerator de tal manera que los ejemplos son diferentes aunque se elija un mismo fichero de imagen.\n",
        "\n",
        "Además, esta replicación se va a hacer por vídeo, de tal manera que tengamos el mismo número de ejemplo de parpadeo y no parpadeo también por vídeo. Esto se ha decidido ya que al revisar el dataset, se ha visto que de un vídeo a otro puede cambiar el brillo, la orientación y la persona, por lo que de esta manera se equilibran también los ejemplos para cada una de las características.\n"
      ]
    },
    {
      "cell_type": "code",
      "execution_count": 17,
      "metadata": {
        "id": "XQlXSDtPuoA8"
      },
      "outputs": [],
      "source": [
        "def replicate_dataframe(dataframe, target_size):\n",
        "    num_replications = target_size // len(dataframe) + 1\n",
        "    replicated_dataframe = pd.concat([dataframe] * num_replications, ignore_index=True)\n",
        "    return replicated_dataframe[:target_size]\n"
      ]
    },
    {
      "cell_type": "code",
      "execution_count": 18,
      "metadata": {
        "id": "3VWzLH2Szb8m"
      },
      "outputs": [],
      "source": [
        "def balance_classes(new_blink, blink, no_blink):\n",
        "  blink_count = blink['video'].value_counts()\n",
        "  no_blink_count = no_blink['video'].value_counts()\n",
        "\n",
        "  blink_videos = blink['video'].unique().tolist()\n",
        "  no_blink_videos = no_blink['video'].unique().tolist()\n",
        "\n",
        "  for video_id in blink_videos:\n",
        "    no_blink_value = no_blink_count[video_id]\n",
        "\n",
        "    df = replicate_dataframe(blink[blink['video']==video_id],no_blink_value-blink_count[video_id])\n",
        "    new_blink = pd.concat([new_blink, df], ignore_index=True)\n",
        "  \n",
        "  return new_blink"
      ]
    },
    {
      "cell_type": "code",
      "execution_count": 19,
      "metadata": {
        "id": "0bF1IVOc1PJX"
      },
      "outputs": [],
      "source": [
        "# Se recalculan los dataframes de 'parpadeo' y no 'parpadeo', esta vez con los datos de entrenamiento únicamente\n",
        "blink = train_data[train_data['blink']=='1']\n",
        "no_blink = train_data[train_data['blink']=='0']\n",
        "\n",
        "new_blink = blink.copy()\n",
        "blink_augmented = balance_classes(new_blink, blink, no_blink)\n",
        "blink_augmented = blink_augmented.reset_index()"
      ]
    },
    {
      "cell_type": "markdown",
      "metadata": {
        "id": "ouC1Su7mILbX"
      },
      "source": [
        "Ahora, como se puede ver, tenemos el mismo número de ejemplos de parpadeo y no parpadeo, no solamente en todo el dataset, sino también por vídeo."
      ]
    },
    {
      "cell_type": "code",
      "execution_count": 20,
      "metadata": {
        "colab": {
          "base_uri": "https://localhost:8080/"
        },
        "id": "ujh1Vqli2jA3",
        "outputId": "30010eca-7516-4cd6-96a0-7b8a2e48e605"
      },
      "outputs": [
        {
          "output_type": "stream",
          "name": "stdout",
          "text": [
            "Total number of training blinks per video:\n",
            "10    11287\n",
            "11     8508\n",
            "0      8349\n",
            "13     6532\n",
            "1      6011\n",
            "2      5419\n",
            "8      3987\n",
            "14     3628\n",
            "5      3620\n",
            "4      3255\n",
            "16     3197\n",
            "9      2897\n",
            "3      2162\n",
            "15     1250\n",
            "7      1213\n",
            "12      640\n",
            "Name: video, dtype: int64\n",
            "\n",
            "Total number of training no blinks per video: \n",
            "10    11287\n",
            "11     8508\n",
            "0      8349\n",
            "13     6532\n",
            "1      6011\n",
            "2      5419\n",
            "8      3987\n",
            "14     3628\n",
            "5      3620\n",
            "4      3255\n",
            "16     3197\n",
            "9      2897\n",
            "3      2162\n",
            "15     1250\n",
            "7      1213\n",
            "12      640\n",
            "Name: video, dtype: int64\n"
          ]
        }
      ],
      "source": [
        "print(\"Total number of training blinks per video:\")\n",
        "print(blink_augmented[blink_augmented['blink']=='1']['video'].value_counts())\n",
        "\n",
        "print(\"\\nTotal number of training no blinks per video: \")\n",
        "print(no_blink[no_blink['blink']=='0']['video'].value_counts())"
      ]
    },
    {
      "cell_type": "markdown",
      "metadata": {
        "id": "-19DelXEIS1Q"
      },
      "source": [
        "Finalmente, juntamos todos los ejemplos de parpadeo y no parpadeo, confirmando nuestro dataset aumentado:"
      ]
    },
    {
      "cell_type": "code",
      "execution_count": 21,
      "metadata": {
        "colab": {
          "base_uri": "https://localhost:8080/"
        },
        "id": "9u_EUHcgvnU8",
        "outputId": "5ae26adf-594b-40b7-e911-382837dfe29b"
      },
      "outputs": [
        {
          "output_type": "stream",
          "name": "stdout",
          "text": [
            "Total number of instances in the augmented dataset: 143910\n"
          ]
        }
      ],
      "source": [
        "train_data_aug=pd.concat([blink_augmented,no_blink], axis=0, ignore_index=True)\n",
        "print(f\"Total number of instances in the augmented dataset: {train_data_aug.shape[0]}\")"
      ]
    },
    {
      "cell_type": "code",
      "execution_count": 22,
      "metadata": {
        "colab": {
          "base_uri": "https://localhost:8080/"
        },
        "id": "HIxhcRnk-IJ3",
        "outputId": "8115c568-e96e-44e1-f130-f24fceadbf55"
      },
      "outputs": [
        {
          "output_type": "stream",
          "name": "stdout",
          "text": [
            "1    71955\n",
            "0    71955\n",
            "Name: blink, dtype: int64\n"
          ]
        }
      ],
      "source": [
        "print(train_data_aug['blink'].value_counts())"
      ]
    },
    {
      "cell_type": "markdown",
      "metadata": {
        "id": "n3pBSfjiaTZv"
      },
      "source": [
        "Y para que no queden primero los valores de una clase seguidos de los de otra, se van a mezclar los ejemplos como se hace por defecto en la función train_test_split:"
      ]
    },
    {
      "cell_type": "code",
      "execution_count": 23,
      "metadata": {
        "colab": {
          "base_uri": "https://localhost:8080/"
        },
        "id": "Cs678OINagoY",
        "outputId": "930660c4-4e82-48c2-84e5-f91c10286d6d"
      },
      "outputs": [
        {
          "output_type": "stream",
          "name": "stdout",
          "text": [
            "Total number of instances in the augmented dataset (after subsample): 143910\n",
            "\n",
            "Class balance:\n",
            "1    71955\n",
            "0    71955\n",
            "Name: blink, dtype: int64\n"
          ]
        }
      ],
      "source": [
        "train_data_aug = train_data_aug.sample(frac=1, replace=False, random_state=seed)\n",
        "print(f\"Total number of instances in the augmented dataset (after subsample): {train_data_aug.shape[0]}\")\n",
        "print(\"\\nClass balance:\")\n",
        "print(train_data_aug['blink'].value_counts())"
      ]
    },
    {
      "cell_type": "code",
      "execution_count": 24,
      "metadata": {
        "colab": {
          "base_uri": "https://localhost:8080/",
          "height": 363
        },
        "id": "sgSxGDOFbdrE",
        "outputId": "61c1114d-4382-4a60-8920-154076beae12"
      },
      "outputs": [
        {
          "output_type": "execute_result",
          "data": {
            "text/plain": [
              "          index blink_id                left_eye                right_eye  \\\n",
              "21096   21096.0    60685  10_left_005608_rgb.png  10_right_005608_rgb.png   \n",
              "13357   13357.0    64515  10_left_010442_rgb.png  10_right_010442_rgb.png   \n",
              "87269       NaN     7156   0_left_009154_rgb.png   0_right_009154_rgb.png   \n",
              "67711   67711.0    43732   7_left_001000_rgb.png   7_right_001000_rgb.png   \n",
              "33688   33688.0    15043   1_left_002410_rgb.png   1_right_002410_rgb.png   \n",
              "142688      NaN    25292   2_left_007017_rgb.png   2_right_007017_rgb.png   \n",
              "113339      NaN    80004  11_left_011390_rgb.png  11_right_011390_rgb.png   \n",
              "33170   33170.0    13553   1_left_000760_rgb.png   1_right_000760_rgb.png   \n",
              "87493       NaN    95776  14_left_000300_rgb.png  14_right_000300_rgb.png   \n",
              "21689   21689.0    68388  10_left_014447_rgb.png  10_right_014447_rgb.png   \n",
              "\n",
              "       video blink  \n",
              "21096     10     1  \n",
              "13357     10     1  \n",
              "87269      0     0  \n",
              "67711      7     1  \n",
              "33688      1     1  \n",
              "142688     2     0  \n",
              "113339    11     0  \n",
              "33170      1     1  \n",
              "87493     14     0  \n",
              "21689     10     1  "
            ],
            "text/html": [
              "\n",
              "  <div id=\"df-b48fd447-a984-46f2-9907-c13dd7dcba08\">\n",
              "    <div class=\"colab-df-container\">\n",
              "      <div>\n",
              "<style scoped>\n",
              "    .dataframe tbody tr th:only-of-type {\n",
              "        vertical-align: middle;\n",
              "    }\n",
              "\n",
              "    .dataframe tbody tr th {\n",
              "        vertical-align: top;\n",
              "    }\n",
              "\n",
              "    .dataframe thead th {\n",
              "        text-align: right;\n",
              "    }\n",
              "</style>\n",
              "<table border=\"1\" class=\"dataframe\">\n",
              "  <thead>\n",
              "    <tr style=\"text-align: right;\">\n",
              "      <th></th>\n",
              "      <th>index</th>\n",
              "      <th>blink_id</th>\n",
              "      <th>left_eye</th>\n",
              "      <th>right_eye</th>\n",
              "      <th>video</th>\n",
              "      <th>blink</th>\n",
              "    </tr>\n",
              "  </thead>\n",
              "  <tbody>\n",
              "    <tr>\n",
              "      <th>21096</th>\n",
              "      <td>21096.0</td>\n",
              "      <td>60685</td>\n",
              "      <td>10_left_005608_rgb.png</td>\n",
              "      <td>10_right_005608_rgb.png</td>\n",
              "      <td>10</td>\n",
              "      <td>1</td>\n",
              "    </tr>\n",
              "    <tr>\n",
              "      <th>13357</th>\n",
              "      <td>13357.0</td>\n",
              "      <td>64515</td>\n",
              "      <td>10_left_010442_rgb.png</td>\n",
              "      <td>10_right_010442_rgb.png</td>\n",
              "      <td>10</td>\n",
              "      <td>1</td>\n",
              "    </tr>\n",
              "    <tr>\n",
              "      <th>87269</th>\n",
              "      <td>NaN</td>\n",
              "      <td>7156</td>\n",
              "      <td>0_left_009154_rgb.png</td>\n",
              "      <td>0_right_009154_rgb.png</td>\n",
              "      <td>0</td>\n",
              "      <td>0</td>\n",
              "    </tr>\n",
              "    <tr>\n",
              "      <th>67711</th>\n",
              "      <td>67711.0</td>\n",
              "      <td>43732</td>\n",
              "      <td>7_left_001000_rgb.png</td>\n",
              "      <td>7_right_001000_rgb.png</td>\n",
              "      <td>7</td>\n",
              "      <td>1</td>\n",
              "    </tr>\n",
              "    <tr>\n",
              "      <th>33688</th>\n",
              "      <td>33688.0</td>\n",
              "      <td>15043</td>\n",
              "      <td>1_left_002410_rgb.png</td>\n",
              "      <td>1_right_002410_rgb.png</td>\n",
              "      <td>1</td>\n",
              "      <td>1</td>\n",
              "    </tr>\n",
              "    <tr>\n",
              "      <th>142688</th>\n",
              "      <td>NaN</td>\n",
              "      <td>25292</td>\n",
              "      <td>2_left_007017_rgb.png</td>\n",
              "      <td>2_right_007017_rgb.png</td>\n",
              "      <td>2</td>\n",
              "      <td>0</td>\n",
              "    </tr>\n",
              "    <tr>\n",
              "      <th>113339</th>\n",
              "      <td>NaN</td>\n",
              "      <td>80004</td>\n",
              "      <td>11_left_011390_rgb.png</td>\n",
              "      <td>11_right_011390_rgb.png</td>\n",
              "      <td>11</td>\n",
              "      <td>0</td>\n",
              "    </tr>\n",
              "    <tr>\n",
              "      <th>33170</th>\n",
              "      <td>33170.0</td>\n",
              "      <td>13553</td>\n",
              "      <td>1_left_000760_rgb.png</td>\n",
              "      <td>1_right_000760_rgb.png</td>\n",
              "      <td>1</td>\n",
              "      <td>1</td>\n",
              "    </tr>\n",
              "    <tr>\n",
              "      <th>87493</th>\n",
              "      <td>NaN</td>\n",
              "      <td>95776</td>\n",
              "      <td>14_left_000300_rgb.png</td>\n",
              "      <td>14_right_000300_rgb.png</td>\n",
              "      <td>14</td>\n",
              "      <td>0</td>\n",
              "    </tr>\n",
              "    <tr>\n",
              "      <th>21689</th>\n",
              "      <td>21689.0</td>\n",
              "      <td>68388</td>\n",
              "      <td>10_left_014447_rgb.png</td>\n",
              "      <td>10_right_014447_rgb.png</td>\n",
              "      <td>10</td>\n",
              "      <td>1</td>\n",
              "    </tr>\n",
              "  </tbody>\n",
              "</table>\n",
              "</div>\n",
              "      <button class=\"colab-df-convert\" onclick=\"convertToInteractive('df-b48fd447-a984-46f2-9907-c13dd7dcba08')\"\n",
              "              title=\"Convert this dataframe to an interactive table.\"\n",
              "              style=\"display:none;\">\n",
              "        \n",
              "  <svg xmlns=\"http://www.w3.org/2000/svg\" height=\"24px\"viewBox=\"0 0 24 24\"\n",
              "       width=\"24px\">\n",
              "    <path d=\"M0 0h24v24H0V0z\" fill=\"none\"/>\n",
              "    <path d=\"M18.56 5.44l.94 2.06.94-2.06 2.06-.94-2.06-.94-.94-2.06-.94 2.06-2.06.94zm-11 1L8.5 8.5l.94-2.06 2.06-.94-2.06-.94L8.5 2.5l-.94 2.06-2.06.94zm10 10l.94 2.06.94-2.06 2.06-.94-2.06-.94-.94-2.06-.94 2.06-2.06.94z\"/><path d=\"M17.41 7.96l-1.37-1.37c-.4-.4-.92-.59-1.43-.59-.52 0-1.04.2-1.43.59L10.3 9.45l-7.72 7.72c-.78.78-.78 2.05 0 2.83L4 21.41c.39.39.9.59 1.41.59.51 0 1.02-.2 1.41-.59l7.78-7.78 2.81-2.81c.8-.78.8-2.07 0-2.86zM5.41 20L4 18.59l7.72-7.72 1.47 1.35L5.41 20z\"/>\n",
              "  </svg>\n",
              "      </button>\n",
              "      \n",
              "  <style>\n",
              "    .colab-df-container {\n",
              "      display:flex;\n",
              "      flex-wrap:wrap;\n",
              "      gap: 12px;\n",
              "    }\n",
              "\n",
              "    .colab-df-convert {\n",
              "      background-color: #E8F0FE;\n",
              "      border: none;\n",
              "      border-radius: 50%;\n",
              "      cursor: pointer;\n",
              "      display: none;\n",
              "      fill: #1967D2;\n",
              "      height: 32px;\n",
              "      padding: 0 0 0 0;\n",
              "      width: 32px;\n",
              "    }\n",
              "\n",
              "    .colab-df-convert:hover {\n",
              "      background-color: #E2EBFA;\n",
              "      box-shadow: 0px 1px 2px rgba(60, 64, 67, 0.3), 0px 1px 3px 1px rgba(60, 64, 67, 0.15);\n",
              "      fill: #174EA6;\n",
              "    }\n",
              "\n",
              "    [theme=dark] .colab-df-convert {\n",
              "      background-color: #3B4455;\n",
              "      fill: #D2E3FC;\n",
              "    }\n",
              "\n",
              "    [theme=dark] .colab-df-convert:hover {\n",
              "      background-color: #434B5C;\n",
              "      box-shadow: 0px 1px 3px 1px rgba(0, 0, 0, 0.15);\n",
              "      filter: drop-shadow(0px 1px 2px rgba(0, 0, 0, 0.3));\n",
              "      fill: #FFFFFF;\n",
              "    }\n",
              "  </style>\n",
              "\n",
              "      <script>\n",
              "        const buttonEl =\n",
              "          document.querySelector('#df-b48fd447-a984-46f2-9907-c13dd7dcba08 button.colab-df-convert');\n",
              "        buttonEl.style.display =\n",
              "          google.colab.kernel.accessAllowed ? 'block' : 'none';\n",
              "\n",
              "        async function convertToInteractive(key) {\n",
              "          const element = document.querySelector('#df-b48fd447-a984-46f2-9907-c13dd7dcba08');\n",
              "          const dataTable =\n",
              "            await google.colab.kernel.invokeFunction('convertToInteractive',\n",
              "                                                     [key], {});\n",
              "          if (!dataTable) return;\n",
              "\n",
              "          const docLinkHtml = 'Like what you see? Visit the ' +\n",
              "            '<a target=\"_blank\" href=https://colab.research.google.com/notebooks/data_table.ipynb>data table notebook</a>'\n",
              "            + ' to learn more about interactive tables.';\n",
              "          element.innerHTML = '';\n",
              "          dataTable['output_type'] = 'display_data';\n",
              "          await google.colab.output.renderOutput(dataTable, element);\n",
              "          const docLink = document.createElement('div');\n",
              "          docLink.innerHTML = docLinkHtml;\n",
              "          element.appendChild(docLink);\n",
              "        }\n",
              "      </script>\n",
              "    </div>\n",
              "  </div>\n",
              "  "
            ]
          },
          "metadata": {},
          "execution_count": 24
        }
      ],
      "source": [
        "train_data_aug[:10]"
      ]
    },
    {
      "cell_type": "markdown",
      "metadata": {
        "id": "fULH-8a6jMeb"
      },
      "source": [
        "Finalmente, creamos el generador de los datos de entrenamiento utilizando *data augmentation*:"
      ]
    },
    {
      "cell_type": "code",
      "execution_count": 25,
      "metadata": {
        "id": "_WDNrwrHjL2U"
      },
      "outputs": [],
      "source": [
        "train_generator = generator(train_data_aug, aug_datagen)"
      ]
    },
    {
      "cell_type": "markdown",
      "metadata": {
        "id": "jEFmxlH-I8Oo"
      },
      "source": [
        "## 1.3. Entrenamiento del modelo\n",
        "\n",
        "A continuación, se define y realiza el entrenamiento del modelo elegido (CNN). "
      ]
    },
    {
      "cell_type": "markdown",
      "metadata": {
        "id": "qgr-DNTCJLDX"
      },
      "source": [
        "En primer lugar, se visualizan algunas de las imágenes de entrenamiento junto con sus etiquetas:\n"
      ]
    },
    {
      "cell_type": "code",
      "execution_count": 26,
      "metadata": {
        "colab": {
          "base_uri": "https://localhost:8080/",
          "height": 864
        },
        "id": "zEvRPN1gAQVK",
        "outputId": "1bde8e2b-545d-4366-9cee-080ca45c4340"
      },
      "outputs": [
        {
          "output_type": "stream",
          "name": "stdout",
          "text": [
            "Found 143910 validated image filenames belonging to 2 classes.\n",
            "Found 143910 validated image filenames belonging to 2 classes.\n"
          ]
        },
        {
          "output_type": "display_data",
          "data": {
            "text/plain": [
              "<Figure size 1000x1000 with 6 Axes>"
            ],
            "image/png": "[encoded data removed]"
          },
          "metadata": {}
        }
      ],
      "source": [
        "aug_iter = generator(train_data_aug, aug_datagen)\n",
        "fig, ax = plt.subplots(nrows=3,ncols=2,figsize=(10,10))\n",
        "\n",
        "for i in range(3):\n",
        "  eye = next(aug_iter)\n",
        "  left_eye_image = eye[0][0][i]\n",
        "  right_eye_image = eye[0][1][i]\n",
        "\n",
        "  ax[i,0].imshow(right_eye_image)\n",
        "  ax[i,1].imshow(left_eye_image)\n",
        "  ax[i,0].axis('off')\n",
        "  ax[i,1].axis('off')\n",
        "\n",
        "  ax[i,0].set_title(f'Data augmented right eye (instance: {i}, label: {eye[1][i]})')\n",
        "  ax[i,1].set_title(f'Data augmented left eye (instance: {i}, label: {eye[1][i]})')"
      ]
    },
    {
      "cell_type": "markdown",
      "metadata": {
        "id": "OW_aaHHsKutS"
      },
      "source": [
        "Definimos el modelo de la red neuronal convolucional:\n",
        "- Dos capas de entrada (ojo izquierdo y derecho)\n",
        "- Capa de concatenación para juntar en una sola las dos imágenes. La concatenación se hace en la primera dimensión, es decir, se concatenan horizontalmente.\n",
        "- Dos capas convolucionales (16@3x3 y 32@3x3) con una regularización Dropout al 50%.\n",
        "- Una capa plana para juntar todas las careacterísticas latentes extraídas por la red\n",
        "- Una capa densa, que procesará de menra conjunta las características latentes.\n",
        "- Una capa de salida con una única neurona y activación sigmoide (caso típico de clasificación binaria sin utilizar one-hot encoding)."
      ]
    },
    {
      "cell_type": "markdown",
      "metadata": {
        "id": "rKtnc-T8S8fF"
      },
      "source": [
        "Además, se van a inicializar los pesos de cada capa con una normal de media 0 y desviación típica igual a 1, con el objetivo de ayudar a la generalización de la red."
      ]
    },
    {
      "cell_type": "code",
      "execution_count": 27,
      "metadata": {
        "id": "XomXY4jPbBYy"
      },
      "outputs": [],
      "source": [
        "input_shape = (60, 36, 3)\n",
        "# Declaramos dos capas de Input\n",
        "input_1 = Input(name='left_eye', shape=input_shape)\n",
        "input_2 = Input(name='right_eye', shape=input_shape)\n",
        "\n",
        "concat_layer= Concatenate(name='concat', axis=1)([input_1, input_2])\n",
        "\n",
        "conv_1 = Conv2D(16, kernel_size=4, name='conv1',\n",
        "                padding='same',strides=1, \n",
        "                input_shape=(img_width,img_height,3),\n",
        "                activation='relu')(concat_layer)\n",
        "dr_1 = Dropout(0.2)(conv_1)\n",
        "max_1 = MaxPooling2D(pool_size=2, strides=2, name='max1', padding='same')(dr_1)\n",
        "    \n",
        "conv_2 = Conv2D(32, kernel_size=4, name='conv2',\n",
        "                padding='same',strides=1,\n",
        "                activation='relu')(max_1)\n",
        "dr_2 = Dropout(0.2)(conv_2)\n",
        "max_2 = MaxPooling2D(pool_size=3, strides=3, name='max2', padding='same')(dr_2)\n",
        "\n",
        "conv_3 = Conv2D(32, kernel_size=4, name='conv3',\n",
        "                padding='same',strides=1,\n",
        "                activation='relu')(max_2)\n",
        "dr_3 = Dropout(0.2)(conv_3)\n",
        "max_3 = MaxPooling2D(pool_size=2, strides=2, name='max3', padding='same')(dr_3)\n",
        "\n",
        "flat_layer = Flatten(name='flat')(max_3)\n",
        "\n",
        "dense_1 = Dense(32, name='dense1', activation='relu')(flat_layer)\n",
        "predictions = Dense(1, name='output', activation='sigmoid')(dense_1)\n",
        "\n",
        "# Creamos el modelo final y lo compilamos\n",
        "model = Model(inputs=[input_1, input_2], outputs=[predictions], name='blink_detector')\n",
        "# Compilamos el modelo\n",
        "model.compile(loss='binary_crossentropy',                # función de pérdida para problemas de clasificación binaria\n",
        "              optimizer=optimizers.Adam(learning_rate=1e-3),  # optimizador Adam\n",
        "              metrics=tfa.metrics.F1Score(name='f1_score',num_classes=1,threshold=0.5,average='macro'))"
      ]
    },
    {
      "cell_type": "code",
      "execution_count": 28,
      "metadata": {
        "colab": {
          "base_uri": "https://localhost:8080/"
        },
        "id": "JF1RJn0Km97p",
        "outputId": "0f9a011e-446f-41df-a272-a4302d5c866a"
      },
      "outputs": [
        {
          "output_type": "stream",
          "name": "stdout",
          "text": [
            "Model: \"blink_detector\"\n",
            "__________________________________________________________________________________________________\n",
            " Layer (type)                   Output Shape         Param #     Connected to                     \n",
            "==================================================================================================\n",
            " left_eye (InputLayer)          [(None, 60, 36, 3)]  0           []                               \n",
            "                                                                                                  \n",
            " right_eye (InputLayer)         [(None, 60, 36, 3)]  0           []                               \n",
            "                                                                                                  \n",
            " concat (Concatenate)           (None, 120, 36, 3)   0           ['left_eye[0][0]',               \n",
            "                                                                  'right_eye[0][0]']              \n",
            "                                                                                                  \n",
            " conv1 (Conv2D)                 (None, 120, 36, 16)  784         ['concat[0][0]']                 \n",
            "                                                                                                  \n",
            " dropout (Dropout)              (None, 120, 36, 16)  0           ['conv1[0][0]']                  \n",
            "                                                                                                  \n",
            " max1 (MaxPooling2D)            (None, 60, 18, 16)   0           ['dropout[0][0]']                \n",
            "                                                                                                  \n",
            " conv2 (Conv2D)                 (None, 60, 18, 32)   8224        ['max1[0][0]']                   \n",
            "                                                                                                  \n",
            " dropout_1 (Dropout)            (None, 60, 18, 32)   0           ['conv2[0][0]']                  \n",
            "                                                                                                  \n",
            " max2 (MaxPooling2D)            (None, 20, 6, 32)    0           ['dropout_1[0][0]']              \n",
            "                                                                                                  \n",
            " conv3 (Conv2D)                 (None, 20, 6, 32)    16416       ['max2[0][0]']                   \n",
            "                                                                                                  \n",
            " dropout_2 (Dropout)            (None, 20, 6, 32)    0           ['conv3[0][0]']                  \n",
            "                                                                                                  \n",
            " max3 (MaxPooling2D)            (None, 10, 3, 32)    0           ['dropout_2[0][0]']              \n",
            "                                                                                                  \n",
            " flat (Flatten)                 (None, 960)          0           ['max3[0][0]']                   \n",
            "                                                                                                  \n",
            " dense1 (Dense)                 (None, 32)           30752       ['flat[0][0]']                   \n",
            "                                                                                                  \n",
            " output (Dense)                 (None, 1)            33          ['dense1[0][0]']                 \n",
            "                                                                                                  \n",
            "==================================================================================================\n",
            "Total params: 56,209\n",
            "Trainable params: 56,209\n",
            "Non-trainable params: 0\n",
            "__________________________________________________________________________________________________\n"
          ]
        }
      ],
      "source": [
        "model.summary()"
      ]
    },
    {
      "cell_type": "code",
      "execution_count": 29,
      "metadata": {
        "colab": {
          "base_uri": "https://localhost:8080/",
          "height": 1000
        },
        "id": "sH29LCWzFOep",
        "outputId": "78ac911b-c84d-47c7-aed7-37d6c5816ec4"
      },
      "outputs": [
        {
          "output_type": "execute_result",
          "data": {
            "image/png": "[encoded data removed]",
            "text/plain": [
              "<IPython.core.display.Image object>"
            ]
          },
          "metadata": {},
          "execution_count": 29
        }
      ],
      "source": [
        "keras.utils.plot_model(model, to_file='/content/gdrive/MyDrive/Colab Notebooks/Deep Learning/Trabajo final/model.png')"
      ]
    },
    {
      "cell_type": "code",
      "source": [
        "## Función para mostrar la evolución de la pérdida durante el entrenamiento\n",
        "def plot_history(history, title):\n",
        "  fig, ax1 = plt.subplots()\n",
        "  ax2 = ax1.twinx()\n",
        "\n",
        "  ax1.plot(history.epoch, np.array(history.history['loss']), c='tab:blue', ls='--', label='Train Loss')\n",
        "  ax1.plot(history.epoch, np.array(history.history['val_loss']), c='tab:blue', ls='-', label='Validation Loss')\n",
        "  ax1.set_xlabel('Epoch')\n",
        "  ax1.set_ylabel('binary_crossentropy')\n",
        "\n",
        "  ax2.plot(history.epoch, np.array(history.history['f1_score']), c='tab:orange',ls='--', label='Train F1-Score')\n",
        "  ax1.plot(history.epoch, np.array(history.history['val_f1_score']), c='tab:orange', ls='-', label='Validation F1-Score')\n",
        "  ax2.set_ylabel('f1_score')\n",
        "\n",
        "  lines1, labels1 = ax1.get_legend_handles_labels()\n",
        "  lines2, labels2 = ax2.get_legend_handles_labels()\n",
        "  lines = lines1 + lines2\n",
        "  labels = labels1 + labels2\n",
        "  ax1.legend(lines, labels, loc='best')\n",
        "\n",
        "  plt.title(\"Training and validation performenace\")\n",
        "  fig.savefig(title)"
      ],
      "metadata": {
        "id": "SpZ5nAasIOMY"
      },
      "execution_count": 30,
      "outputs": []
    },
    {
      "cell_type": "markdown",
      "metadata": {
        "id": "4b2e7B-TMb5g"
      },
      "source": [
        "Como medida para evitar el overfitting, se aplica un early stopping al entrenamiento de la red. Este early stopping va a tomar como medida de referencia la pérdida en valdiación, y en cuanto detecte que esta no se mejora durante 5 épocas seguidas, parará el entrenamiento."
      ]
    },
    {
      "cell_type": "code",
      "execution_count": 31,
      "metadata": {
        "id": "q3osX-9xpWqD"
      },
      "outputs": [],
      "source": [
        "# Definir el callback de EarlyStopping\n",
        "early_stopping = EarlyStopping(monitor='val_loss', patience=5, restore_best_weights=True)"
      ]
    },
    {
      "cell_type": "markdown",
      "metadata": {
        "id": "ag82DEkiNgs4"
      },
      "source": [
        "Además, con el objetivo de quedanros con el mejor modelo, se va a utilizar otro callback para guardar aquel que mejor F1-Score obtenga en validación:"
      ]
    },
    {
      "cell_type": "code",
      "execution_count": 32,
      "metadata": {
        "id": "O8eQjgu5NfwO"
      },
      "outputs": [],
      "source": [
        "checkpoint_filepath = '/content/gdrive/MyDrive/Colab Notebooks/Deep Learning/Trabajo final/best_cnn.h5'\n",
        "model_checkpoint_callback = ModelCheckpoint(\n",
        "    filepath=checkpoint_filepath,\n",
        "    monitor='val_f1_score',\n",
        "    mode='max',\n",
        "    save_best_only=True)"
      ]
    },
    {
      "cell_type": "markdown",
      "metadata": {
        "id": "C715xZNmMpE4"
      },
      "source": [
        "A continuación, se entrena el modelo y se grafica su evolución:"
      ]
    },
    {
      "cell_type": "code",
      "source": [
        "reduce_lr = ReduceLROnPlateau(monitor=\"val_loss\", factor=0.5, patience=2, min_lr=1e-6)"
      ],
      "metadata": {
        "id": "F4Ns4qmfl2V3"
      },
      "execution_count": 33,
      "outputs": []
    },
    {
      "cell_type": "code",
      "execution_count": 34,
      "metadata": {
        "colab": {
          "base_uri": "https://localhost:8080/"
        },
        "id": "wdIo_Tg8oblC",
        "outputId": "cabf5df5-fc2b-4c14-cb43-f5a4e7e9b2a1"
      },
      "outputs": [
        {
          "output_type": "stream",
          "name": "stdout",
          "text": [
            "Found 143910 validated image filenames belonging to 2 classes.\n",
            "Found 143910 validated image filenames belonging to 2 classes.\n",
            "Epoch 1/30\n",
            "1175/1174 [==============================] - ETA: 0s - loss: 0.2968 - f1_score: 0.8614Found 16102 validated image filenames belonging to 2 classes.\n",
            "Found 16102 validated image filenames belonging to 2 classes.\n",
            "1174/1174 [==============================] - 247s 201ms/step - loss: 0.2968 - f1_score: 0.8614 - val_loss: 0.1305 - val_f1_score: 0.5817 - lr: 0.0010\n",
            "Epoch 2/30\n",
            "1174/1174 [==============================] - 227s 194ms/step - loss: 0.1509 - f1_score: 0.9436 - val_loss: 0.1045 - val_f1_score: 0.6643 - lr: 0.0010\n",
            "Epoch 3/30\n",
            "1174/1174 [==============================] - 239s 204ms/step - loss: 0.1170 - f1_score: 0.9562 - val_loss: 0.1254 - val_f1_score: 0.6062 - lr: 0.0010\n",
            "Epoch 4/30\n",
            "1174/1174 [==============================] - 230s 196ms/step - loss: 0.0976 - f1_score: 0.9643 - val_loss: 0.0527 - val_f1_score: 0.8349 - lr: 0.0010\n",
            "Epoch 5/30\n",
            "1174/1174 [==============================] - 227s 194ms/step - loss: 0.0883 - f1_score: 0.9675 - val_loss: 0.0653 - val_f1_score: 0.7715 - lr: 0.0010\n",
            "Epoch 6/30\n",
            "1174/1174 [==============================] - 237s 202ms/step - loss: 0.0829 - f1_score: 0.9695 - val_loss: 0.0615 - val_f1_score: 0.7765 - lr: 0.0010\n",
            "Epoch 7/30\n",
            "1174/1174 [==============================] - 238s 203ms/step - loss: 0.0652 - f1_score: 0.9767 - val_loss: 0.0840 - val_f1_score: 0.7209 - lr: 5.0000e-04\n",
            "Epoch 8/30\n",
            "1174/1174 [==============================] - 240s 205ms/step - loss: 0.0627 - f1_score: 0.9774 - val_loss: 0.0592 - val_f1_score: 0.7993 - lr: 5.0000e-04\n",
            "Epoch 9/30\n",
            "1174/1174 [==============================] - 238s 203ms/step - loss: 0.0556 - f1_score: 0.9802 - val_loss: 0.0480 - val_f1_score: 0.8248 - lr: 2.5000e-04\n",
            "Epoch 10/30\n",
            "1174/1174 [==============================] - 238s 203ms/step - loss: 0.0517 - f1_score: 0.9817 - val_loss: 0.0417 - val_f1_score: 0.8404 - lr: 2.5000e-04\n",
            "Epoch 11/30\n",
            "1174/1174 [==============================] - 229s 195ms/step - loss: 0.0509 - f1_score: 0.9818 - val_loss: 0.0451 - val_f1_score: 0.8298 - lr: 2.5000e-04\n",
            "Epoch 12/30\n",
            "1174/1174 [==============================] - 239s 203ms/step - loss: 0.0505 - f1_score: 0.9821 - val_loss: 0.0371 - val_f1_score: 0.8571 - lr: 2.5000e-04\n",
            "Epoch 13/30\n",
            "1174/1174 [==============================] - 237s 202ms/step - loss: 0.0486 - f1_score: 0.9828 - val_loss: 0.0467 - val_f1_score: 0.8236 - lr: 2.5000e-04\n",
            "Epoch 14/30\n",
            "1174/1174 [==============================] - 230s 196ms/step - loss: 0.0474 - f1_score: 0.9831 - val_loss: 0.0513 - val_f1_score: 0.8122 - lr: 2.5000e-04\n",
            "Epoch 15/30\n",
            "1174/1174 [==============================] - 237s 202ms/step - loss: 0.0443 - f1_score: 0.9848 - val_loss: 0.0495 - val_f1_score: 0.8087 - lr: 1.2500e-04\n",
            "Epoch 16/30\n",
            "1174/1174 [==============================] - 230s 196ms/step - loss: 0.0440 - f1_score: 0.9852 - val_loss: 0.0440 - val_f1_score: 0.8263 - lr: 1.2500e-04\n",
            "Epoch 17/30\n",
            "1174/1174 [==============================] - 235s 200ms/step - loss: 0.0407 - f1_score: 0.9857 - val_loss: 0.0459 - val_f1_score: 0.8246 - lr: 6.2500e-05\n"
          ]
        }
      ],
      "source": [
        "# Entrenamos el modelo con los datos preparados en el punto 2\n",
        "history = model.fit(train_generator,\n",
        "                    epochs=30,\n",
        "                    verbose=1,\n",
        "                    steps_per_epoch=len(train_data)/batch_size,\n",
        "                    validation_data=val_generator,\n",
        "                    validation_steps=len(val_data)/batch_size,\n",
        "                    callbacks=[early_stopping, model_checkpoint_callback, reduce_lr])"
      ]
    },
    {
      "cell_type": "code",
      "execution_count": 35,
      "metadata": {
        "id": "x3VBGySaqOND",
        "colab": {
          "base_uri": "https://localhost:8080/",
          "height": 472
        },
        "outputId": "e3f06af7-dac6-4833-cbef-2bf0fac887f9"
      },
      "outputs": [
        {
          "output_type": "display_data",
          "data": {
            "text/plain": [
              "<Figure size 640x480 with 2 Axes>"
            ],
            "image/png": "[encoded data removed]"
          },
          "metadata": {}
        }
      ],
      "source": [
        "plot_history(history, \"/content/gdrive/MyDrive/Colab Notebooks/Deep Learning/Trabajo final/cnn_training.png\")"
      ]
    },
    {
      "cell_type": "markdown",
      "metadata": {
        "id": "9CqyxkCdMtQQ"
      },
      "source": [
        "Finalmente, se evalúa el modelo entrenado:"
      ]
    },
    {
      "cell_type": "code",
      "execution_count": 36,
      "metadata": {
        "id": "p1JCYcicqGrH",
        "colab": {
          "base_uri": "https://localhost:8080/"
        },
        "outputId": "af288434-c26a-4799-8b41-a952e77afbf2"
      },
      "outputs": [
        {
          "output_type": "stream",
          "name": "stdout",
          "text": [
            "Found 16103 validated image filenames belonging to 2 classes.\n",
            "Found 16103 validated image filenames belonging to 2 classes.\n",
            "251/251 [==============================] - 14s 55ms/step - loss: 0.0396 - f1_score: 0.8520\n",
            "Test loss: 0.03957245126366615\n",
            "Test F1-Score: 0.8519948720932007\n"
          ]
        }
      ],
      "source": [
        "# Por último, podemos evaluar el modelo en el conjunto de test\n",
        "model = load_model('/content/gdrive/MyDrive/Colab Notebooks/Deep Learning/Trabajo final/best_cnn.h5')\n",
        "test_loss, test_f1 = model.evaluate(test_generator,\n",
        "                                     batch_size=batch_size,\n",
        "                                     steps=len(test_data)/batch_size,\n",
        "                                     verbose=1)\n",
        "print(f\"Test loss: {test_loss}\")\n",
        "print(f\"Test F1-Score: {test_f1}\")"
      ]
    },
    {
      "cell_type": "markdown",
      "metadata": {
        "id": "OZ1kERzVRiAK"
      },
      "source": [
        "\n",
        "\n",
        "---\n",
        "\n"
      ]
    },
    {
      "cell_type": "markdown",
      "metadata": {
        "id": "_wnqcujxRI1K"
      },
      "source": [
        "## 2. SEGUNDA APROXIMACIÓN - TRANSFER LEARNING\n",
        "\n",
        "En esta ocasión, con los mismos datos que antes, se va utilizar una red pre-entrenada, que se adaptará con una capa de entrada otras a la salida.\n",
        "\n",
        "Solamente se entrenarán estas capas de salida durante la fase de entrenamiento, quedándose los pesos de la red original sin modificar."
      ]
    },
    {
      "cell_type": "code",
      "execution_count": 37,
      "metadata": {
        "id": "XnIVf0cfRg7r"
      },
      "outputs": [],
      "source": [
        "input_shape = (60, 36, 3)\n",
        "\n",
        "# Cargamos el modelo DenseNet121 pre-entrenado con ImageNet\n",
        "base_model = applications.DenseNet121(weights='imagenet', include_top=False, input_shape=(img_width*2,img_height,3))\n",
        "\n",
        "# En el modelo base, hacemos que todas sus capas sean no entrenables\n",
        "for layer in base_model.layers:\n",
        "    layer.trainable = False\n",
        "\n",
        "# Añadimos las dos capas de entrada y la de concatenación, para adapatarlas al modelo base\n",
        "input_1 = Input(name='left_eye', shape=input_shape)\n",
        "input_2 = Input(name='right_eye', shape=input_shape)\n",
        "\n",
        "concat_transfer = Concatenate(name='concat', axis=1)([input_1, input_2])\n",
        "new_base = base_model(concat_transfer)\n",
        "\n",
        "# Añadimos nuevas capas al final para adaptar el modelo a nuestro problema\n",
        "x = GlobalAveragePooling2D()(new_base) # Para eliminar la necesidad de una capa densa muy grande\n",
        "x = Dense(1024, activation='relu')(x)\n",
        "predictions_transfer = Dense(1, activation='sigmoid')(x) \n",
        "\n",
        "# Creamos el modelo final y lo compilamos\n",
        "model_transfer = Model(inputs=[input_1, input_2], outputs=[predictions_transfer], name='blink_detector_transfer')\n",
        "\n",
        "model_transfer.compile(loss='binary_crossentropy',\n",
        "              optimizer=optimizers.Adam(learning_rate=1e-3),\n",
        "              metrics=tfa.metrics.F1Score(name='f1_score',num_classes=1,threshold=0.5,average='macro'))"
      ]
    },
    {
      "cell_type": "code",
      "execution_count": 38,
      "metadata": {
        "id": "Al75zD0pWLMK",
        "colab": {
          "base_uri": "https://localhost:8080/"
        },
        "outputId": "c2cf2580-d7ee-4ee3-db7d-0ce1c0c91a15"
      },
      "outputs": [
        {
          "output_type": "stream",
          "name": "stdout",
          "text": [
            "Model: \"blink_detector_transfer\"\n",
            "__________________________________________________________________________________________________\n",
            " Layer (type)                   Output Shape         Param #     Connected to                     \n",
            "==================================================================================================\n",
            " left_eye (InputLayer)          [(None, 60, 36, 3)]  0           []                               \n",
            "                                                                                                  \n",
            " right_eye (InputLayer)         [(None, 60, 36, 3)]  0           []                               \n",
            "                                                                                                  \n",
            " concat (Concatenate)           (None, 120, 36, 3)   0           ['left_eye[0][0]',               \n",
            "                                                                  'right_eye[0][0]']              \n",
            "                                                                                                  \n",
            " densenet121 (Functional)       (None, 3, 1, 1024)   7037504     ['concat[0][0]']                 \n",
            "                                                                                                  \n",
            " global_average_pooling2d (Glob  (None, 1024)        0           ['densenet121[0][0]']            \n",
            " alAveragePooling2D)                                                                              \n",
            "                                                                                                  \n",
            " dense (Dense)                  (None, 1024)         1049600     ['global_average_pooling2d[0][0]'\n",
            "                                                                 ]                                \n",
            "                                                                                                  \n",
            " dense_1 (Dense)                (None, 1)            1025        ['dense[0][0]']                  \n",
            "                                                                                                  \n",
            "==================================================================================================\n",
            "Total params: 8,088,129\n",
            "Trainable params: 1,050,625\n",
            "Non-trainable params: 7,037,504\n",
            "__________________________________________________________________________________________________\n"
          ]
        }
      ],
      "source": [
        "model_transfer.summary()"
      ]
    },
    {
      "cell_type": "code",
      "execution_count": 39,
      "metadata": {
        "id": "52r7HACMWM3T",
        "colab": {
          "base_uri": "https://localhost:8080/",
          "height": 564
        },
        "outputId": "c5e1f988-c99e-47bf-a4d1-253d024a5728"
      },
      "outputs": [
        {
          "output_type": "execute_result",
          "data": {
            "image/png": "[encoded data removed]",
            "text/plain": [
              "<IPython.core.display.Image object>"
            ]
          },
          "metadata": {},
          "execution_count": 39
        }
      ],
      "source": [
        "keras.utils.plot_model(model_transfer, to_file='/content/gdrive/MyDrive/Colab Notebooks/Deep Learning/Trabajo final/model_transfer.png')"
      ]
    },
    {
      "cell_type": "code",
      "execution_count": 40,
      "metadata": {
        "id": "hX3s9nDzN8vg"
      },
      "outputs": [],
      "source": [
        "early_stopping_transfer = EarlyStopping(monitor='val_loss', patience=5, restore_best_weights=True)\n",
        "\n",
        "checkpoint_filepath_transfer = '/content/gdrive/MyDrive/Colab Notebooks/Deep Learning/Trabajo final/best_densenet121.h5'\n",
        "model_checkpoint_callback_transfer = ModelCheckpoint(\n",
        "    filepath=checkpoint_filepath_transfer,\n",
        "    monitor='val_f1_score',\n",
        "    mode='max',\n",
        "    save_best_only=True)"
      ]
    },
    {
      "cell_type": "code",
      "execution_count": 41,
      "metadata": {
        "id": "JdefcBA2WFXD",
        "colab": {
          "base_uri": "https://localhost:8080/"
        },
        "outputId": "d449cc4a-b78d-4207-9c44-aba34b5c7401"
      },
      "outputs": [
        {
          "output_type": "stream",
          "name": "stdout",
          "text": [
            "Epoch 1/30\n",
            "587/587 [==============================] - 135s 214ms/step - loss: 0.2813 - f1_score: 0.8880 - val_loss: 0.1945 - val_f1_score: 0.5032 - lr: 0.0010\n",
            "Epoch 2/30\n",
            "587/587 [==============================] - 123s 210ms/step - loss: 0.1824 - f1_score: 0.9266 - val_loss: 0.1493 - val_f1_score: 0.5496 - lr: 0.0010\n",
            "Epoch 3/30\n",
            "587/587 [==============================] - 126s 214ms/step - loss: 0.1564 - f1_score: 0.9380 - val_loss: 0.1338 - val_f1_score: 0.6093 - lr: 0.0010\n",
            "Epoch 4/30\n",
            "587/587 [==============================] - 124s 211ms/step - loss: 0.1366 - f1_score: 0.9470 - val_loss: 0.1437 - val_f1_score: 0.6037 - lr: 0.0010\n",
            "Epoch 5/30\n",
            "587/587 [==============================] - 126s 215ms/step - loss: 0.1240 - f1_score: 0.9528 - val_loss: 0.0850 - val_f1_score: 0.7063 - lr: 0.0010\n",
            "Epoch 6/30\n",
            "587/587 [==============================] - 120s 205ms/step - loss: 0.1195 - f1_score: 0.9537 - val_loss: 0.0905 - val_f1_score: 0.6997 - lr: 0.0010\n",
            "Epoch 7/30\n",
            "587/587 [==============================] - 125s 213ms/step - loss: 0.1081 - f1_score: 0.9591 - val_loss: 0.0707 - val_f1_score: 0.7512 - lr: 0.0010\n",
            "Epoch 8/30\n",
            "587/587 [==============================] - 121s 207ms/step - loss: 0.0986 - f1_score: 0.9626 - val_loss: 0.1109 - val_f1_score: 0.6727 - lr: 0.0010\n",
            "Epoch 9/30\n",
            "587/587 [==============================] - 122s 209ms/step - loss: 0.1010 - f1_score: 0.9621 - val_loss: 0.0840 - val_f1_score: 0.7216 - lr: 0.0010\n",
            "Epoch 10/30\n",
            "587/587 [==============================] - 123s 209ms/step - loss: 0.0799 - f1_score: 0.9704 - val_loss: 0.0888 - val_f1_score: 0.7199 - lr: 5.0000e-04\n",
            "Epoch 11/30\n",
            "587/587 [==============================] - 126s 214ms/step - loss: 0.0818 - f1_score: 0.9704 - val_loss: 0.0516 - val_f1_score: 0.8106 - lr: 5.0000e-04\n",
            "Epoch 12/30\n",
            "587/587 [==============================] - 122s 208ms/step - loss: 0.0743 - f1_score: 0.9744 - val_loss: 0.0506 - val_f1_score: 0.8045 - lr: 5.0000e-04\n",
            "Epoch 13/30\n",
            "587/587 [==============================] - 120s 205ms/step - loss: 0.0713 - f1_score: 0.9746 - val_loss: 0.0594 - val_f1_score: 0.7835 - lr: 5.0000e-04\n",
            "Epoch 14/30\n",
            "587/587 [==============================] - 124s 211ms/step - loss: 0.0678 - f1_score: 0.9752 - val_loss: 0.1023 - val_f1_score: 0.6913 - lr: 5.0000e-04\n",
            "Epoch 15/30\n",
            "587/587 [==============================] - 121s 207ms/step - loss: 0.0630 - f1_score: 0.9783 - val_loss: 0.0522 - val_f1_score: 0.7946 - lr: 2.5000e-04\n",
            "Epoch 16/30\n",
            "587/587 [==============================] - 121s 206ms/step - loss: 0.0592 - f1_score: 0.9790 - val_loss: 0.0565 - val_f1_score: 0.8068 - lr: 2.5000e-04\n",
            "Epoch 17/30\n",
            "587/587 [==============================] - 123s 210ms/step - loss: 0.0551 - f1_score: 0.9809 - val_loss: 0.0488 - val_f1_score: 0.8144 - lr: 1.2500e-04\n",
            "Epoch 18/30\n",
            "587/587 [==============================] - 124s 211ms/step - loss: 0.0561 - f1_score: 0.9814 - val_loss: 0.0608 - val_f1_score: 0.7952 - lr: 1.2500e-04\n",
            "Epoch 19/30\n",
            "587/587 [==============================] - 121s 206ms/step - loss: 0.0519 - f1_score: 0.9824 - val_loss: 0.0558 - val_f1_score: 0.8020 - lr: 1.2500e-04\n",
            "Epoch 20/30\n",
            "587/587 [==============================] - 123s 211ms/step - loss: 0.0462 - f1_score: 0.9845 - val_loss: 0.0488 - val_f1_score: 0.8109 - lr: 6.2500e-05\n",
            "Epoch 21/30\n",
            "587/587 [==============================] - 121s 207ms/step - loss: 0.0505 - f1_score: 0.9832 - val_loss: 0.0545 - val_f1_score: 0.8093 - lr: 6.2500e-05\n",
            "Epoch 22/30\n",
            "587/587 [==============================] - 122s 208ms/step - loss: 0.0498 - f1_score: 0.9827 - val_loss: 0.0423 - val_f1_score: 0.8527 - lr: 3.1250e-05\n",
            "Epoch 23/30\n",
            "587/587 [==============================] - 120s 205ms/step - loss: 0.0481 - f1_score: 0.9837 - val_loss: 0.0502 - val_f1_score: 0.8117 - lr: 3.1250e-05\n",
            "Epoch 24/30\n",
            "587/587 [==============================] - 123s 210ms/step - loss: 0.0508 - f1_score: 0.9831 - val_loss: 0.0476 - val_f1_score: 0.8241 - lr: 3.1250e-05\n",
            "Epoch 25/30\n",
            "587/587 [==============================] - 122s 209ms/step - loss: 0.0480 - f1_score: 0.9840 - val_loss: 0.0480 - val_f1_score: 0.8300 - lr: 1.5625e-05\n",
            "Epoch 26/30\n",
            "587/587 [==============================] - 123s 210ms/step - loss: 0.0473 - f1_score: 0.9841 - val_loss: 0.0479 - val_f1_score: 0.8218 - lr: 1.5625e-05\n",
            "Epoch 27/30\n",
            "587/587 [==============================] - 124s 212ms/step - loss: 0.0481 - f1_score: 0.9838 - val_loss: 0.0427 - val_f1_score: 0.8440 - lr: 7.8125e-06\n"
          ]
        }
      ],
      "source": [
        "# Entrenamos el nuevo modelo\n",
        "batch_size=128\n",
        "history_transfer = model_transfer.fit(train_generator,\n",
        "                    epochs=30,\n",
        "                    verbose=1,\n",
        "                    steps_per_epoch=len(train_data)/batch_size,\n",
        "                    validation_data=val_generator,\n",
        "                    validation_steps=len(val_data)/batch_size,\n",
        "                    callbacks=[early_stopping_transfer, model_checkpoint_callback_transfer,reduce_lr])"
      ]
    },
    {
      "cell_type": "code",
      "execution_count": 42,
      "metadata": {
        "id": "nfq1edCdWQMU",
        "colab": {
          "base_uri": "https://localhost:8080/",
          "height": 472
        },
        "outputId": "fd8eed80-a78c-47ae-9d48-ec08bd05987a"
      },
      "outputs": [
        {
          "output_type": "display_data",
          "data": {
            "text/plain": [
              "<Figure size 640x480 with 2 Axes>"
            ],
            "image/png": "[encoded data removed]"
          },
          "metadata": {}
        }
      ],
      "source": [
        " # Mostramos la evolución de su entrenamiento\n",
        "plot_history(history_transfer, \"transfer_training.png\")"
      ]
    },
    {
      "cell_type": "code",
      "execution_count": 43,
      "metadata": {
        "id": "XoSQuCnrWR6v",
        "colab": {
          "base_uri": "https://localhost:8080/"
        },
        "outputId": "e535ac17-315c-4160-ff17-b63762f8c6c6"
      },
      "outputs": [
        {
          "output_type": "stream",
          "name": "stdout",
          "text": [
            "125/125 [==============================] - 10s 63ms/step - loss: 0.0530 - f1_score: 0.8274\n",
            "Test loss (transfer learning): 0.05302651226520538\n",
            "Test F1-Score (transfer learning): 0.8274231553077698\n"
          ]
        }
      ],
      "source": [
        "# Y finalmente, evaluamos el modelo en el conjunto de test\n",
        "model_transfer = load_model('/content/gdrive/MyDrive/Colab Notebooks/Deep Learning/Trabajo final/best_densenet121.h5')\n",
        "test_loss_transfer, test_f1_transfer = model_transfer.evaluate(test_generator,\n",
        "                                                               steps=len(test_data)/batch_size,\n",
        "                                                               verbose=1)\n",
        "print(f\"Test loss (transfer learning): {test_loss_transfer}\")\n",
        "print(f\"Test F1-Score (transfer learning): {test_f1_transfer}\")"
      ]
    }
  ],
  "metadata": {
    "accelerator": "GPU",
    "colab": {
      "provenance": []
    },
    "gpuClass": "standard",
    "kernelspec": {
      "display_name": "Python 3 (ipykernel)",
      "language": "python",
      "name": "python3"
    },
    "language_info": {
      "codemirror_mode": {
        "name": "ipython",
        "version": 3
      },
      "file_extension": ".py",
      "mimetype": "text/x-python",
      "name": "python",
      "nbconvert_exporter": "python",
      "pygments_lexer": "ipython3",
      "version": "3.9.12"
    }
  },
  "nbformat": 4,
  "nbformat_minor": 0
}