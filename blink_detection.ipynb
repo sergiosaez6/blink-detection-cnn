{
  "cells": [
    {
      "cell_type": "markdown",
      "metadata": {
        "id": "W43vhS-mQCf2"
      },
      "source": [
        "# **Deep Learning**\n",
        "## Blink detection"
      ]
    },
    {
      "cell_type": "markdown",
      "metadata": {
        "id": "rDSz5ZZEGK-m"
      },
      "source": [
        "## 1. PRIMERA APROXIMACIÓN\n",
        "\n",
        "Entrenar una CNN desde cero para la detección de parpadeo en una serie de imágenes."
      ]
    },
    {
      "cell_type": "markdown",
      "metadata": {
        "id": "481imW1oQTY7"
      },
      "source": [
        "### 1.1. Importar librerías\n",
        "Lo primero que vamos a hacer es cargar las librería necesarias: Numpy. Matplotlib, TensorFlow, Keras, Google Colab, Sklearn y Pandas .\n"
      ]
    },
    {
      "cell_type": "code",
      "execution_count": null,
      "metadata": {
        "id": "N9egJT9OQuBt"
      },
      "outputs": [],
      "source": [
        "import numpy as np\n",
        "import matplotlib.pyplot as plt\n",
        "\n",
        "import tensorflow as tf\n",
        "from tensorflow import keras\n",
        "\n",
        "from tensorflow.keras import applications\n",
        "from tensorflow.keras import optimizers\n",
        "from tensorflow.keras.models import Model, load_model\n",
        "from tensorflow.keras.layers import Input, GlobalAveragePooling2D, Dense, Conv2D, MaxPooling2D, Flatten, Dropout, Concatenate, BatchNormalization, ReLU\n",
        "\n",
        "from google.colab import drive\n",
        "from sklearn.model_selection import train_test_split\n",
        "\n",
        "import pandas as pd\n",
        "from keras.preprocessing.image import ImageDataGenerator"
      ]
    },
    {
      "cell_type": "code",
      "execution_count": null,
      "metadata": {
        "colab": {
          "base_uri": "https://localhost:8080/",
          "height": 35
        },
        "id": "q1B3l0LdsIkn",
        "outputId": "a90ba9dc-3deb-4cca-fca7-1d9f2257a084"
      },
      "outputs": [
        {
          "output_type": "execute_result",
          "data": {
            "text/plain": [
              "'/device:GPU:0'"
            ],
            "application/vnd.google.colaboratory.intrinsic+json": {
              "type": "string"
            }
          },
          "metadata": {},
          "execution_count": 2
        }
      ],
      "source": [
        "tf.test.gpu_device_name()"
      ]
    },
    {
      "cell_type": "code",
      "execution_count": null,
      "metadata": {
        "colab": {
          "base_uri": "https://localhost:8080/"
        },
        "id": "RLwZb-YSsBuH",
        "outputId": "b5f5f790-98ef-46d1-f147-8501e306fc98"
      },
      "outputs": [
        {
          "output_type": "execute_result",
          "data": {
            "text/plain": [
              "[name: \"/device:CPU:0\"\n",
              " device_type: \"CPU\"\n",
              " memory_limit: 268435456\n",
              " locality {\n",
              " }\n",
              " incarnation: 1321254335982589720\n",
              " xla_global_id: -1,\n",
              " name: \"/device:GPU:0\"\n",
              " device_type: \"GPU\"\n",
              " memory_limit: 14343274496\n",
              " locality {\n",
              "   bus_id: 1\n",
              "   links {\n",
              "   }\n",
              " }\n",
              " incarnation: 2892052887942070498\n",
              " physical_device_desc: \"device: 0, name: Tesla T4, pci bus id: 0000:00:04.0, compute capability: 7.5\"\n",
              " xla_global_id: 416903419]"
            ]
          },
          "metadata": {},
          "execution_count": 3
        }
      ],
      "source": [
        "from tensorflow.python.client import device_lib\n",
        "device_lib.list_local_devices()"
      ]
    },
    {
      "cell_type": "markdown",
      "source": [
        "Definimos la función generadora de las imágenes para cada ojo y etiquetas correspondientes:"
      ],
      "metadata": {
        "id": "vuPTiLHCFeaX"
      }
    },
    {
      "cell_type": "code",
      "execution_count": null,
      "metadata": {
        "id": "tlpzNIGlhJzO"
      },
      "outputs": [],
      "source": [
        "# Generador custom que devuelve las dos imagenes de ojos y el label del parpadeo\n",
        "def generator(dataframe):\n",
        "  left_eye_generator = datagen.flow_from_dataframe(dataframe=dataframe,\n",
        "                                                   directory = imgs_path,\n",
        "                                                   target_size =(img_width, img_height),\n",
        "                                                   x_col=left_eye_col,\n",
        "                                                   y_col=y_col,\n",
        "                                                   class_mode=\"binary\",\n",
        "                                                   seed=seed,\n",
        "                                                   batch_size=batch_size)\n",
        "  right_eye_generator = datagen.flow_from_dataframe(dataframe=dataframe,\n",
        "                                                    directory = imgs_path,\n",
        "                                                    target_size =(img_width, img_height),\n",
        "                                                    x_col=right_eye_col,\n",
        "                                                    y_col=y_col,\n",
        "                                                    class_mode=\"binary\",\n",
        "                                                    seed=seed,\n",
        "                                                    batch_size=batch_size)\n",
        "  while True:\n",
        "    left_eye = left_eye_generator.next()\n",
        "    left_eye_image = left_eye[0]\n",
        "    label = left_eye[1]\n",
        "    right_eye = right_eye_generator.next()\n",
        "    right_eye_image = right_eye[0]\n",
        "    yield [left_eye_image, right_eye_image], label"
      ]
    },
    {
      "cell_type": "markdown",
      "source": [
        "## 1.2. Lectura del dataset\n",
        "El siguiente paso consiste en la lectura del dataset y la construcción de un dataframe con las rutas a cada una de las imágenes y sus etiquetas asociadas."
      ],
      "metadata": {
        "id": "BZsDv_0gF-f4"
      }
    },
    {
      "cell_type": "markdown",
      "source": [
        "Se monta el Drive para acceder a nuestro conjunto de datos y descomprimir el fichero zip:"
      ],
      "metadata": {
        "id": "MUBh8zLLFk-v"
      }
    },
    {
      "cell_type": "code",
      "execution_count": null,
      "metadata": {
        "colab": {
          "base_uri": "https://localhost:8080/"
        },
        "id": "229pHB1hHK-Y",
        "outputId": "748d62f0-cc96-4e87-8903-11e69ae09c1a"
      },
      "outputs": [
        {
          "output_type": "stream",
          "name": "stdout",
          "text": [
            "Drive already mounted at /content/gdrive; to attempt to forcibly remount, call drive.mount(\"/content/gdrive\", force_remount=True).\n"
          ]
        }
      ],
      "source": [
        "drive.mount('/content/gdrive')\n",
        "!unzip -n '/content/gdrive/MyDrive/Colab Notebooks/Deep Learning/Trabajo final/RT-BENE.zip' >> /dev/null"
      ]
    },
    {
      "cell_type": "markdown",
      "source": [
        "A contiunación, leemos los datos y construimos el dataframe:"
      ],
      "metadata": {
        "id": "kPTksYKrFqGV"
      }
    },
    {
      "cell_type": "code",
      "source": [
        "data_path = 'RT-BENE/'\n",
        "imgs_path = data_path + 'images/'\n",
        "labels_path = data_path + 'blinks.csv'\n",
        "\n",
        "seed = 100\n",
        "\n",
        "train_data = pd.read_csv(labels_path, dtype=str) # Reading as string so the generator does not complain about the label (numeric being considered as an index)\n",
        "\n",
        "datagen = ImageDataGenerator(rescale=1./255,\n",
        "                             rotation_range=30,\n",
        "                             horizontal_flip=True,\n",
        "                             brightness_range=[0.9,1])\n",
        "                             #zoom_range=20,\n",
        "                             #width_shift_range=20)"
      ],
      "metadata": {
        "id": "oIv9Z4r6ycZY"
      },
      "execution_count": null,
      "outputs": []
    },
    {
      "cell_type": "markdown",
      "source": [
        "En las siguientes celdas, se realizan una serie de comprobaciones relativas a balanceo de clases:"
      ],
      "metadata": {
        "id": "AhlO8AZZGOJw"
      }
    },
    {
      "cell_type": "code",
      "execution_count": null,
      "metadata": {
        "colab": {
          "base_uri": "https://localhost:8080/"
        },
        "id": "YrMVcb7lHQ4f",
        "outputId": "a4db13a2-50a7-4fdc-c7d6-f670f9fe8ab2"
      },
      "outputs": [
        {
          "output_type": "stream",
          "name": "stdout",
          "text": [
            "0    102793\n",
            "1      4557\n",
            "Name: blink, dtype: int64\n"
          ]
        }
      ],
      "source": [
        "print(\"Initiially, we have the following instances per class: \")\n",
        "print(train_data['blink'].value_counts())"
      ]
    },
    {
      "cell_type": "markdown",
      "source": [
        "Debido al desbalanceo que hay, se opta por separar el dataframe en dos, uno por cada clase, para procesarlos de manera independiente:"
      ],
      "metadata": {
        "id": "8KpxVkLBGd_m"
      }
    },
    {
      "cell_type": "code",
      "execution_count": null,
      "metadata": {
        "id": "HqHvjG79set4"
      },
      "outputs": [],
      "source": [
        "blink = train_data.loc[train_data['blink']=='1'].reset_index()\n",
        "no_blink = train_data.loc[train_data['blink']=='0'].reset_index()"
      ]
    },
    {
      "cell_type": "code",
      "execution_count": null,
      "metadata": {
        "colab": {
          "base_uri": "https://localhost:8080/"
        },
        "id": "bhANSIHetIys",
        "outputId": "c4ee272e-96a7-44ea-dbe8-139d8898d8cb"
      },
      "outputs": [
        {
          "output_type": "stream",
          "name": "stdout",
          "text": [
            "4557\n"
          ]
        }
      ],
      "source": [
        "print(\"Blink instances: \" + blink.shape[0])\n",
        "print(\"No blink instances: \" + no_blink.shape[0])"
      ]
    },
    {
      "cell_type": "markdown",
      "source": [
        "Este desbalanceo se va a intentar combatir con un sobremuestreo de la clase minortaria y la introducción de un data augmentation en el ImageDaraGenerator definido anteriormente:"
      ],
      "metadata": {
        "id": "UqXKQlbHGzes"
      }
    },
    {
      "cell_type": "code",
      "source": [
        "print(sorted(blink['video'].value_counts(), reverse=True))"
      ],
      "metadata": {
        "colab": {
          "base_uri": "https://localhost:8080/"
        },
        "id": "c7HchEc3w9pm",
        "outputId": "0f2574d6-3349-4082-978c-ac4a4eb17a13"
      },
      "execution_count": null,
      "outputs": [
        {
          "output_type": "stream",
          "name": "stdout",
          "text": [
            "[931, 789, 692, 459, 353, 295, 215, 167, 149, 130, 128, 110, 45, 42, 29, 23]\n"
          ]
        }
      ]
    },
    {
      "cell_type": "code",
      "source": [
        "conteo = blink['video'].value_counts()"
      ],
      "metadata": {
        "id": "meVFqhND0Ci3"
      },
      "execution_count": null,
      "outputs": []
    },
    {
      "cell_type": "code",
      "source": [
        "print(\"Blink instances per video: \")\n",
        "print(conteo)"
      ],
      "metadata": {
        "colab": {
          "base_uri": "https://localhost:8080/"
        },
        "id": "gDotCh9wy__n",
        "outputId": "5e3ff508-b38d-4984-e2a4-8f6032b8af07"
      },
      "execution_count": null,
      "outputs": [
        {
          "output_type": "stream",
          "name": "stdout",
          "text": [
            "0     931\n",
            "2     789\n",
            "11    692\n",
            "8     459\n",
            "10    353\n",
            "13    295\n",
            "14    215\n",
            "3     167\n",
            "7     149\n",
            "4     130\n",
            "1     128\n",
            "5     110\n",
            "9      45\n",
            "16     42\n",
            "15     29\n",
            "12     23\n",
            "Name: video, dtype: int64\n"
          ]
        }
      ]
    },
    {
      "cell_type": "code",
      "source": [
        "print(blink['video'].unique().tolist())"
      ],
      "metadata": {
        "colab": {
          "base_uri": "https://localhost:8080/"
        },
        "id": "hXYNI7jazp5V",
        "outputId": "08542cd5-29af-4c66-c931-07f6070ab808"
      },
      "execution_count": null,
      "outputs": [
        {
          "output_type": "stream",
          "name": "stdout",
          "text": [
            "['0', '1', '2', '3', '4', '5', '7', '8', '9', '10', '11', '12', '13', '14', '15', '16']\n"
          ]
        }
      ]
    },
    {
      "cell_type": "code",
      "source": [
        "print(\"No blink instances per video: \")\n",
        "print(no_blink['video'].value_counts())"
      ],
      "metadata": {
        "colab": {
          "base_uri": "https://localhost:8080/"
        },
        "id": "fJWa6yWhxB2d",
        "outputId": "7bd07528-2796-451a-e0f6-97b4b44bccad"
      },
      "execution_count": null,
      "outputs": [
        {
          "output_type": "stream",
          "name": "stdout",
          "text": [
            "10    16206\n",
            "11    12125\n",
            "0     11934\n",
            "13     9291\n",
            "1      8543\n",
            "2      7913\n",
            "8      5649\n",
            "5      5245\n",
            "14     5156\n",
            "4      4620\n",
            "16     4507\n",
            "9      4165\n",
            "3      3038\n",
            "15     1781\n",
            "7      1708\n",
            "12      912\n",
            "Name: video, dtype: int64\n"
          ]
        }
      ]
    },
    {
      "cell_type": "markdown",
      "source": [
        "El sobremuestreo se va a realizar de tal manera que se van a replicar las rutas de las imágenes a la clase minoritaria, y posteriormente se transformarán con el ImageDataGenerator de tal manera que los ejemplos son diferentes aunque se elija un mismo fichero de imagen.\n",
        "\n",
        "Además, esta replicación se va a hacer por vídeo, de tal manera que tengamos el mismo número de ejemplo de parpadeo y no parpadeo también por vídeo. Esto se ha decidido ya que al revisar el dataset, se ha visto que de un vídeo a otro puede cambiar el brillo, la orientación y la persona, por lo que de esta manera se equilibran también los ejemplos para cada una de las características.\n"
      ],
      "metadata": {
        "id": "x3NEM0XOHLUf"
      }
    },
    {
      "cell_type": "code",
      "source": [
        "def replicate_dataframe(dataframe, target_size):\n",
        "    num_replications = target_size // len(dataframe) + 1\n",
        "    replicated_dataframe = pd.concat([dataframe] * num_replications, ignore_index=True)\n",
        "    return replicated_dataframe[:target_size]\n"
      ],
      "metadata": {
        "id": "XQlXSDtPuoA8"
      },
      "execution_count": null,
      "outputs": []
    },
    {
      "cell_type": "code",
      "source": [
        "def balance_classes(new_blink, blink, no_blink):\n",
        "  blink_count = blink['video'].value_counts()\n",
        "  no_blink_count = no_blink['video'].value_counts()\n",
        "\n",
        "  blink_videos = blink['video'].unique().tolist()\n",
        "  no_blink_videos = no_blink['video'].unique().tolist()\n",
        "\n",
        "  for video_id in blink_videos:\n",
        "    no_blink_value = no_blink_count[video_id]\n",
        "\n",
        "    df = replicate_dataframe(blink[blink['video']==video_id],no_blink_value-blink_count[video_id])\n",
        "    new_blink = pd.concat([new_blink, df], ignore_index=True)\n",
        "  \n",
        "  return new_blink"
      ],
      "metadata": {
        "id": "3VWzLH2Szb8m"
      },
      "execution_count": null,
      "outputs": []
    },
    {
      "cell_type": "code",
      "source": [
        "new_blink = blink.copy()\n",
        "blink_augmented = balance_classes(new_blink, blink, no_blink)\n",
        "blink_augmented = blink_augmented.reset_index()"
      ],
      "metadata": {
        "id": "0bF1IVOc1PJX"
      },
      "execution_count": null,
      "outputs": []
    },
    {
      "cell_type": "markdown",
      "source": [
        "Ahora, como se puede ver, tenemos el mismo número de ejemplos de parpadeo y no parpadeo, no solamente en todo el dataset, sino también por vídeo."
      ],
      "metadata": {
        "id": "ouC1Su7mILbX"
      }
    },
    {
      "cell_type": "code",
      "source": [
        "print(blink_augmented.shape[0])"
      ],
      "metadata": {
        "colab": {
          "base_uri": "https://localhost:8080/"
        },
        "id": "lT64r4Au1ycX",
        "outputId": "5589009e-14fe-4e8e-d2d9-fbf9471ad5aa"
      },
      "execution_count": null,
      "outputs": [
        {
          "output_type": "stream",
          "name": "stdout",
          "text": [
            "102793\n"
          ]
        }
      ]
    },
    {
      "cell_type": "code",
      "source": [
        "blink_augmented.iloc[:-10]"
      ],
      "metadata": {
        "colab": {
          "base_uri": "https://localhost:8080/",
          "height": 424
        },
        "id": "oCfAQo6cuzHk",
        "outputId": "13ad5b6c-e6bf-41ba-ebed-a7d022a3f444"
      },
      "execution_count": null,
      "outputs": [
        {
          "output_type": "execute_result",
          "data": {
            "text/plain": [
              "        level_0   index blink_id                left_eye  \\\n",
              "0             0     160      160   0_left_000161_rgb.png   \n",
              "1             1     161      161   0_left_000162_rgb.png   \n",
              "2             2     162      162   0_left_000163_rgb.png   \n",
              "3             3     163      163   0_left_000164_rgb.png   \n",
              "4             4     164      164   0_left_000165_rgb.png   \n",
              "...         ...     ...      ...                     ...   \n",
              "102778   102778  106177   106177  16_left_007157_rgb.png   \n",
              "102779   102779  106178   106178  16_left_007158_rgb.png   \n",
              "102780   102780  102980   102980  16_left_000182_rgb.png   \n",
              "102781   102781  104178   104178  16_left_003462_rgb.png   \n",
              "102782   102782  104179   104179  16_left_003463_rgb.png   \n",
              "\n",
              "                      right_eye video blink  \n",
              "0        0_right_000161_rgb.png     0     1  \n",
              "1        0_right_000162_rgb.png     0     1  \n",
              "2        0_right_000163_rgb.png     0     1  \n",
              "3        0_right_000164_rgb.png     0     1  \n",
              "4        0_right_000165_rgb.png     0     1  \n",
              "...                         ...   ...   ...  \n",
              "102778  16_right_007157_rgb.png    16     1  \n",
              "102779  16_right_007158_rgb.png    16     1  \n",
              "102780  16_right_000182_rgb.png    16     1  \n",
              "102781  16_right_003462_rgb.png    16     1  \n",
              "102782  16_right_003463_rgb.png    16     1  \n",
              "\n",
              "[102783 rows x 7 columns]"
            ],
            "text/html": [
              "\n",
              "  <div id=\"df-b42e269f-298c-4a69-be34-28a8a4a00a99\">\n",
              "    <div class=\"colab-df-container\">\n",
              "      <div>\n",
              "<style scoped>\n",
              "    .dataframe tbody tr th:only-of-type {\n",
              "        vertical-align: middle;\n",
              "    }\n",
              "\n",
              "    .dataframe tbody tr th {\n",
              "        vertical-align: top;\n",
              "    }\n",
              "\n",
              "    .dataframe thead th {\n",
              "        text-align: right;\n",
              "    }\n",
              "</style>\n",
              "<table border=\"1\" class=\"dataframe\">\n",
              "  <thead>\n",
              "    <tr style=\"text-align: right;\">\n",
              "      <th></th>\n",
              "      <th>level_0</th>\n",
              "      <th>index</th>\n",
              "      <th>blink_id</th>\n",
              "      <th>left_eye</th>\n",
              "      <th>right_eye</th>\n",
              "      <th>video</th>\n",
              "      <th>blink</th>\n",
              "    </tr>\n",
              "  </thead>\n",
              "  <tbody>\n",
              "    <tr>\n",
              "      <th>0</th>\n",
              "      <td>0</td>\n",
              "      <td>160</td>\n",
              "      <td>160</td>\n",
              "      <td>0_left_000161_rgb.png</td>\n",
              "      <td>0_right_000161_rgb.png</td>\n",
              "      <td>0</td>\n",
              "      <td>1</td>\n",
              "    </tr>\n",
              "    <tr>\n",
              "      <th>1</th>\n",
              "      <td>1</td>\n",
              "      <td>161</td>\n",
              "      <td>161</td>\n",
              "      <td>0_left_000162_rgb.png</td>\n",
              "      <td>0_right_000162_rgb.png</td>\n",
              "      <td>0</td>\n",
              "      <td>1</td>\n",
              "    </tr>\n",
              "    <tr>\n",
              "      <th>2</th>\n",
              "      <td>2</td>\n",
              "      <td>162</td>\n",
              "      <td>162</td>\n",
              "      <td>0_left_000163_rgb.png</td>\n",
              "      <td>0_right_000163_rgb.png</td>\n",
              "      <td>0</td>\n",
              "      <td>1</td>\n",
              "    </tr>\n",
              "    <tr>\n",
              "      <th>3</th>\n",
              "      <td>3</td>\n",
              "      <td>163</td>\n",
              "      <td>163</td>\n",
              "      <td>0_left_000164_rgb.png</td>\n",
              "      <td>0_right_000164_rgb.png</td>\n",
              "      <td>0</td>\n",
              "      <td>1</td>\n",
              "    </tr>\n",
              "    <tr>\n",
              "      <th>4</th>\n",
              "      <td>4</td>\n",
              "      <td>164</td>\n",
              "      <td>164</td>\n",
              "      <td>0_left_000165_rgb.png</td>\n",
              "      <td>0_right_000165_rgb.png</td>\n",
              "      <td>0</td>\n",
              "      <td>1</td>\n",
              "    </tr>\n",
              "    <tr>\n",
              "      <th>...</th>\n",
              "      <td>...</td>\n",
              "      <td>...</td>\n",
              "      <td>...</td>\n",
              "      <td>...</td>\n",
              "      <td>...</td>\n",
              "      <td>...</td>\n",
              "      <td>...</td>\n",
              "    </tr>\n",
              "    <tr>\n",
              "      <th>102778</th>\n",
              "      <td>102778</td>\n",
              "      <td>106177</td>\n",
              "      <td>106177</td>\n",
              "      <td>16_left_007157_rgb.png</td>\n",
              "      <td>16_right_007157_rgb.png</td>\n",
              "      <td>16</td>\n",
              "      <td>1</td>\n",
              "    </tr>\n",
              "    <tr>\n",
              "      <th>102779</th>\n",
              "      <td>102779</td>\n",
              "      <td>106178</td>\n",
              "      <td>106178</td>\n",
              "      <td>16_left_007158_rgb.png</td>\n",
              "      <td>16_right_007158_rgb.png</td>\n",
              "      <td>16</td>\n",
              "      <td>1</td>\n",
              "    </tr>\n",
              "    <tr>\n",
              "      <th>102780</th>\n",
              "      <td>102780</td>\n",
              "      <td>102980</td>\n",
              "      <td>102980</td>\n",
              "      <td>16_left_000182_rgb.png</td>\n",
              "      <td>16_right_000182_rgb.png</td>\n",
              "      <td>16</td>\n",
              "      <td>1</td>\n",
              "    </tr>\n",
              "    <tr>\n",
              "      <th>102781</th>\n",
              "      <td>102781</td>\n",
              "      <td>104178</td>\n",
              "      <td>104178</td>\n",
              "      <td>16_left_003462_rgb.png</td>\n",
              "      <td>16_right_003462_rgb.png</td>\n",
              "      <td>16</td>\n",
              "      <td>1</td>\n",
              "    </tr>\n",
              "    <tr>\n",
              "      <th>102782</th>\n",
              "      <td>102782</td>\n",
              "      <td>104179</td>\n",
              "      <td>104179</td>\n",
              "      <td>16_left_003463_rgb.png</td>\n",
              "      <td>16_right_003463_rgb.png</td>\n",
              "      <td>16</td>\n",
              "      <td>1</td>\n",
              "    </tr>\n",
              "  </tbody>\n",
              "</table>\n",
              "<p>102783 rows × 7 columns</p>\n",
              "</div>\n",
              "      <button class=\"colab-df-convert\" onclick=\"convertToInteractive('df-b42e269f-298c-4a69-be34-28a8a4a00a99')\"\n",
              "              title=\"Convert this dataframe to an interactive table.\"\n",
              "              style=\"display:none;\">\n",
              "        \n",
              "  <svg xmlns=\"http://www.w3.org/2000/svg\" height=\"24px\"viewBox=\"0 0 24 24\"\n",
              "       width=\"24px\">\n",
              "    <path d=\"M0 0h24v24H0V0z\" fill=\"none\"/>\n",
              "    <path d=\"M18.56 5.44l.94 2.06.94-2.06 2.06-.94-2.06-.94-.94-2.06-.94 2.06-2.06.94zm-11 1L8.5 8.5l.94-2.06 2.06-.94-2.06-.94L8.5 2.5l-.94 2.06-2.06.94zm10 10l.94 2.06.94-2.06 2.06-.94-2.06-.94-.94-2.06-.94 2.06-2.06.94z\"/><path d=\"M17.41 7.96l-1.37-1.37c-.4-.4-.92-.59-1.43-.59-.52 0-1.04.2-1.43.59L10.3 9.45l-7.72 7.72c-.78.78-.78 2.05 0 2.83L4 21.41c.39.39.9.59 1.41.59.51 0 1.02-.2 1.41-.59l7.78-7.78 2.81-2.81c.8-.78.8-2.07 0-2.86zM5.41 20L4 18.59l7.72-7.72 1.47 1.35L5.41 20z\"/>\n",
              "  </svg>\n",
              "      </button>\n",
              "      \n",
              "  <style>\n",
              "    .colab-df-container {\n",
              "      display:flex;\n",
              "      flex-wrap:wrap;\n",
              "      gap: 12px;\n",
              "    }\n",
              "\n",
              "    .colab-df-convert {\n",
              "      background-color: #E8F0FE;\n",
              "      border: none;\n",
              "      border-radius: 50%;\n",
              "      cursor: pointer;\n",
              "      display: none;\n",
              "      fill: #1967D2;\n",
              "      height: 32px;\n",
              "      padding: 0 0 0 0;\n",
              "      width: 32px;\n",
              "    }\n",
              "\n",
              "    .colab-df-convert:hover {\n",
              "      background-color: #E2EBFA;\n",
              "      box-shadow: 0px 1px 2px rgba(60, 64, 67, 0.3), 0px 1px 3px 1px rgba(60, 64, 67, 0.15);\n",
              "      fill: #174EA6;\n",
              "    }\n",
              "\n",
              "    [theme=dark] .colab-df-convert {\n",
              "      background-color: #3B4455;\n",
              "      fill: #D2E3FC;\n",
              "    }\n",
              "\n",
              "    [theme=dark] .colab-df-convert:hover {\n",
              "      background-color: #434B5C;\n",
              "      box-shadow: 0px 1px 3px 1px rgba(0, 0, 0, 0.15);\n",
              "      filter: drop-shadow(0px 1px 2px rgba(0, 0, 0, 0.3));\n",
              "      fill: #FFFFFF;\n",
              "    }\n",
              "  </style>\n",
              "\n",
              "      <script>\n",
              "        const buttonEl =\n",
              "          document.querySelector('#df-b42e269f-298c-4a69-be34-28a8a4a00a99 button.colab-df-convert');\n",
              "        buttonEl.style.display =\n",
              "          google.colab.kernel.accessAllowed ? 'block' : 'none';\n",
              "\n",
              "        async function convertToInteractive(key) {\n",
              "          const element = document.querySelector('#df-b42e269f-298c-4a69-be34-28a8a4a00a99');\n",
              "          const dataTable =\n",
              "            await google.colab.kernel.invokeFunction('convertToInteractive',\n",
              "                                                     [key], {});\n",
              "          if (!dataTable) return;\n",
              "\n",
              "          const docLinkHtml = 'Like what you see? Visit the ' +\n",
              "            '<a target=\"_blank\" href=https://colab.research.google.com/notebooks/data_table.ipynb>data table notebook</a>'\n",
              "            + ' to learn more about interactive tables.';\n",
              "          element.innerHTML = '';\n",
              "          dataTable['output_type'] = 'display_data';\n",
              "          await google.colab.output.renderOutput(dataTable, element);\n",
              "          const docLink = document.createElement('div');\n",
              "          docLink.innerHTML = docLinkHtml;\n",
              "          element.appendChild(docLink);\n",
              "        }\n",
              "      </script>\n",
              "    </div>\n",
              "  </div>\n",
              "  "
            ]
          },
          "metadata": {},
          "execution_count": 22
        }
      ]
    },
    {
      "cell_type": "code",
      "source": [
        "print(blink_augmented['video'].value_counts())"
      ],
      "metadata": {
        "colab": {
          "base_uri": "https://localhost:8080/"
        },
        "id": "x5DeIqz72brP",
        "outputId": "35687c7a-1988-4d52-cd1c-124503d1aaa5"
      },
      "execution_count": null,
      "outputs": [
        {
          "output_type": "stream",
          "name": "stdout",
          "text": [
            "10    16206\n",
            "11    12125\n",
            "0     11934\n",
            "13     9291\n",
            "1      8543\n",
            "2      7913\n",
            "8      5649\n",
            "5      5245\n",
            "14     5156\n",
            "4      4620\n",
            "16     4507\n",
            "9      4165\n",
            "3      3038\n",
            "15     1781\n",
            "7      1708\n",
            "12      912\n",
            "Name: video, dtype: int64\n"
          ]
        }
      ]
    },
    {
      "cell_type": "code",
      "source": [
        "print(no_blink['video'].value_counts())"
      ],
      "metadata": {
        "colab": {
          "base_uri": "https://localhost:8080/"
        },
        "id": "ujh1Vqli2jA3",
        "outputId": "3a6a0cf1-5b62-4900-e61f-c8eb2865006a"
      },
      "execution_count": null,
      "outputs": [
        {
          "output_type": "stream",
          "name": "stdout",
          "text": [
            "10    16206\n",
            "11    12125\n",
            "0     11934\n",
            "13     9291\n",
            "1      8543\n",
            "2      7913\n",
            "8      5649\n",
            "5      5245\n",
            "14     5156\n",
            "4      4620\n",
            "16     4507\n",
            "9      4165\n",
            "3      3038\n",
            "15     1781\n",
            "7      1708\n",
            "12      912\n",
            "Name: video, dtype: int64\n"
          ]
        }
      ]
    },
    {
      "cell_type": "markdown",
      "source": [
        "Finalmente, juntamos todos los ejemplos de parpadeo y no parpadeo, confirmando nuestro dataset aumentado:"
      ],
      "metadata": {
        "id": "-19DelXEIS1Q"
      }
    },
    {
      "cell_type": "code",
      "source": [
        "train_data_aug=pd.concat([blink_augmented,no_blink], axis=0, ignore_index=True)\n",
        "print(\"Total number of intstances in the augmented dataset: \" + train_data_aug.shape[0])"
      ],
      "metadata": {
        "colab": {
          "base_uri": "https://localhost:8080/"
        },
        "id": "9u_EUHcgvnU8",
        "outputId": "17670e27-673c-4c2a-e3a1-3c187a13d2dd"
      },
      "execution_count": null,
      "outputs": [
        {
          "output_type": "stream",
          "name": "stdout",
          "text": [
            "205586\n"
          ]
        }
      ]
    },
    {
      "cell_type": "code",
      "source": [
        "print(train_data_aug['blink'].value_counts())"
      ],
      "metadata": {
        "colab": {
          "base_uri": "https://localhost:8080/"
        },
        "id": "HIxhcRnk-IJ3",
        "outputId": "db32d3a4-56d6-428a-9443-0d3498213bb6"
      },
      "execution_count": null,
      "outputs": [
        {
          "output_type": "stream",
          "name": "stdout",
          "text": [
            "1    102793\n",
            "0    102793\n",
            "Name: blink, dtype: int64\n"
          ]
        }
      ]
    },
    {
      "cell_type": "code",
      "source": [
        "train_data_aug = train_data_aug[::2]"
      ],
      "metadata": {
        "id": "NBoqxjz_r7zM"
      },
      "execution_count": null,
      "outputs": []
    },
    {
      "cell_type": "code",
      "source": [
        "print(train_data_aug['blink'].value_counts())"
      ],
      "metadata": {
        "colab": {
          "base_uri": "https://localhost:8080/"
        },
        "id": "SigOiQ2asCq7",
        "outputId": "17639158-1d86-4e8b-a500-493613671067"
      },
      "execution_count": null,
      "outputs": [
        {
          "output_type": "stream",
          "name": "stdout",
          "text": [
            "1    51397\n",
            "0    51396\n",
            "Name: blink, dtype: int64\n"
          ]
        }
      ]
    },
    {
      "cell_type": "markdown",
      "source": [
        "## 1.3. Entrenamiento del modelo\n",
        "\n",
        "A continuación, se van a separar los datos enconjuntos de entrenamiento, validación y test para entrenar a la red."
      ],
      "metadata": {
        "id": "jEFmxlH-I8Oo"
      }
    },
    {
      "cell_type": "code",
      "execution_count": null,
      "metadata": {
        "id": "NMthZLjXYmyU"
      },
      "outputs": [],
      "source": [
        "train_data, test_data = train_test_split(train_data_aug, test_size=0.3, random_state=seed, stratify=train_data_aug['blink'])\n",
        "dev_data, test_data = train_test_split(test_data, test_size=0.5, random_state=seed, stratify=test_data['blink'])\n",
        "\n",
        "train_data = train_data.reset_index(drop=True)\n",
        "dev_data = dev_data.reset_index(drop=True)\n",
        "test_data = test_data.reset_index(drop=True)\n",
        "\n",
        "left_eye_col = 'left_eye'\n",
        "right_eye_col = 'right_eye'\n",
        "y_col = 'blink'\n",
        "\n",
        "batch_size = 256\n",
        "img_width = 60\n",
        "img_height = 36\n",
        "\n",
        "train_generator = generator(train_data)\n",
        "dev_generator = generator(dev_data)\n",
        "test_generator = generator(test_data)"
      ]
    },
    {
      "cell_type": "markdown",
      "source": [
        "Tras separar los datos, comprobamos que efectivamente, el equilibrio entre clases se mantiene en buena medida:"
      ],
      "metadata": {
        "id": "JaQjQBwwKGKh"
      }
    },
    {
      "cell_type": "code",
      "source": [
        "print(\"Total number of training instances per class: \")\n",
        "print(train_data['blink'].value_counts())"
      ],
      "metadata": {
        "colab": {
          "base_uri": "https://localhost:8080/"
        },
        "id": "TGnx_m3a-Bfg",
        "outputId": "73f5dd03-6889-4f44-9857-2b6d601a5796"
      },
      "execution_count": null,
      "outputs": [
        {
          "output_type": "stream",
          "name": "stdout",
          "text": [
            "1    35978\n",
            "0    35977\n",
            "Name: blink, dtype: int64\n"
          ]
        }
      ]
    },
    {
      "cell_type": "code",
      "source": [
        "print(\"Total number of training blinks per video:\")\n",
        "print(train_data[train_data['blink']=='1']['video'].value_counts())\n",
        "\n",
        "print(\"\\nTotal number of training no blink per video: \")\n",
        "print(train_data[train_data['blink']=='0']['video'].value_counts())"
      ],
      "metadata": {
        "colab": {
          "base_uri": "https://localhost:8080/"
        },
        "id": "vJSwqpg59GKJ",
        "outputId": "eade1d77-9512-463a-fde2-8269a5d7e3b8"
      },
      "execution_count": null,
      "outputs": [
        {
          "output_type": "stream",
          "name": "stdout",
          "text": [
            "10    5706\n",
            "11    4303\n",
            "0     4177\n",
            "13    3228\n",
            "1     2955\n",
            "2     2758\n",
            "8     1966\n",
            "14    1786\n",
            "5     1783\n",
            "4     1630\n",
            "16    1574\n",
            "9     1489\n",
            "3     1076\n",
            "15     627\n",
            "7      604\n",
            "12     316\n",
            "Name: video, dtype: int64\n"
          ]
        }
      ]
    },
    {
      "cell_type": "markdown",
      "source": [
        "Se visualizan algunas de las imágenes de entrenamiento junto con sus etiquetas:\n"
      ],
      "metadata": {
        "id": "qgr-DNTCJLDX"
      }
    },
    {
      "cell_type": "code",
      "execution_count": null,
      "metadata": {
        "colab": {
          "base_uri": "https://localhost:8080/",
          "height": 894
        },
        "id": "zEvRPN1gAQVK",
        "outputId": "39a37f9e-13c5-4299-d036-23063536baa7"
      },
      "outputs": [
        {
          "output_type": "stream",
          "name": "stdout",
          "text": [
            "Found 143910 validated image filenames belonging to 2 classes.\n",
            "Found 143910 validated image filenames belonging to 2 classes.\n",
            "0.0\n",
            "0.0\n",
            "1.0\n"
          ]
        },
        {
          "output_type": "display_data",
          "data": {
            "text/plain": [
              "<Figure size 1000x1000 with 6 Axes>"
            ],
            "image/png": "[encoded data removed]"
          },
          "metadata": {}
        }
      ],
      "source": [
        "aug_iter = generator(train_data)\n",
        "fig, ax = plt.subplots(nrows=3,ncols=2,figsize=(10,10))\n",
        "\n",
        "for i in range(3):\n",
        "  eye = next(aug_iter)\n",
        "  left_eye_image = eye[0][0][i]\n",
        "  right_eye_image = eye[0][1][i]\n",
        "\n",
        "  ax[i,0].imshow(right_eye_image)\n",
        "  ax[i,1].imshow(left_eye_image)\n",
        "  ax[i,0].axis('off')\n",
        "  ax[i,1].axis('off')\n",
        "\n",
        "  ax[i,0].set_title(f'Data augmented left eye (instance: {i}, label: {eye[1][i]}')\n",
        "  ax[i,1].set_title(f'Data augmented right eye (instance: {i}, label: {eye[1][i]}')"
      ]
    },
    {
      "cell_type": "markdown",
      "source": [
        "El entrenamiento de la red se va a realizar utilizando el F1-Score como medida de evaluación. para ello, es necesario instalar el módulo 'tfa' de los 'tensorflow_addons'"
      ],
      "metadata": {
        "id": "UZA5gPnaKfmA"
      }
    },
    {
      "cell_type": "code",
      "execution_count": null,
      "metadata": {
        "colab": {
          "base_uri": "https://localhost:8080/"
        },
        "id": "DbL2bA5g26RB",
        "outputId": "ed7a9330-eaff-406e-b06f-a3679ce2cc3a"
      },
      "outputs": [
        {
          "output_type": "stream",
          "name": "stdout",
          "text": [
            "Looking in indexes: https://pypi.org/simple, https://us-python.pkg.dev/colab-wheels/public/simple/\n",
            "Requirement already satisfied: pip in /usr/local/lib/python3.10/dist-packages (23.1.2)\n",
            "\u001b[33mWARNING: Running pip as the 'root' user can result in broken permissions and conflicting behaviour with the system package manager. It is recommended to use a virtual environment instead: https://pip.pypa.io/warnings/venv\u001b[0m\u001b[33m\n",
            "\u001b[0mLooking in indexes: https://pypi.org/simple, https://us-python.pkg.dev/colab-wheels/public/simple/\n",
            "Requirement already satisfied: tfa-nightly in /usr/local/lib/python3.10/dist-packages (0.21.0.dev20230418145214)\n",
            "Requirement already satisfied: packaging in /usr/local/lib/python3.10/dist-packages (from tfa-nightly) (23.1)\n",
            "Requirement already satisfied: typeguard<3.0.0,>=2.7 in /usr/local/lib/python3.10/dist-packages (from tfa-nightly) (2.13.3)\n",
            "\u001b[33mWARNING: Running pip as the 'root' user can result in broken permissions and conflicting behaviour with the system package manager. It is recommended to use a virtual environment instead: https://pip.pypa.io/warnings/venv\u001b[0m\u001b[33m\n",
            "\u001b[0m"
          ]
        }
      ],
      "source": [
        "!pip3 install --upgrade pip\n",
        "!pip3 install tfa-nightly"
      ]
    },
    {
      "cell_type": "code",
      "source": [
        "import tensorflow_addons as tfa\n",
        "\n",
        "def f1_score(y_true,y_pred):\n",
        "  metric = tfa.metrics.F1Score(num_classes=1, threshold=0.25)\n",
        "\n",
        "  metric.update_state(y_true, y_pred)\n",
        "  result = metric.result()\n",
        "\n",
        "  return result.numpy()"
      ],
      "metadata": {
        "id": "2QaPCkmgxyoY",
        "colab": {
          "base_uri": "https://localhost:8080/"
        },
        "outputId": "099b80b0-1472-4780-c326-b677ff224bc3"
      },
      "execution_count": null,
      "outputs": [
        {
          "output_type": "stream",
          "name": "stderr",
          "text": [
            "/usr/local/lib/python3.10/dist-packages/tensorflow_addons/utils/tfa_eol_msg.py:23: UserWarning: \n",
            "\n",
            "TensorFlow Addons (TFA) has ended development and introduction of new features.\n",
            "TFA has entered a minimal maintenance and release mode until a planned end of life in May 2024.\n",
            "Please modify downstream libraries to take dependencies from other repositories in our TensorFlow community (e.g. Keras, Keras-CV, and Keras-NLP). \n",
            "\n",
            "For more information see: https://github.com/tensorflow/addons/issues/2807 \n",
            "\n",
            "  warnings.warn(\n"
          ]
        }
      ]
    },
    {
      "cell_type": "markdown",
      "source": [
        "Definimos el modelo de la red neuronal convolucional:\n",
        "- Dos capas de entrada (ojo izquierdo y derecho)\n",
        "- Capa de concatenación para juntar en una sola las dos imágenes. La concatenación se hace en la primera dimensión, es decir, se concatenan horizontalmente.\n",
        "- Dos capas convolucionales (16@3x3 y 32@3x3) con una regularización Dropout al 50%.\n",
        "- Una capa plana para juntar todas las careacterísticas latentes extraídas por la red\n",
        "- Una capa densa, que procesará de menra conjunta las características latentes.\n",
        "- Una capa de salida con una única neurona y activación sigmoide (caso típico de clasificación binaria sin utilizar one-hot encoding)."
      ],
      "metadata": {
        "id": "OW_aaHHsKutS"
      }
    },
    {
      "cell_type": "code",
      "execution_count": null,
      "metadata": {
        "id": "XomXY4jPbBYy"
      },
      "outputs": [],
      "source": [
        "input_shape = (60, 36, 3)\n",
        "# Declaramos dos capas de Input\n",
        "input_1 = Input(name='left_eye', shape=input_shape)\n",
        "input_2 = Input(name='right_eye', shape=input_shape)\n",
        "\n",
        "concat_layer= Concatenate(name='concat', axis=1)([input_1, input_2])\n",
        "\n",
        "conv_1 = Conv2D(16, 3, name='conv1', activation='relu', padding='same', input_shape=(img_width,img_height,3))(concat_layer)\n",
        "#bn_1_1 = BatchNormalization()(conv_1_1)\n",
        "#re_1_1 = ReLU()(bn_1_1)\n",
        "dr_1 = Dropout(0.5)(conv_1)\n",
        "max_1 = MaxPooling2D(name='max1', pool_size=2, strides=2)(dr_1)\n",
        "\n",
        "conv_2 = Conv2D(16, 3, name='conv2', activation='relu', padding='same')(max_1)\n",
        "dr_2 = Dropout(0.5)(conv_2)\n",
        "max_2 = MaxPooling2D(name='max2', pool_size=3, strides=3)(dr_2)\n",
        "\n",
        "#conv_3 = Conv2D(64, 3, name='conv3', activation='relu', padding='valid')(max_2)\n",
        "#dr_3 = Dropout(0.5)(conv_3)\n",
        "#max_3 = MaxPooling2D(name='max3', pool_size=3, strides=3)(dr_3)\n",
        "\n",
        "flat_layer_1 = Flatten(name='flat')(max_2)\n",
        "\n",
        "dense_1 = Dense(16, name='dense1', activation='relu')(flat_layer_1)\n",
        "#dense_2 = Dense(150, name='dense2', activation='relu')(dense_1)\n",
        "predictions = Dense(1, name='output', activation='sigmoid')(dense_1)\n",
        "\n",
        "# Creamos el modelo final y lo compilamos\n",
        "model = Model(inputs=[input_1, input_2], outputs=[predictions], name='blink_detector')\n",
        "# Compilamos el modelo\n",
        "model.compile(loss='binary_crossentropy',                # función de pérdida para problemas de clasificación binaria\n",
        "              optimizer=optimizers.Adam(learning_rate=1e-4),  # optimizador Adam\n",
        "              metrics=[tfa.metrics.F1Score(name='f1_score',num_classes=1,threshold=0.5,average='macro'),'accuracy'])"
      ]
    },
    {
      "cell_type": "code",
      "execution_count": null,
      "metadata": {
        "colab": {
          "base_uri": "https://localhost:8080/"
        },
        "id": "JF1RJn0Km97p",
        "outputId": "7ca4499c-bac5-46ec-c7a5-17467b64168c"
      },
      "outputs": [
        {
          "output_type": "stream",
          "name": "stdout",
          "text": [
            "Model: \"blink_detector\"\n",
            "__________________________________________________________________________________________________\n",
            " Layer (type)                   Output Shape         Param #     Connected to                     \n",
            "==================================================================================================\n",
            " left_eye (InputLayer)          [(None, 60, 36, 3)]  0           []                               \n",
            "                                                                                                  \n",
            " right_eye (InputLayer)         [(None, 60, 36, 3)]  0           []                               \n",
            "                                                                                                  \n",
            " concat (Concatenate)           (None, 120, 36, 3)   0           ['left_eye[0][0]',               \n",
            "                                                                  'right_eye[0][0]']              \n",
            "                                                                                                  \n",
            " conv1 (Conv2D)                 (None, 120, 36, 16)  448         ['concat[0][0]']                 \n",
            "                                                                                                  \n",
            " dropout (Dropout)              (None, 120, 36, 16)  0           ['conv1[0][0]']                  \n",
            "                                                                                                  \n",
            " max1 (MaxPooling2D)            (None, 60, 18, 16)   0           ['dropout[0][0]']                \n",
            "                                                                                                  \n",
            " conv2 (Conv2D)                 (None, 60, 18, 16)   2320        ['max1[0][0]']                   \n",
            "                                                                                                  \n",
            " dropout_1 (Dropout)            (None, 60, 18, 16)   0           ['conv2[0][0]']                  \n",
            "                                                                                                  \n",
            " max2 (MaxPooling2D)            (None, 20, 6, 16)    0           ['dropout_1[0][0]']              \n",
            "                                                                                                  \n",
            " flat (Flatten)                 (None, 1920)         0           ['max2[0][0]']                   \n",
            "                                                                                                  \n",
            " dense1 (Dense)                 (None, 16)           30736       ['flat[0][0]']                   \n",
            "                                                                                                  \n",
            " output (Dense)                 (None, 1)            17          ['dense1[0][0]']                 \n",
            "                                                                                                  \n",
            "==================================================================================================\n",
            "Total params: 33,521\n",
            "Trainable params: 33,521\n",
            "Non-trainable params: 0\n",
            "__________________________________________________________________________________________________\n"
          ]
        }
      ],
      "source": [
        "model.summary()"
      ]
    },
    {
      "cell_type": "code",
      "execution_count": null,
      "metadata": {
        "colab": {
          "base_uri": "https://localhost:8080/",
          "height": 1000
        },
        "id": "sH29LCWzFOep",
        "outputId": "21237728-b464-4c48-8431-af6dd597cb96"
      },
      "outputs": [
        {
          "output_type": "execute_result",
          "data": {
            "image/png": "[encoded data removed]",
            "text/plain": [
              "<IPython.core.display.Image object>"
            ]
          },
          "metadata": {},
          "execution_count": 38
        }
      ],
      "source": [
        "keras.utils.plot_model(model, to_file='model.png')"
      ]
    },
    {
      "cell_type": "code",
      "execution_count": null,
      "metadata": {
        "id": "jtTpQkoSGI1C"
      },
      "outputs": [],
      "source": [
        "## Función para mostrar la evolución de la pérdida durante el entrenamiento\n",
        "def plot_history(history):\n",
        "    plt.figure()\n",
        "    plt.xlabel('Epoch')\n",
        "    plt.ylabel('binary_crossentropy')\n",
        "    plt.plot(history.epoch, np.array(history.history['loss']),\n",
        "             label='Train Loss')\n",
        "    plt.legend()\n",
        "    plt.ylim([0, max(history.history['loss'])])"
      ]
    },
    {
      "cell_type": "markdown",
      "source": [
        "Como medida para evitar el overfitting, se aplica un early stopping al entrenamiento de la red. Este early stopping va a tomar como medida de referencia la pérdida en valdiación, y en cuanto detecte que esta no se mejora durante 5 épocas seguidas, parará el entrenamiento."
      ],
      "metadata": {
        "id": "4b2e7B-TMb5g"
      }
    },
    {
      "cell_type": "code",
      "source": [
        "from tensorflow.keras.callbacks import EarlyStopping\n",
        "\n",
        "# Definir el callback de EarlyStopping\n",
        "early_stopping = EarlyStopping(monitor='val_loss', patience=5, restore_best_weights=True)"
      ],
      "metadata": {
        "id": "q3osX-9xpWqD"
      },
      "execution_count": null,
      "outputs": []
    },
    {
      "cell_type": "markdown",
      "source": [
        "A continuación, se entrena el modelo y se grafica su evolución:"
      ],
      "metadata": {
        "id": "C715xZNmMpE4"
      }
    },
    {
      "cell_type": "code",
      "execution_count": null,
      "metadata": {
        "colab": {
          "base_uri": "https://localhost:8080/"
        },
        "id": "wdIo_Tg8oblC",
        "outputId": "b97e47c0-98fa-4cf5-bd2d-80eaf81e79f5"
      },
      "outputs": [
        {
          "output_type": "stream",
          "name": "stdout",
          "text": [
            "Found 71955 validated image filenames belonging to 2 classes.\n",
            "Found 71955 validated image filenames belonging to 2 classes.\n",
            "Epoch 1/20\n",
            "282/281 [==============================] - ETA: 0s - loss: 0.6500 - f1_score: 0.5959 - accuracy: 0.6206Found 15419 validated image filenames belonging to 2 classes.\n",
            "Found 15419 validated image filenames belonging to 2 classes.\n",
            "281/281 [==============================] - 334s 1s/step - loss: 0.6500 - f1_score: 0.5959 - accuracy: 0.6206 - val_loss: 0.6763 - val_f1_score: 0.6915 - val_accuracy: 0.5844\n",
            "Epoch 2/20\n",
            "281/281 [==============================] - 264s 941ms/step - loss: 0.6026 - f1_score: 0.6819 - accuracy: 0.6818 - val_loss: 0.6304 - val_f1_score: 0.7833 - val_accuracy: 0.7512\n",
            "Epoch 3/20\n",
            "281/281 [==============================] - 261s 933ms/step - loss: 0.5031 - f1_score: 0.7716 - accuracy: 0.7684 - val_loss: 0.5747 - val_f1_score: 0.8255 - val_accuracy: 0.8015\n",
            "Epoch 4/20\n",
            "281/281 [==============================] - 257s 916ms/step - loss: 0.4355 - f1_score: 0.8116 - accuracy: 0.8064 - val_loss: 0.5335 - val_f1_score: 0.8388 - val_accuracy: 0.8194\n",
            "Epoch 5/20\n",
            "281/281 [==============================] - 292s 1s/step - loss: 0.3901 - f1_score: 0.8346 - accuracy: 0.8299 - val_loss: 0.5040 - val_f1_score: 0.8453 - val_accuracy: 0.8275\n",
            "Epoch 6/20\n",
            "281/281 [==============================] - 260s 930ms/step - loss: 0.3602 - f1_score: 0.8485 - accuracy: 0.8434 - val_loss: 0.4753 - val_f1_score: 0.8607 - val_accuracy: 0.8567\n",
            "Epoch 7/20\n",
            "281/281 [==============================] - 257s 918ms/step - loss: 0.3336 - f1_score: 0.8625 - accuracy: 0.8583 - val_loss: 0.4611 - val_f1_score: 0.8703 - val_accuracy: 0.8656\n",
            "Epoch 8/20\n",
            "281/281 [==============================] - 258s 920ms/step - loss: 0.3197 - f1_score: 0.8684 - accuracy: 0.8646 - val_loss: 0.4431 - val_f1_score: 0.8743 - val_accuracy: 0.8700\n",
            "Epoch 9/20\n",
            "281/281 [==============================] - 256s 913ms/step - loss: 0.3036 - f1_score: 0.8750 - accuracy: 0.8711 - val_loss: 0.4318 - val_f1_score: 0.8748 - val_accuracy: 0.8715\n",
            "Epoch 10/20\n",
            "281/281 [==============================] - 292s 1s/step - loss: 0.2951 - f1_score: 0.8787 - accuracy: 0.8752 - val_loss: 0.4210 - val_f1_score: 0.8743 - val_accuracy: 0.8659\n",
            "Epoch 11/20\n",
            "281/281 [==============================] - 295s 1s/step - loss: 0.2818 - f1_score: 0.8853 - accuracy: 0.8822 - val_loss: 0.4083 - val_f1_score: 0.8871 - val_accuracy: 0.8785\n",
            "Epoch 12/20\n",
            "281/281 [==============================] - 296s 1s/step - loss: 0.2752 - f1_score: 0.8875 - accuracy: 0.8845 - val_loss: 0.4056 - val_f1_score: 0.8828 - val_accuracy: 0.8799\n",
            "Epoch 13/20\n",
            "281/281 [==============================] - 297s 1s/step - loss: 0.2688 - f1_score: 0.8923 - accuracy: 0.8895 - val_loss: 0.3988 - val_f1_score: 0.8879 - val_accuracy: 0.8841\n",
            "Epoch 14/20\n",
            "281/281 [==============================] - 257s 916ms/step - loss: 0.2591 - f1_score: 0.8956 - accuracy: 0.8928 - val_loss: 0.3886 - val_f1_score: 0.8930 - val_accuracy: 0.8879\n",
            "Epoch 15/20\n",
            "281/281 [==============================] - 295s 1s/step - loss: 0.2528 - f1_score: 0.8975 - accuracy: 0.8949 - val_loss: 0.3891 - val_f1_score: 0.8909 - val_accuracy: 0.8896\n",
            "Epoch 16/20\n",
            "281/281 [==============================] - 298s 1s/step - loss: 0.2477 - f1_score: 0.9015 - accuracy: 0.8992 - val_loss: 0.3799 - val_f1_score: 0.8951 - val_accuracy: 0.8933\n",
            "Epoch 17/20\n",
            "281/281 [==============================] - 258s 921ms/step - loss: 0.2404 - f1_score: 0.9040 - accuracy: 0.9018 - val_loss: 0.3670 - val_f1_score: 0.8981 - val_accuracy: 0.8911\n",
            "Epoch 18/20\n",
            "281/281 [==============================] - 255s 910ms/step - loss: 0.2369 - f1_score: 0.9048 - accuracy: 0.9025 - val_loss: 0.3653 - val_f1_score: 0.9060 - val_accuracy: 0.9050\n",
            "Epoch 19/20\n",
            "281/281 [==============================] - 258s 921ms/step - loss: 0.2298 - f1_score: 0.9074 - accuracy: 0.9052 - val_loss: 0.3611 - val_f1_score: 0.9078 - val_accuracy: 0.9067\n",
            "Epoch 20/20\n",
            "281/281 [==============================] - 253s 903ms/step - loss: 0.2236 - f1_score: 0.9108 - accuracy: 0.9089 - val_loss: 0.3582 - val_f1_score: 0.9040 - val_accuracy: 0.9035\n"
          ]
        }
      ],
      "source": [
        "# Entrenamos el modelo con los datos preparados en el punto 2\n",
        "history = model.fit(train_generator,\n",
        "                    epochs=25,\n",
        "                    verbose=1,\n",
        "                    steps_per_epoch=len(train_data)/batch_size,\n",
        "                    validation_data=dev_generator,\n",
        "                    validation_steps=len(dev_data)/batch_size,\n",
        "                    callbacks=[early_stopping])"
      ]
    },
    {
      "cell_type": "code",
      "source": [
        "plot_history(history)"
      ],
      "metadata": {
        "id": "x3VBGySaqOND"
      },
      "execution_count": null,
      "outputs": []
    },
    {
      "cell_type": "markdown",
      "source": [
        "Finalmente, se evalúa el modelo entrenado:"
      ],
      "metadata": {
        "id": "9CqyxkCdMtQQ"
      }
    },
    {
      "cell_type": "code",
      "execution_count": null,
      "metadata": {
        "id": "p1JCYcicqGrH",
        "colab": {
          "base_uri": "https://localhost:8080/"
        },
        "outputId": "65735911-1914-43d2-9932-6a3932df7094"
      },
      "outputs": [
        {
          "output_type": "stream",
          "name": "stdout",
          "text": [
            "Found 15419 validated image filenames belonging to 2 classes.\n",
            "Found 15419 validated image filenames belonging to 2 classes.\n",
            "60/60 [==============================] - 47s 785ms/step - loss: 0.3582 - f1_score: 0.8990 - accuracy: 0.8988\n",
            "test_loss: 0.3582, test_f1: 0.8990, test_Accuracy: 0.8988\n"
          ]
        }
      ],
      "source": [
        "# Por último, podemos evaluar el modelo en el conjunto de test\n",
        "test_loss, test_f1, test_accuracy = model.evaluate(test_generator,\n",
        "                                     batch_size=batch_size,\n",
        "                                     steps=len(test_data)/batch_size,\n",
        "                                     verbose=1)\n",
        "print(f\"Test loss: {test_loss}\")\n",
        "print(f\"Test F1-Score: {test_f1}\")\n",
        "print(f\"Test accuracy: {test_accuracy}\")"
      ]
    },
    {
      "cell_type": "markdown",
      "source": [
        "\n",
        "\n",
        "---\n",
        "\n"
      ],
      "metadata": {
        "id": "OZ1kERzVRiAK"
      }
    },
    {
      "cell_type": "markdown",
      "source": [
        "## 2. SEGUNDA APROXIMACIÓN - TRANSFER LEARNING\n",
        "\n",
        "En esta ocasión, con los mismos datos que antes, se va utilizar una red pre-entrenada, que se adaptará con una capa de entrada otras a la salida.\n",
        "\n",
        "Solamente se entrenarán estas capas de salida durante la fase de entrenamiento, quedándose los pesos de la red original sin modificar."
      ],
      "metadata": {
        "id": "_wnqcujxRI1K"
      }
    },
    {
      "cell_type": "code",
      "source": [
        "# Cargamos el modelo InceptionV3 pre-entrenado con ImageNet\n",
        "base_model = applications.InceptionV3(weights='imagenet', include_top=False, input_shape=(img_width*2,img_height,3))\n",
        "\n",
        "# En el modelo base, hacemos que todas sus capas sean no entrenables\n",
        "for layer in base_model.layers:\n",
        "    layer.trainable = False\n",
        "\n",
        "# Añadimos las dos capas de entrada y la de concatenación, para adapatarlas al modelo base\n",
        "input_1 = Input(name='left_eye', shape=input_shape)\n",
        "input_2 = Input(name='right_eye', shape=input_shape)\n",
        "\n",
        "concat_transfer = Concatenate(name='concat', axis=1)([input_1, input_2])\n",
        "new_base = base_model(concat_transfer)\n",
        "\n",
        "# Añadimos nuevas capas al final para adaptar el modelo a nuestro problema\n",
        "x = new_base.output\n",
        "x = GlobalAveragePooling2D()(x)\n",
        "x = Dense(1024, activation='relu')(x)\n",
        "predictions_transfer = Dense(1, activation='sigmoid')(x) \n",
        "\n",
        "# Creamos el modelo final y lo compilamos\n",
        "model_transfer = Model(inputs=[input_1, input_2], outputs=[predictions_transfer], name='blink_detector_transfer')\n",
        "\n",
        "model_transfer.compile(loss='binary_crossentropy',\n",
        "              optimizer=optimizers.Adam(learning_rate=1e-4),\n",
        "              metrics=[tfa.metrics.F1Score(name='f1_score',num_classes=1,threshold=0.5,average='macro'),'accuracy'])"
      ],
      "metadata": {
        "id": "XnIVf0cfRg7r"
      },
      "execution_count": null,
      "outputs": []
    },
    {
      "cell_type": "code",
      "source": [
        "model_transfer.summary()"
      ],
      "metadata": {
        "id": "Al75zD0pWLMK"
      },
      "execution_count": null,
      "outputs": []
    },
    {
      "cell_type": "code",
      "source": [
        "keras.utils.plot_model(model_transfer, to_file='model_transfer.png')"
      ],
      "metadata": {
        "id": "52r7HACMWM3T"
      },
      "execution_count": null,
      "outputs": []
    },
    {
      "cell_type": "code",
      "source": [
        "# Entrenamos el nuevo modelo\n",
        "history_transfer = model_transfer.fit(train_generator,\n",
        "                    epochs=25,\n",
        "                    verbose=1,\n",
        "                    steps_per_epoch=len(train_data)/batch_size,\n",
        "                    validation_data=dev_generator,\n",
        "                    validation_steps=len(dev_data)/batch_size,\n",
        "                    callbacks=[early_stopping])"
      ],
      "metadata": {
        "id": "JdefcBA2WFXD"
      },
      "execution_count": null,
      "outputs": []
    },
    {
      "cell_type": "code",
      "source": [
        "# Mostramos la evolución de su entrenamiento\n",
        "plot_history(history_transfer)"
      ],
      "metadata": {
        "id": "nfq1edCdWQMU"
      },
      "execution_count": null,
      "outputs": []
    },
    {
      "cell_type": "code",
      "source": [
        "# Y finalmente, evaluamos el modelo en el conjunto de test\n",
        "print(\"\\n\")\n",
        "test_loss_transfer, test_f1_transfer, test_accuracy_transfer = model_transfer.evaluate(test_generator,\n",
        "                                                                                       steps=len(test_data)/batch_size,\n",
        "                                                                                       verbose=1)\n",
        "print(f\"Test loss (transfer learning): {test_loss_transfer}\")\n",
        "print(f\"Test F1-Score (transfer learning): {test_f1_transfer}\")\n",
        "print(f\"Test accuracy (transfer learning): {test_accuracy_transfer}\")"
      ],
      "metadata": {
        "id": "XoSQuCnrWR6v"
      },
      "execution_count": null,
      "outputs": []
    }
  ],
  "metadata": {
    "accelerator": "GPU",
    "colab": {
      "provenance": []
    },
    "gpuClass": "standard",
    "kernelspec": {
      "display_name": "Python 3",
      "name": "python3"
    }
  },
  "nbformat": 4,
  "nbformat_minor": 0
}